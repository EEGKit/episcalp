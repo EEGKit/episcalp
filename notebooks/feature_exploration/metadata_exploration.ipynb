{
 "cells": [
  {
   "cell_type": "markdown",
   "id": "d7e04dbb-99e8-4d4a-9efb-9dc7df733ac1",
   "metadata": {},
   "source": [
    "# Feature Exploration of our Datasets"
   ]
  },
  {
   "cell_type": "code",
   "execution_count": 1,
   "id": "afff20e8-7215-47e2-82d7-d973a64c4337",
   "metadata": {},
   "outputs": [],
   "source": [
    "%load_ext lab_black"
   ]
  },
  {
   "cell_type": "code",
   "execution_count": 45,
   "id": "eb434f52-e463-4bbf-b895-5a3902762be3",
   "metadata": {
    "tags": []
   },
   "outputs": [
    {
     "name": "stdout",
     "output_type": "stream",
     "text": [
      "The autoreload extension is already loaded. To reload it, use:\n",
      "  %reload_ext autoreload\n"
     ]
    }
   ],
   "source": [
    "import numpy as np\n",
    "import scipy\n",
    "import scipy.io\n",
    "import pandas as pd\n",
    "from pathlib import Path\n",
    "import os\n",
    "import collections\n",
    "from natsort import natsorted\n",
    "import json\n",
    "import pickle\n",
    "import warnings\n",
    "import sys\n",
    "from numpy import interp\n",
    "from pprint import pprint\n",
    "import sys\n",
    "import joblib\n",
    "\n",
    "from numpy.testing import assert_array_equal\n",
    "\n",
    "warnings.filterwarnings(\"ignore\")\n",
    "\n",
    "import mne\n",
    "from mne.time_frequency import read_tfrs\n",
    "\n",
    "mne.set_log_level(\"ERROR\")\n",
    "from mne_bids import BIDSPath, get_entities_from_fname, get_entity_vals, read_raw_bids\n",
    "\n",
    "from eztrack.io import read_derivative_npy\n",
    "\n",
    "sys.path.append(\"../../\")\n",
    "from episcalp.features import spike_feature_vector, heatmap_features\n",
    "from episcalp.io.read import (\n",
    "    load_persyst_spikes,\n",
    "    load_reject_log,\n",
    "    load_derivative_heatmaps,\n",
    "    map_rejectlog_to_deriv,\n",
    "    load_all_spatiotemporal_datasets,\n",
    ")\n",
    "from episcalp.preprocess.montage import _standard_lobes\n",
    "from episcalp.utils.utils import NumpyEncoder\n",
    "from episcalp.cross_validate import exclude_subjects, run_exhaustive_heatmap_evaluation\n",
    "\n",
    "# if you installed sporf via README\n",
    "from oblique_forests.sporf import ObliqueForestClassifier\n",
    "\n",
    "import matplotlib as mpl\n",
    "import matplotlib.pyplot as plt\n",
    "import seaborn as sns\n",
    "import re\n",
    "\n",
    "%load_ext autoreload\n",
    "%autoreload 2\n",
    "%matplotlib inline"
   ]
  },
  {
   "cell_type": "code",
   "execution_count": null,
   "id": "0122a107-d89e-40b0-ba37-3c69eb1519b5",
   "metadata": {},
   "outputs": [],
   "source": []
  },
  {
   "cell_type": "markdown",
   "id": "0bac46b0-ca63-45bb-b674-6690276bb4d9",
   "metadata": {
    "tags": []
   },
   "source": [
    "# Define Data Directories"
   ]
  },
  {
   "cell_type": "code",
   "execution_count": 5,
   "id": "72d1747b-a81b-4d48-8765-c6891d96ee63",
   "metadata": {},
   "outputs": [],
   "source": [
    "user = \"adam\"\n",
    "if user == \"patrick\":\n",
    "    jhroot = Path(\"D:/OneDriveParent/OneDrive - Johns Hopkins/Shared Documents/bids\")\n",
    "    jeffroot = Path(\"D:/OneDriveParent/Johns Hopkins/Jefferson_Scalp - Documents/root\")\n",
    "\n",
    "    # not ready yet\n",
    "    upmcroot = Path(\"/Users/adam2392/Johns Hopkins/UPMC_Scalp - Documents/\")\n",
    "elif user == \"adam\":\n",
    "    jhroot = Path(\"/Users/adam2392/Johns Hopkins/Scalp EEG JHH - Documents/bids/\")\n",
    "    jeffroot = Path(\"/Users/adam2392/Johns Hopkins/Jefferson_Scalp - Documents/root/\")\n",
    "\n",
    "    # not ready yet\n",
    "    upmcroot = Path(\"/Users/adam2392/Johns Hopkins/UPMC_Scalp - Documents/\")"
   ]
  },
  {
   "cell_type": "code",
   "execution_count": 6,
   "id": "d6453ae0-614a-4843-9055-75587bbec859",
   "metadata": {},
   "outputs": [],
   "source": [
    "bids_roots = [jhroot, jeffroot]"
   ]
  },
  {
   "cell_type": "code",
   "execution_count": 7,
   "id": "f68511f1-604d-47c5-bb37-9c5c2cc927de",
   "metadata": {},
   "outputs": [],
   "source": [
    "roots = [jhroot, jeffroot]"
   ]
  },
  {
   "cell_type": "code",
   "execution_count": 8,
   "id": "743681b1-cdf5-4b47-af9f-a2a8df374e36",
   "metadata": {},
   "outputs": [],
   "source": [
    "if user == \"adam\":\n",
    "    deriv_dir = Path(\n",
    "        \"/Users/adam2392/Johns Hopkins/Scalp EEG JHH - Documents/derivatives\"\n",
    "    )\n",
    "elif user == \"patrick\":\n",
    "    deriv_dir = Path(\n",
    "        \"D:/OneDriveParent/OneDrive - Johns Hopkins/Shared Documents/derivatives\"\n",
    "    )"
   ]
  }
 ],
 "metadata": {
  "kernelspec": {
   "display_name": "episcalp",
   "language": "python",
   "name": "episcalp"
  },
  "language_info": {
   "codemirror_mode": {
    "name": "ipython",
    "version": 3
   },
   "file_extension": ".py",
   "mimetype": "text/x-python",
   "name": "python",
   "nbconvert_exporter": "python",
   "pygments_lexer": "ipython3",
   "version": "3.8.12"
  }
 },
 "nbformat": 4,
 "nbformat_minor": 5
}
