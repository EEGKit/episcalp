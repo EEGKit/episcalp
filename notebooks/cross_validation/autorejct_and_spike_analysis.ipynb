{
 "cells": [
  {
   "cell_type": "markdown",
   "id": "2e72bbb3-346a-41a4-bbf9-1785486c1605",
   "metadata": {
    "tags": []
   },
   "source": [
    "# Autoreject and Spike Analysis\n",
    "\n",
    "Here, we run autoreject on the final ICA preprocessed data and then perform Spike analysis."
   ]
  },
  {
   "cell_type": "code",
   "execution_count": 1,
   "id": "30c85e3f-6b6b-48d8-8cb7-a1b0cd351a04",
   "metadata": {},
   "outputs": [],
   "source": [
    "# comment if you don't have nb_black installed\n",
    "%load_ext lab_black"
   ]
  },
  {
   "cell_type": "code",
   "execution_count": 83,
   "id": "6bfd7dcc-3f5e-43a6-8d80-27e6424bfb85",
   "metadata": {},
   "outputs": [
    {
     "name": "stdout",
     "output_type": "stream",
     "text": [
      "The autoreload extension is already loaded. To reload it, use:\n",
      "  %reload_ext autoreload\n"
     ]
    }
   ],
   "source": [
    "import numpy as np\n",
    "import scipy\n",
    "import scipy.io\n",
    "import pandas as pd\n",
    "from pathlib import Path\n",
    "import os\n",
    "import collections\n",
    "from natsort import natsorted\n",
    "import json\n",
    "import pickle\n",
    "import warnings\n",
    "import sys\n",
    "\n",
    "warnings.filterwarnings(\"ignore\")\n",
    "\n",
    "import mne\n",
    "from mne import make_fixed_length_epochs\n",
    "\n",
    "mne.set_log_level(\"ERROR\")\n",
    "from mne_bids import BIDSPath, get_entities_from_fname, get_entity_vals, read_raw_bids\n",
    "import autoreject\n",
    "from autoreject import AutoReject, read_auto_reject\n",
    "\n",
    "from sklearn.preprocessing import OrdinalEncoder, LabelBinarizer, LabelEncoder\n",
    "from sklearn.multiclass import OneVsRestClassifier\n",
    "from sklearn.dummy import DummyClassifier\n",
    "from sklearn.ensemble import RandomForestClassifier\n",
    "from sklearn.linear_model import LogisticRegression\n",
    "from sklearn.calibration import calibration_curve\n",
    "from sklearn.metrics import (\n",
    "    brier_score_loss,\n",
    "    roc_curve,\n",
    "    average_precision_score,\n",
    "    roc_auc_score,\n",
    "    f1_score,\n",
    "    recall_score,\n",
    "    jaccard_score,\n",
    "    balanced_accuracy_score,\n",
    "    accuracy_score,\n",
    "    auc,\n",
    "    precision_score,\n",
    "    plot_precision_recall_curve,\n",
    "    average_precision_score,\n",
    "    precision_recall_curve,\n",
    "    confusion_matrix,\n",
    "    cohen_kappa_score,\n",
    "    make_scorer,\n",
    "    precision_recall_fscore_support,\n",
    ")\n",
    "from sklearn.inspection import permutation_importance\n",
    "from sklearn.model_selection import (\n",
    "    StratifiedGroupKFold,\n",
    "    cross_validate,\n",
    "    StratifiedShuffleSplit,\n",
    "    LeaveOneGroupOut,\n",
    ")\n",
    "from sklearn.utils import resample\n",
    "import sklearn\n",
    "from sklearn import preprocessing\n",
    "from sklearn.pipeline import make_pipeline\n",
    "\n",
    "import mne\n",
    "from mne.time_frequency import read_tfrs\n",
    "\n",
    "mne.set_log_level(\"ERROR\")\n",
    "from mne_bids import BIDSPath, get_entities_from_fname, get_entity_vals, read_raw_bids\n",
    "\n",
    "from eztrack.io import read_derivative_npy\n",
    "\n",
    "sys.path.append(\"../../\")\n",
    "from episcalp.io.read import load_persyst_spikes\n",
    "from episcalp.utils.utils import NumpyEncoder\n",
    "\n",
    "# if you installed sporf via README\n",
    "from oblique_forests.sporf import ObliqueForestClassifier\n",
    "\n",
    "import matplotlib as mpl\n",
    "import matplotlib.pyplot as plt\n",
    "import seaborn as sns\n",
    "import re\n",
    "\n",
    "%load_ext autoreload\n",
    "%autoreload 2\n",
    "%matplotlib inline"
   ]
  },
  {
   "cell_type": "markdown",
   "id": "14359931-5351-4741-97c2-335779f564c0",
   "metadata": {
    "tags": []
   },
   "source": [
    "# Define Data Directories"
   ]
  },
  {
   "cell_type": "code",
   "execution_count": 23,
   "id": "5304a9a5-467c-4fb8-89cb-0058e29ab3ab",
   "metadata": {},
   "outputs": [],
   "source": [
    "jhroot = Path(\"/Users/adam2392/Johns Hopkins/Scalp EEG JHH - Documents/bids/\")\n",
    "jeffroot = Path(\"/Users/adam2392/Johns Hopkins/Jefferson_Scalp - Documents/root/\")\n",
    "\n",
    "# not ready yet\n",
    "upmcroot = Path(\"/Users/adam2392/Johns Hopkins/UPMC_Scalp - Documents/\")"
   ]
  },
  {
   "cell_type": "code",
   "execution_count": 24,
   "id": "1b761c15-54fd-4c16-9d8d-f39afbf8152b",
   "metadata": {},
   "outputs": [],
   "source": [
    "jh_ica_root = jhroot / \"derivatives\" / \"ICA\" / \"1-30Hz-30\" / \"win-20\"\n",
    "jeff_ica_root = jeffroot / \"derivatives\" / \"ICA\" / \"1-30Hz-30\" / \"win-20\""
   ]
  },
  {
   "cell_type": "code",
   "execution_count": 54,
   "id": "0610bad4-eac6-429d-8fa2-b03ff1cd6df0",
   "metadata": {},
   "outputs": [
    {
     "name": "stdout",
     "output_type": "stream",
     "text": [
      "Loading data for subjects: ['jhh001', 'jhh002', 'jhh003', 'jhh004', 'jhh005', 'jhh006', 'jhh007', 'jhh008', 'jhh009', 'jhh010', 'jhh011', 'jhh012', 'jhh013', 'jhh014', 'jhh015', 'jhh016', 'jhh017', 'jhh018', 'jhh019', 'jhh020', 'jhh021', 'jhh022', 'jhh023', 'jhh024', 'jhh025', 'jhh026', 'jhh027', 'jhh028', 'jhh029', 'jhh030', 'jhh101', 'jhh102', 'jhh103', 'jhh104', 'jhh105', 'jhh106', 'jhh107', 'jhh108', 'jhh109', 'jhh110', 'jhh111', 'jhh112', 'jhh113', 'jhh114', 'jhh115', 'jhh116', 'jhh117', 'jhh118', 'jhh119', 'jhh120', 'jhh121', 'jhh122', 'jhh124', 'jhh125', 'jhh126', 'jhh127', 'jhh128', 'jhh201', 'jhh202', 'jhh203', 'jhh204', 'jhh205', 'jhh206', 'jhh207', 'jhh208', 'jhh209', 'jhh210', 'jhh211', 'jhh212', 'jhh213', 'jhh214', 'jhh215', 'jhh216', 'jhh217', 'jhh218', 'jhh219', 'jhh220', 'jhh221', 'jhh222', 'jhh223', 'jhh224', 'jhh225', 'jhh226', 'jhh227', 'jhh228', 'jhh229']\n"
     ]
    }
   ],
   "source": [
    "# read in spike dataframe\n",
    "jh_spike_dataset = load_persyst_spikes(jhroot)\n",
    "# jeff_spike_dataset = load_persyst_spikes(jeffroot)"
   ]
  },
  {
   "cell_type": "code",
   "execution_count": 57,
   "id": "551d5031-db7f-45d6-a39e-c3694c5b01d7",
   "metadata": {},
   "outputs": [
    {
     "data": {
      "text/html": [
       "<div>\n",
       "<style scoped>\n",
       "    .dataframe tbody tr th:only-of-type {\n",
       "        vertical-align: middle;\n",
       "    }\n",
       "\n",
       "    .dataframe tbody tr th {\n",
       "        vertical-align: top;\n",
       "    }\n",
       "\n",
       "    .dataframe thead th {\n",
       "        text-align: right;\n",
       "    }\n",
       "</style>\n",
       "<table border=\"1\" class=\"dataframe\">\n",
       "  <thead>\n",
       "    <tr style=\"text-align: right;\">\n",
       "      <th></th>\n",
       "      <th>onset</th>\n",
       "      <th>duration</th>\n",
       "      <th>description</th>\n",
       "      <th>sample</th>\n",
       "      <th>ch_name</th>\n",
       "      <th>perception</th>\n",
       "      <th>height</th>\n",
       "      <th>n_secs</th>\n",
       "    </tr>\n",
       "  </thead>\n",
       "  <tbody>\n",
       "    <tr>\n",
       "      <th>0</th>\n",
       "      <td>332.0</td>\n",
       "      <td>0.130</td>\n",
       "      <td>Spike T5-Av12 perception:0.11 height:56</td>\n",
       "      <td>66400</td>\n",
       "      <td>T5</td>\n",
       "      <td>0.11</td>\n",
       "      <td>56</td>\n",
       "      <td>981.0</td>\n",
       "    </tr>\n",
       "    <tr>\n",
       "      <th>1</th>\n",
       "      <td>490.0</td>\n",
       "      <td>0.125</td>\n",
       "      <td>Spike T6-Av12 perception:0.13 height:57</td>\n",
       "      <td>98000</td>\n",
       "      <td>T6</td>\n",
       "      <td>0.13</td>\n",
       "      <td>57</td>\n",
       "      <td>981.0</td>\n",
       "    </tr>\n",
       "    <tr>\n",
       "      <th>2</th>\n",
       "      <td>554.0</td>\n",
       "      <td>0.135</td>\n",
       "      <td>Spike F7-Av12 perception:0.11 height:46</td>\n",
       "      <td>110800</td>\n",
       "      <td>F7</td>\n",
       "      <td>0.11</td>\n",
       "      <td>46</td>\n",
       "      <td>981.0</td>\n",
       "    </tr>\n",
       "  </tbody>\n",
       "</table>\n",
       "</div>"
      ],
      "text/plain": [
       "   onset  duration                              description  sample ch_name  \\\n",
       "0  332.0     0.130  Spike T5-Av12 perception:0.11 height:56   66400      T5   \n",
       "1  490.0     0.125  Spike T6-Av12 perception:0.13 height:57   98000      T6   \n",
       "2  554.0     0.135  Spike F7-Av12 perception:0.11 height:46  110800      F7   \n",
       "\n",
       "  perception height  n_secs  \n",
       "0       0.11     56   981.0  \n",
       "1       0.13     57   981.0  \n",
       "2       0.11     46   981.0  "
      ]
     },
     "metadata": {},
     "output_type": "display_data"
    }
   ],
   "source": [
    "display(jh_spike_dataset[\"data\"][0])"
   ]
  },
  {
   "cell_type": "code",
   "execution_count": 71,
   "id": "41fb4d21-a3d5-49bc-8acc-5fc4e8d2a6fd",
   "metadata": {},
   "outputs": [
    {
     "data": {
      "text/html": [
       "<div>\n",
       "<style scoped>\n",
       "    .dataframe tbody tr th:only-of-type {\n",
       "        vertical-align: middle;\n",
       "    }\n",
       "\n",
       "    .dataframe tbody tr th {\n",
       "        vertical-align: top;\n",
       "    }\n",
       "\n",
       "    .dataframe thead th {\n",
       "        text-align: right;\n",
       "    }\n",
       "</style>\n",
       "<table border=\"1\" class=\"dataframe\">\n",
       "  <thead>\n",
       "    <tr style=\"text-align: right;\">\n",
       "      <th></th>\n",
       "      <th>onset</th>\n",
       "      <th>duration</th>\n",
       "      <th>description</th>\n",
       "      <th>sample</th>\n",
       "      <th>ch_name</th>\n",
       "      <th>perception</th>\n",
       "      <th>height</th>\n",
       "      <th>n_secs</th>\n",
       "      <th>epoch_idx</th>\n",
       "    </tr>\n",
       "  </thead>\n",
       "  <tbody>\n",
       "    <tr>\n",
       "      <th>0</th>\n",
       "      <td>332.0</td>\n",
       "      <td>0.130</td>\n",
       "      <td>Spike T5-Av12 perception:0.11 height:56</td>\n",
       "      <td>66400</td>\n",
       "      <td>T5</td>\n",
       "      <td>0.11</td>\n",
       "      <td>56</td>\n",
       "      <td>981.0</td>\n",
       "      <td>332</td>\n",
       "    </tr>\n",
       "    <tr>\n",
       "      <th>1</th>\n",
       "      <td>490.0</td>\n",
       "      <td>0.125</td>\n",
       "      <td>Spike T6-Av12 perception:0.13 height:57</td>\n",
       "      <td>98000</td>\n",
       "      <td>T6</td>\n",
       "      <td>0.13</td>\n",
       "      <td>57</td>\n",
       "      <td>981.0</td>\n",
       "      <td>490</td>\n",
       "    </tr>\n",
       "    <tr>\n",
       "      <th>2</th>\n",
       "      <td>554.0</td>\n",
       "      <td>0.135</td>\n",
       "      <td>Spike F7-Av12 perception:0.11 height:46</td>\n",
       "      <td>110800</td>\n",
       "      <td>F7</td>\n",
       "      <td>0.11</td>\n",
       "      <td>46</td>\n",
       "      <td>981.0</td>\n",
       "      <td>554</td>\n",
       "    </tr>\n",
       "  </tbody>\n",
       "</table>\n",
       "</div>"
      ],
      "text/plain": [
       "   onset  duration                              description  sample ch_name  \\\n",
       "0  332.0     0.130  Spike T5-Av12 perception:0.11 height:56   66400      T5   \n",
       "1  490.0     0.125  Spike T6-Av12 perception:0.13 height:57   98000      T6   \n",
       "2  554.0     0.135  Spike F7-Av12 perception:0.11 height:46  110800      F7   \n",
       "\n",
       "  perception height  n_secs epoch_idx  \n",
       "0       0.11     56   981.0       332  \n",
       "1       0.13     57   981.0       490  \n",
       "2       0.11     46   981.0       554  "
      ]
     },
     "metadata": {},
     "output_type": "display_data"
    }
   ],
   "source": [
    "display(data.head())"
   ]
  },
  {
   "cell_type": "code",
   "execution_count": 78,
   "id": "01ed9790-aa5f-46df-93e2-a64cb483f70b",
   "metadata": {},
   "outputs": [
    {
     "data": {
      "text/html": [
       "<div>\n",
       "<style scoped>\n",
       "    .dataframe tbody tr th:only-of-type {\n",
       "        vertical-align: middle;\n",
       "    }\n",
       "\n",
       "    .dataframe tbody tr th {\n",
       "        vertical-align: top;\n",
       "    }\n",
       "\n",
       "    .dataframe thead th {\n",
       "        text-align: right;\n",
       "    }\n",
       "</style>\n",
       "<table border=\"1\" class=\"dataframe\">\n",
       "  <thead>\n",
       "    <tr style=\"text-align: right;\">\n",
       "      <th></th>\n",
       "      <th>onset</th>\n",
       "      <th>duration</th>\n",
       "      <th>description</th>\n",
       "      <th>sample</th>\n",
       "      <th>ch_name</th>\n",
       "      <th>perception</th>\n",
       "      <th>height</th>\n",
       "      <th>n_secs</th>\n",
       "      <th>epoch_idx</th>\n",
       "      <th>bad_epoch</th>\n",
       "    </tr>\n",
       "  </thead>\n",
       "  <tbody>\n",
       "    <tr>\n",
       "      <th>0</th>\n",
       "      <td>332.0</td>\n",
       "      <td>0.130</td>\n",
       "      <td>Spike T5-Av12 perception:0.11 height:56</td>\n",
       "      <td>66400</td>\n",
       "      <td>T5</td>\n",
       "      <td>0.11</td>\n",
       "      <td>56</td>\n",
       "      <td>981.0</td>\n",
       "      <td>332</td>\n",
       "      <td>True</td>\n",
       "    </tr>\n",
       "    <tr>\n",
       "      <th>1</th>\n",
       "      <td>490.0</td>\n",
       "      <td>0.125</td>\n",
       "      <td>Spike T6-Av12 perception:0.13 height:57</td>\n",
       "      <td>98000</td>\n",
       "      <td>T6</td>\n",
       "      <td>0.13</td>\n",
       "      <td>57</td>\n",
       "      <td>981.0</td>\n",
       "      <td>490</td>\n",
       "      <td>False</td>\n",
       "    </tr>\n",
       "    <tr>\n",
       "      <th>2</th>\n",
       "      <td>554.0</td>\n",
       "      <td>0.135</td>\n",
       "      <td>Spike F7-Av12 perception:0.11 height:46</td>\n",
       "      <td>110800</td>\n",
       "      <td>F7</td>\n",
       "      <td>0.11</td>\n",
       "      <td>46</td>\n",
       "      <td>981.0</td>\n",
       "      <td>554</td>\n",
       "      <td>True</td>\n",
       "    </tr>\n",
       "  </tbody>\n",
       "</table>\n",
       "</div>"
      ],
      "text/plain": [
       "   onset  duration                              description  sample ch_name  \\\n",
       "0  332.0     0.130  Spike T5-Av12 perception:0.11 height:56   66400      T5   \n",
       "1  490.0     0.125  Spike T6-Av12 perception:0.13 height:57   98000      T6   \n",
       "2  554.0     0.135  Spike F7-Av12 perception:0.11 height:46  110800      F7   \n",
       "\n",
       "  perception height  n_secs epoch_idx bad_epoch  \n",
       "0       0.11     56   981.0       332      True  \n",
       "1       0.13     57   981.0       490     False  \n",
       "2       0.11     46   981.0       554      True  "
      ]
     },
     "metadata": {},
     "output_type": "display_data"
    }
   ],
   "source": [
    "data = jh_spike_dataset[\"data\"][0]\n",
    "\n",
    "# get spikes not in bad epochs\n",
    "bad_epochs = reject_log.bad_epochs\n",
    "bad_epoch_idx = np.argwhere(bad_epochs)\n",
    "n_secs = data[\"n_secs\"][0]\n",
    "\n",
    "events = mne.make_fixed_length_events(\n",
    "    raw, id=1, start=0, stop=None, duration=1.0, first_samp=True, overlap=0.0\n",
    ")\n",
    "assert len(events) == len(bad_epochs)\n",
    "\n",
    "# mark all spikes in bad epochs\n",
    "data[\"epoch_idx\"] = None\n",
    "data[\"bad_epoch\"] = None\n",
    "\n",
    "for idx, sample in enumerate(data[\"sample\"]):\n",
    "    lower_idx = np.argwhere(sample <= events[:, 0])[0]\n",
    "    higher_idx = np.argwhere(sample >= events[:, 0])[-1]\n",
    "    epoch_idx = higher_idx[0]\n",
    "    data[\"epoch_idx\"][idx] = epoch_idx\n",
    "\n",
    "    in_bad_epoch = epoch_idx in bad_epoch_idx\n",
    "\n",
    "    data[\"bad_epoch\"][idx] = in_bad_epoch\n",
    "\n",
    "display(data)"
   ]
  },
  {
   "cell_type": "code",
   "execution_count": 82,
   "id": "da8cf679-8ec6-4457-bab6-dcdd161fa78b",
   "metadata": {},
   "outputs": [],
   "source": [
    "data.to_excel(\"~/Downloads/example.xlsx\")"
   ]
  },
  {
   "cell_type": "markdown",
   "id": "f5531437-fc53-43f0-a60a-5ccd40576bd7",
   "metadata": {},
   "source": [
    "# Run Autoreject and Filter out "
   ]
  },
  {
   "cell_type": "code",
   "execution_count": 28,
   "id": "13041081-7336-40af-8f6a-1e4326d492e6",
   "metadata": {},
   "outputs": [],
   "source": [
    "ar = AutoReject(n_interpolate=[0])"
   ]
  },
  {
   "cell_type": "code",
   "execution_count": 31,
   "id": "d0ae05a8-f99f-4821-9658-df9cca2caf04",
   "metadata": {},
   "outputs": [
    {
     "name": "stdout",
     "output_type": "stream",
     "text": [
      "Running autoreject on ch_type=eeg\n",
      "\n",
      "\n",
      "\n",
      "\n",
      "Estimated consensus=0.60 and n_interpolate=0\n"
     ]
    }
   ],
   "source": [
    "subjects = jh_spike_dataset[\"subject\"]\n",
    "\n",
    "for idx in range(len(subjects)):\n",
    "    subject = subjects[idx]\n",
    "    bids_path = jh_spike_dataset[\"bids_path\"][idx]\n",
    "    bids_path.update(root=jh_ica_root)\n",
    "\n",
    "    # read in that file\n",
    "    raw = read_raw_bids(bids_path)\n",
    "    raw.set_montage(\"standard_1020\")\n",
    "\n",
    "    # make these into epochs\n",
    "    epochs = make_fixed_length_epochs(raw, duration=1)\n",
    "    epochs.load_data()\n",
    "\n",
    "    ar.fit(epochs)\n",
    "    _, reject_log = ar.transform(epochs, return_log=True)\n",
    "\n",
    "    \n",
    "    \n",
    "    break"
   ]
  },
  {
   "cell_type": "code",
   "execution_count": 34,
   "id": "4a493a18-da92-45b2-86df-df80c9cb74c4",
   "metadata": {},
   "outputs": [
    {
     "data": {
      "image/png": "[encoded data removed]",
      "text/plain": [
       "<Figure size 720x720 with 1 Axes>"
      ]
     },
     "metadata": {
      "needs_background": "light"
     },
     "output_type": "display_data"
    },
    {
     "data": {
      "image/png": "[encoded data removed]",
      "text/plain": [
       "<Figure size 864x432 with 1 Axes>"
      ]
     },
     "metadata": {
      "needs_background": "light"
     },
     "output_type": "display_data"
    },
    {
     "name": "stdout",
     "output_type": "stream",
     "text": [
      "done\n"
     ]
    }
   ],
   "source": [
    "reject_log.plot(\"horizontal\", show=True)\n",
    "print(\"done\")"
   ]
  },
  {
   "cell_type": "code",
   "execution_count": 42,
   "id": "51c09c91-d2ff-41ee-9790-b654db032a8a",
   "metadata": {},
   "outputs": [
    {
     "name": "stdout",
     "output_type": "stream",
     "text": [
      "(981, 14)\n",
      "{'eeg': 0.6000000000000001}\n",
      "{'Fp1': 4.5367972045045314e-05, 'Fp2': 4.3753425824459453e-05, 'F3': 2.907251457258827e-05, 'F4': 3.5960510599631045e-05, 'P3': 4.798876476332896e-05, 'P4': 3.342824909913726e-05, 'O1': 6.792141444400521e-05, 'O2': 8.750012390514847e-05, 'F7': 4.888637241737113e-05, 'F8': 4.433738547929319e-05, 'T3': 4.46421288186285e-05, 'T4': 4.042004837183751e-05, 'T5': 5.720309518723105e-05, 'T6': 5.567145815909622e-05}\n"
     ]
    }
   ],
   "source": [
    "print(reject_log.labels.shape)\n",
    "print(ar.consensus_)\n",
    "print(ar.threshes_)"
   ]
  },
  {
   "cell_type": "code",
   "execution_count": 40,
   "id": "5502f471-0fcf-4024-a1c5-df1404b5fd9f",
   "metadata": {
    "collapsed": true,
    "jupyter": {
     "outputs_hidden": true
    },
    "tags": []
   },
   "outputs": [
    {
     "name": "stdout",
     "output_type": "stream",
     "text": [
      "[False False False False  True False  True False False  True  True  True\n",
      " False False False False False False False False False False False False\n",
      " False False False False False False False False False False False False\n",
      " False False False False False False False False False False False False\n",
      " False False False False False False False  True  True False False False\n",
      " False False False False False False False False False False False False\n",
      " False False False False False False False False False False  True  True\n",
      " False False False False  True  True False False False False False False\n",
      " False False False False False  True False  True  True False False False\n",
      " False False False False False False False False False  True False False\n",
      " False False False False  True  True False False False False False False\n",
      " False False False False False False False False False False False False\n",
      " False False False False False False  True False False False False False\n",
      " False False False False False False False False False False False False\n",
      " False False False False False False False False False False False False\n",
      " False False False False False False False False False False False False\n",
      " False False False False False False False False False False False False\n",
      " False False False False  True False False False False False False False\n",
      " False False False False False False False False False False False False\n",
      " False False False False False False False False False False False False\n",
      " False False False  True False False False False False False False False\n",
      " False False False False False False False False  True False False False\n",
      " False False  True False False False False False False False False False\n",
      " False False False  True  True  True False False False False False False\n",
      " False  True False False False False False False False  True False False\n",
      "  True False False False False False  True  True  True  True False  True\n",
      "  True False False False False False False  True False False False False\n",
      " False False False False False  True False False  True  True False False\n",
      " False False False False False False False False False False False False\n",
      " False False False False False False False False False False False False\n",
      " False False False False False False False False False False False False\n",
      " False False False False False False False False False False False False\n",
      " False False False False False  True False False False False False False\n",
      " False False False  True False False False False False False False False\n",
      " False False False False False False False False False False False False\n",
      " False False False False False False False False False False False False\n",
      " False False False  True False False False False False False False False\n",
      " False False False False False False False False False False False False\n",
      " False False False False  True  True  True False False False False False\n",
      " False False False False False False False False  True False False  True\n",
      " False False False False  True False False False False False False False\n",
      " False  True  True False False False False False False  True False False\n",
      " False False False False False False False False False False False False\n",
      " False False False False False False False False False False False False\n",
      " False False False False False False False False False False False False\n",
      " False False False False False False False False False False False False\n",
      " False False  True False False False False  True  True False False  True\n",
      " False False False False False False False False False False False False\n",
      "  True False False False  True  True False False False False False False\n",
      " False  True False False False False False False False False False False\n",
      " False False False False False False False False False False False False\n",
      " False False False False False False False False False False False False\n",
      " False False False False False False False False False False False False\n",
      " False False False False  True  True  True False  True  True  True False\n",
      " False False False False False False False False  True False False False\n",
      " False False False False False False False False False False False False\n",
      " False False False False False False False False False False False False\n",
      " False False False False False False False False False False False False\n",
      " False False False False False False False False False False False False\n",
      " False False False False False False False False False False False False\n",
      " False False False False False  True False  True  True False  True  True\n",
      " False False False False False False False  True False False False False\n",
      " False False  True False False False False False False False False False\n",
      " False False False False False False False False False False False False\n",
      " False False False False False False False False False False False False\n",
      " False False False  True  True False  True False False False False False\n",
      " False False False False False  True  True False False False False False\n",
      " False False False False False False False False False False False False\n",
      " False False False False False False False False False False False False\n",
      " False  True False False False False False False False False False False\n",
      " False False False False False False False False False False False False\n",
      " False False False False False False False False False False False False\n",
      " False False  True  True False False False False False False False False\n",
      " False False False False  True False  True False False False False False\n",
      " False False False False False False False False False False  True False\n",
      " False False False False False False False False False False False False\n",
      " False False False  True False False False  True False False False False\n",
      " False False False False False  True  True False False False False False\n",
      " False False False False False False False False False False False False\n",
      " False False False False False False False False False False False False\n",
      " False False False  True  True  True  True  True False False False False\n",
      " False False False False False False False False False]\n"
     ]
    }
   ],
   "source": [
    "# print(reject_log.bad_epochs)"
   ]
  },
  {
   "cell_type": "code",
   "execution_count": 50,
   "id": "eacb93c7-5ff2-4858-96d8-1cb8518262a7",
   "metadata": {},
   "outputs": [
    {
     "name": "stdout",
     "output_type": "stream",
     "text": [
      "/Users/adam2392/Johns Hopkins/Scalp EEG JHH - Documents/bids/derivatives/ICA/1-30Hz-30/win-20/sub-jhh001/eeg/sub-jhh001_run-01_proc-autoreject_eeg.h5\n"
     ]
    }
   ],
   "source": [
    "ar_bids_path = bids_path.copy().update(\n",
    "    check=False,\n",
    "    processing=\"autoreject\",\n",
    "    extension=\".h5\",\n",
    "    suffix=\"eeg\",\n",
    ")\n",
    "print(ar_bids_path)\n",
    "ar.save(fname=ar_bids_path)"
   ]
  },
  {
   "cell_type": "code",
   "execution_count": 94,
   "id": "4cc46bb4-6a94-4187-a8d4-1912817cfc1d",
   "metadata": {},
   "outputs": [
    {
     "name": "stdout",
     "output_type": "stream",
     "text": [
      "{'eeg': 0.6000000000000001}\n"
     ]
    }
   ],
   "source": [
    "print(ar.consensus_)\n",
    "ar.consensus = 0.8"
   ]
  },
  {
   "cell_type": "code",
   "execution_count": 90,
   "id": "b088c071-7690-4d21-b7ea-73db29255556",
   "metadata": {},
   "outputs": [
    {
     "name": "stdout",
     "output_type": "stream",
     "text": [
      "<autoreject.autoreject.RejectLog object at 0x7f855f6b7c70>\n"
     ]
    }
   ],
   "source": [
    "ar = read_auto_reject(ar_bids_path)\n",
    "\n",
    "# read in that file\n",
    "raw = read_raw_bids(bids_path)\n",
    "raw.set_montage(\"standard_1020\")\n",
    "\n",
    "# make these into epochs\n",
    "epochs = make_fixed_length_epochs(raw, duration=1)\n",
    "epochs.load_data()\n",
    "\n",
    "reject_log = ar.get_reject_log(epochs)\n",
    "print(reject_log)\n",
    "print(reject_log.bad_epochs)"
   ]
  },
  {
   "cell_type": "code",
   "execution_count": 91,
   "id": "bc175a3a-95f5-41f7-9408-65e2e5475ca9",
   "metadata": {},
   "outputs": [
    {
     "name": "stdout",
     "output_type": "stream",
     "text": [
      "[False False False False  True False  True False False  True  True  True\n",
      " False False False False False False False False False False False False\n",
      " False False False False False False False False False False False False\n",
      " False False False False False False False False False False False False\n",
      " False False False False False False False  True  True False False False\n",
      " False False False False False False False False False False False False\n",
      " False False False False False False False False False False  True  True\n",
      " False False False False  True  True False False False False False False\n",
      " False False False False False  True False  True  True False False False\n",
      " False False False False False False False False False  True False False\n",
      " False False False False  True  True False False False False False False\n",
      " False False False False False False False False False False False False\n",
      " False False False False False False  True False False False False False\n",
      " False False False False False False False False False False False False\n",
      " False False False False False False False False False False False False\n",
      " False False False False False False False False False False False False\n",
      " False False False False False False False False False False False False\n",
      " False False False False  True False False False False False False False\n",
      " False False False False False False False False False False False False\n",
      " False False False False False False False False False False False False\n",
      " False False False  True False False False False False False False False\n",
      " False False False False False False False False  True False False False\n",
      " False False  True False False False False False False False False False\n",
      " False False False  True  True  True False False False False False False\n",
      " False  True False False False False False False False  True False False\n",
      "  True False False False False False  True  True  True  True False  True\n",
      "  True False False False False False False  True False False False False\n",
      " False False False False False  True False False  True  True False False\n",
      " False False False False False False False False False False False False\n",
      " False False False False False False False False False False False False\n",
      " False False False False False False False False False False False False\n",
      " False False False False False False False False False False False False\n",
      " False False False False False  True False False False False False False\n",
      " False False False  True False False False False False False False False\n",
      " False False False False False False False False False False False False\n",
      " False False False False False False False False False False False False\n",
      " False False False  True False False False False False False False False\n",
      " False False False False False False False False False False False False\n",
      " False False False False  True  True  True False False False False False\n",
      " False False False False False False False False  True False False  True\n",
      " False False False False  True False False False False False False False\n",
      " False  True  True False False False False False False  True False False\n",
      " False False False False False False False False False False False False\n",
      " False False False False False False False False False False False False\n",
      " False False False False False False False False False False False False\n",
      " False False False False False False False False False False False False\n",
      " False False  True False False False False  True  True False False  True\n",
      " False False False False False False False False False False False False\n",
      "  True False False False  True  True False False False False False False\n",
      " False  True False False False False False False False False False False\n",
      " False False False False False False False False False False False False\n",
      " False False False False False False False False False False False False\n",
      " False False False False False False False False False False False False\n",
      " False False False False  True  True  True False  True  True  True False\n",
      " False False False False False False False False  True False False False\n",
      " False False False False False False False False False False False False\n",
      " False False False False False False False False False False False False\n",
      " False False False False False False False False False False False False\n",
      " False False False False False False False False False False False False\n",
      " False False False False False False False False False False False False\n",
      " False False False False False  True False  True  True False  True  True\n",
      " False False False False False False False  True False False False False\n",
      " False False  True False False False False False False False False False\n",
      " False False False False False False False False False False False False\n",
      " False False False False False False False False False False False False\n",
      " False False False  True  True False  True False False False False False\n",
      " False False False False False  True  True False False False False False\n",
      " False False False False False False False False False False False False\n",
      " False False False False False False False False False False False False\n",
      " False  True False False False False False False False False False False\n",
      " False False False False False False False False False False False False\n",
      " False False False False False False False False False False False False\n",
      " False False  True  True False False False False False False False False\n",
      " False False False False  True False  True False False False False False\n",
      " False False False False False False False False False False  True False\n",
      " False False False False False False False False False False False False\n",
      " False False False  True False False False  True False False False False\n",
      " False False False False False  True  True False False False False False\n",
      " False False False False False False False False False False False False\n",
      " False False False False False False False False False False False False\n",
      " False False False  True  True  True  True  True False False False False\n",
      " False False False False False False False False False]\n"
     ]
    }
   ],
   "source": [
    "print(reject_log.bad_epochs)"
   ]
  },
  {
   "cell_type": "code",
   "execution_count": null,
   "id": "b544f733-5607-461e-a1f3-5ea08e8d8d04",
   "metadata": {},
   "outputs": [],
   "source": []
  }
 ],
 "metadata": {
  "kernelspec": {
   "display_name": "episcalp",
   "language": "python",
   "name": "episcalp"
  },
  "language_info": {
   "codemirror_mode": {
    "name": "ipython",
    "version": 3
   },
   "file_extension": ".py",
   "mimetype": "text/x-python",
   "name": "python",
   "nbconvert_exporter": "python",
   "pygments_lexer": "ipython3",
   "version": "3.8.12"
  }
 },
 "nbformat": 4,
 "nbformat_minor": 5
}
