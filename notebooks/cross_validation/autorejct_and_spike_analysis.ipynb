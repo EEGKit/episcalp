{
 "cells": [
  {
   "cell_type": "markdown",
   "id": "2e72bbb3-346a-41a4-bbf9-1785486c1605",
   "metadata": {
    "tags": []
   },
   "source": [
    "# Autoreject and Spike Analysis\n",
    "\n",
    "Here, we run autoreject on the final ICA preprocessed data and then perform Spike analysis."
   ]
  },
  {
   "cell_type": "code",
   "execution_count": 1,
   "id": "30c85e3f-6b6b-48d8-8cb7-a1b0cd351a04",
   "metadata": {},
   "outputs": [],
   "source": [
    "# comment if you don't have nb_black installed\n",
    "%load_ext lab_black"
   ]
  },
  {
   "cell_type": "code",
   "execution_count": 184,
   "id": "6bfd7dcc-3f5e-43a6-8d80-27e6424bfb85",
   "metadata": {},
   "outputs": [
    {
     "name": "stdout",
     "output_type": "stream",
     "text": [
      "The autoreload extension is already loaded. To reload it, use:\n",
      "  %reload_ext autoreload\n"
     ]
    }
   ],
   "source": [
    "import numpy as np\n",
    "import scipy\n",
    "import scipy.io\n",
    "import pandas as pd\n",
    "from pathlib import Path\n",
    "import os\n",
    "import collections\n",
    "from natsort import natsorted\n",
    "import json\n",
    "import pickle\n",
    "import warnings\n",
    "import sys\n",
    "from copy import copy, deepcopy\n",
    "\n",
    "warnings.filterwarnings(\"ignore\")\n",
    "\n",
    "import mne\n",
    "from mne import make_fixed_length_epochs\n",
    "\n",
    "mne.set_log_level(\"ERROR\")\n",
    "from mne_bids import BIDSPath, get_entities_from_fname, get_entity_vals, read_raw_bids\n",
    "import autoreject\n",
    "from autoreject import AutoReject, read_auto_reject\n",
    "\n",
    "from sklearn.preprocessing import OrdinalEncoder, LabelBinarizer, LabelEncoder\n",
    "from sklearn.multiclass import OneVsRestClassifier\n",
    "from sklearn.dummy import DummyClassifier\n",
    "from sklearn.ensemble import RandomForestClassifier\n",
    "from sklearn.linear_model import LogisticRegression\n",
    "from sklearn.calibration import calibration_curve\n",
    "from sklearn.metrics import (\n",
    "    brier_score_loss,\n",
    "    roc_curve,\n",
    "    average_precision_score,\n",
    "    roc_auc_score,\n",
    "    f1_score,\n",
    "    recall_score,\n",
    "    jaccard_score,\n",
    "    balanced_accuracy_score,\n",
    "    accuracy_score,\n",
    "    auc,\n",
    "    precision_score,\n",
    "    plot_precision_recall_curve,\n",
    "    average_precision_score,\n",
    "    precision_recall_curve,\n",
    "    confusion_matrix,\n",
    "    cohen_kappa_score,\n",
    "    make_scorer,\n",
    "    precision_recall_fscore_support,\n",
    ")\n",
    "from sklearn.inspection import permutation_importance\n",
    "from sklearn.model_selection import (\n",
    "    StratifiedGroupKFold,\n",
    "    cross_validate,\n",
    "    StratifiedShuffleSplit,\n",
    "    LeaveOneGroupOut,\n",
    ")\n",
    "from sklearn.utils import resample\n",
    "import sklearn\n",
    "from sklearn import preprocessing\n",
    "from sklearn.pipeline import make_pipeline\n",
    "\n",
    "import mne\n",
    "from mne.time_frequency import read_tfrs\n",
    "\n",
    "mne.set_log_level(\"ERROR\")\n",
    "from mne_bids import BIDSPath, get_entities_from_fname, get_entity_vals, read_raw_bids\n",
    "\n",
    "from eztrack.io import read_derivative_npy\n",
    "\n",
    "sys.path.append(\"../../\")\n",
    "from episcalp.features import spike_feature_vector\n",
    "from episcalp.io.read import load_persyst_spikes, load_reject_log\n",
    "from episcalp.utils.utils import NumpyEncoder\n",
    "\n",
    "# if you installed sporf via README\n",
    "from oblique_forests.sporf import ObliqueForestClassifier\n",
    "\n",
    "import matplotlib as mpl\n",
    "import matplotlib.pyplot as plt\n",
    "import seaborn as sns\n",
    "import re\n",
    "\n",
    "%load_ext autoreload\n",
    "%autoreload 2\n",
    "%matplotlib inline"
   ]
  },
  {
   "cell_type": "markdown",
   "id": "14359931-5351-4741-97c2-335779f564c0",
   "metadata": {
    "tags": []
   },
   "source": [
    "# Define Data Directories"
   ]
  },
  {
   "cell_type": "code",
   "execution_count": 23,
   "id": "5304a9a5-467c-4fb8-89cb-0058e29ab3ab",
   "metadata": {},
   "outputs": [],
   "source": [
    "jhroot = Path(\"/Users/adam2392/Johns Hopkins/Scalp EEG JHH - Documents/bids/\")\n",
    "jeffroot = Path(\"/Users/adam2392/Johns Hopkins/Jefferson_Scalp - Documents/root/\")\n",
    "\n",
    "# not ready yet\n",
    "upmcroot = Path(\"/Users/adam2392/Johns Hopkins/UPMC_Scalp - Documents/\")"
   ]
  },
  {
   "cell_type": "code",
   "execution_count": 170,
   "id": "1b761c15-54fd-4c16-9d8d-f39afbf8152b",
   "metadata": {},
   "outputs": [],
   "source": [
    "jh_ica_root = jhroot / \"derivatives\" / \"ICA\" / \"1-30Hz-30\" / \"win-20\"\n",
    "jeff_ica_root = jeffroot / \"derivatives\" / \"ICA\" / \"1-30Hz-30\" / \"win-20\""
   ]
  },
  {
   "cell_type": "code",
   "execution_count": 185,
   "id": "0610bad4-eac6-429d-8fa2-b03ff1cd6df0",
   "metadata": {},
   "outputs": [
    {
     "name": "stdout",
     "output_type": "stream",
     "text": [
      "Loading data for subjects: ['jhh001', 'jhh002', 'jhh003', 'jhh004', 'jhh005', 'jhh006', 'jhh007', 'jhh008', 'jhh009', 'jhh010', 'jhh011', 'jhh012', 'jhh013', 'jhh014', 'jhh015', 'jhh016', 'jhh017', 'jhh018', 'jhh019', 'jhh020', 'jhh021', 'jhh022', 'jhh023', 'jhh024', 'jhh025', 'jhh026', 'jhh027', 'jhh028', 'jhh029', 'jhh030', 'jhh101', 'jhh102', 'jhh103', 'jhh104', 'jhh105', 'jhh106', 'jhh107', 'jhh108', 'jhh109', 'jhh110', 'jhh111', 'jhh112', 'jhh113', 'jhh114', 'jhh115', 'jhh116', 'jhh117', 'jhh118', 'jhh119', 'jhh120', 'jhh121', 'jhh122', 'jhh124', 'jhh125', 'jhh126', 'jhh127', 'jhh128', 'jhh201', 'jhh202', 'jhh203', 'jhh204', 'jhh205', 'jhh206', 'jhh207', 'jhh208', 'jhh209', 'jhh210', 'jhh211', 'jhh212', 'jhh213', 'jhh214', 'jhh215', 'jhh216', 'jhh217', 'jhh218', 'jhh219', 'jhh220', 'jhh221', 'jhh222', 'jhh223', 'jhh224', 'jhh225', 'jhh226', 'jhh227', 'jhh228', 'jhh229']\n",
      "Loading data for subjects: ['jeff001', 'jeff002', 'jeff101', 'jeff102', 'jeff201', 'jeff202', 'jeff203', 'jeff204', 'jeff205', 'jeff206', 'jeff207', 'jeff208', 'jeff209', 'jeff210']\n"
     ]
    }
   ],
   "source": [
    "# read in spike dataframe\n",
    "jh_spike_dataset = load_persyst_spikes(jhroot)\n",
    "jeff_spike_dataset = load_persyst_spikes(jeffroot)"
   ]
  },
  {
   "cell_type": "code",
   "execution_count": 150,
   "id": "551d5031-db7f-45d6-a39e-c3694c5b01d7",
   "metadata": {},
   "outputs": [
    {
     "data": {
      "text/html": [
       "<div>\n",
       "<style scoped>\n",
       "    .dataframe tbody tr th:only-of-type {\n",
       "        vertical-align: middle;\n",
       "    }\n",
       "\n",
       "    .dataframe tbody tr th {\n",
       "        vertical-align: top;\n",
       "    }\n",
       "\n",
       "    .dataframe thead th {\n",
       "        text-align: right;\n",
       "    }\n",
       "</style>\n",
       "<table border=\"1\" class=\"dataframe\">\n",
       "  <thead>\n",
       "    <tr style=\"text-align: right;\">\n",
       "      <th></th>\n",
       "      <th>onset</th>\n",
       "      <th>duration</th>\n",
       "      <th>description</th>\n",
       "      <th>sample</th>\n",
       "      <th>ch_name</th>\n",
       "      <th>perception</th>\n",
       "      <th>height</th>\n",
       "      <th>n_secs</th>\n",
       "    </tr>\n",
       "  </thead>\n",
       "  <tbody>\n",
       "    <tr>\n",
       "      <th>0</th>\n",
       "      <td>274.0</td>\n",
       "      <td>0.155</td>\n",
       "      <td>Spike O2-Av12 perception:0.61 height:92</td>\n",
       "      <td>54800</td>\n",
       "      <td>O2</td>\n",
       "      <td>0.61</td>\n",
       "      <td>92</td>\n",
       "      <td>1100.0</td>\n",
       "    </tr>\n",
       "    <tr>\n",
       "      <th>1</th>\n",
       "      <td>448.0</td>\n",
       "      <td>0.125</td>\n",
       "      <td>Spike P3-T34 perception:0.59 height:145</td>\n",
       "      <td>89600</td>\n",
       "      <td>P3</td>\n",
       "      <td>0.59</td>\n",
       "      <td>145</td>\n",
       "      <td>1100.0</td>\n",
       "    </tr>\n",
       "  </tbody>\n",
       "</table>\n",
       "</div>"
      ],
      "text/plain": [
       "   onset  duration                              description  sample ch_name  \\\n",
       "0  274.0     0.155  Spike O2-Av12 perception:0.61 height:92   54800      O2   \n",
       "1  448.0     0.125  Spike P3-T34 perception:0.59 height:145   89600      P3   \n",
       "\n",
       "  perception height  n_secs  \n",
       "0       0.61     92  1100.0  \n",
       "1       0.59    145  1100.0  "
      ]
     },
     "metadata": {},
     "output_type": "display_data"
    }
   ],
   "source": [
    "display(jh_spike_dataset[\"data\"][5])"
   ]
  },
  {
   "cell_type": "markdown",
   "id": "f5531437-fc53-43f0-a60a-5ccd40576bd7",
   "metadata": {},
   "source": [
    "# Load Previously Ran Autoreject and Filter Epochs"
   ]
  },
  {
   "cell_type": "code",
   "execution_count": 168,
   "id": "64914354-10c7-4dc1-8f8e-b3534408e8d1",
   "metadata": {},
   "outputs": [],
   "source": [
    "verbose = False"
   ]
  },
  {
   "cell_type": "code",
   "execution_count": 186,
   "id": "a2377d13-65b3-4b69-bd40-59979e2637ad",
   "metadata": {},
   "outputs": [],
   "source": [
    "# reformat the channel spike dataframes based on autoreject logs\n",
    "for dataset, deriv_root in zip(\n",
    "    [jh_spike_dataset, jeff_spike_dataset], [jh_ica_root, jeff_ica_root]\n",
    "):\n",
    "    subjects = dataset[\"subject\"]\n",
    "\n",
    "    # loop through each dataset and preprocess the channel spike\n",
    "    # dataframes based on the autoreject log\n",
    "    for idx in range(len(subjects)):\n",
    "        subject = subjects[idx]\n",
    "\n",
    "        # get the channel spike df and bids path\n",
    "        data = dataset[\"data\"][idx]\n",
    "        bids_path = dataset[\"bids_path\"][idx]\n",
    "        bids_path.update(root=deriv_root)\n",
    "\n",
    "        if data.empty:\n",
    "            if verbose:\n",
    "                print(f\"Skipping: {subject} with {bids_path}\")\n",
    "            continue\n",
    "\n",
    "        # load in the reject log\n",
    "        raw = read_raw_bids(bids_path)\n",
    "        reject_log = load_reject_log(bids_path)\n",
    "\n",
    "        # get spikes not in bad epochs\n",
    "        bad_epochs = reject_log.bad_epochs\n",
    "        bad_epoch_idx = np.argwhere(bad_epochs)\n",
    "        n_secs = data[\"n_secs\"][0]\n",
    "        events = mne.make_fixed_length_events(\n",
    "            raw, id=1, start=0, stop=None, duration=1.0, first_samp=True, overlap=0.0\n",
    "        )\n",
    "        assert len(events) == len(bad_epochs)\n",
    "\n",
    "        # mark all spikes in bad epochs\n",
    "        data[\"epoch_idx\"] = None\n",
    "        data[\"bad_epoch\"] = None\n",
    "\n",
    "        for jdx, sample in enumerate(data[\"sample\"]):\n",
    "            lower_idx = np.argwhere(sample <= events[:, 0])[0]\n",
    "            higher_idx = np.argwhere(sample >= events[:, 0])[-1]\n",
    "            epoch_idx = higher_idx[0]\n",
    "            data[\"epoch_idx\"][jdx] = epoch_idx\n",
    "            in_bad_epoch = epoch_idx in bad_epoch_idx\n",
    "            data[\"bad_epoch\"][jdx] = in_bad_epoch\n",
    "\n",
    "        # reset the new dataframe\n",
    "        dataset[\"data\"][idx] = data\n",
    "    #     display(data)\n",
    "    #     break"
   ]
  },
  {
   "cell_type": "code",
   "execution_count": 187,
   "id": "4a493a18-da92-45b2-86df-df80c9cb74c4",
   "metadata": {},
   "outputs": [
    {
     "data": {
      "text/html": [
       "<div>\n",
       "<style scoped>\n",
       "    .dataframe tbody tr th:only-of-type {\n",
       "        vertical-align: middle;\n",
       "    }\n",
       "\n",
       "    .dataframe tbody tr th {\n",
       "        vertical-align: top;\n",
       "    }\n",
       "\n",
       "    .dataframe thead th {\n",
       "        text-align: right;\n",
       "    }\n",
       "</style>\n",
       "<table border=\"1\" class=\"dataframe\">\n",
       "  <thead>\n",
       "    <tr style=\"text-align: right;\">\n",
       "      <th></th>\n",
       "      <th>onset</th>\n",
       "      <th>duration</th>\n",
       "      <th>description</th>\n",
       "      <th>sample</th>\n",
       "      <th>ch_name</th>\n",
       "      <th>perception</th>\n",
       "      <th>height</th>\n",
       "      <th>n_secs</th>\n",
       "      <th>epoch_idx</th>\n",
       "      <th>bad_epoch</th>\n",
       "    </tr>\n",
       "  </thead>\n",
       "  <tbody>\n",
       "    <tr>\n",
       "      <th>0</th>\n",
       "      <td>40.0</td>\n",
       "      <td>0.080</td>\n",
       "      <td>Spike T3-Av12 perception:0.26 height:66</td>\n",
       "      <td>20000</td>\n",
       "      <td>T3</td>\n",
       "      <td>0.26</td>\n",
       "      <td>66</td>\n",
       "      <td>1021.0</td>\n",
       "      <td>40</td>\n",
       "      <td>False</td>\n",
       "    </tr>\n",
       "    <tr>\n",
       "      <th>1</th>\n",
       "      <td>48.0</td>\n",
       "      <td>0.135</td>\n",
       "      <td>Spike T3-Av12 perception:0.31 height:80</td>\n",
       "      <td>24000</td>\n",
       "      <td>T3</td>\n",
       "      <td>0.31</td>\n",
       "      <td>80</td>\n",
       "      <td>1021.0</td>\n",
       "      <td>48</td>\n",
       "      <td>False</td>\n",
       "    </tr>\n",
       "    <tr>\n",
       "      <th>2</th>\n",
       "      <td>78.0</td>\n",
       "      <td>0.130</td>\n",
       "      <td>Spike T3-Av12 perception:0.15 height:68</td>\n",
       "      <td>39000</td>\n",
       "      <td>T3</td>\n",
       "      <td>0.15</td>\n",
       "      <td>68</td>\n",
       "      <td>1021.0</td>\n",
       "      <td>78</td>\n",
       "      <td>False</td>\n",
       "    </tr>\n",
       "    <tr>\n",
       "      <th>3</th>\n",
       "      <td>89.0</td>\n",
       "      <td>0.125</td>\n",
       "      <td>Spike T3-Av12 perception:0.4 height:59</td>\n",
       "      <td>44500</td>\n",
       "      <td>T3</td>\n",
       "      <td>0.4</td>\n",
       "      <td>59</td>\n",
       "      <td>1021.0</td>\n",
       "      <td>89</td>\n",
       "      <td>False</td>\n",
       "    </tr>\n",
       "    <tr>\n",
       "      <th>4</th>\n",
       "      <td>133.0</td>\n",
       "      <td>0.095</td>\n",
       "      <td>Spike T3-Av12 perception:0.11 height:83</td>\n",
       "      <td>66500</td>\n",
       "      <td>T3</td>\n",
       "      <td>0.11</td>\n",
       "      <td>83</td>\n",
       "      <td>1021.0</td>\n",
       "      <td>133</td>\n",
       "      <td>False</td>\n",
       "    </tr>\n",
       "  </tbody>\n",
       "</table>\n",
       "</div>"
      ],
      "text/plain": [
       "   onset  duration                              description  sample ch_name  \\\n",
       "0   40.0     0.080  Spike T3-Av12 perception:0.26 height:66   20000      T3   \n",
       "1   48.0     0.135  Spike T3-Av12 perception:0.31 height:80   24000      T3   \n",
       "2   78.0     0.130  Spike T3-Av12 perception:0.15 height:68   39000      T3   \n",
       "3   89.0     0.125   Spike T3-Av12 perception:0.4 height:59   44500      T3   \n",
       "4  133.0     0.095  Spike T3-Av12 perception:0.11 height:83   66500      T3   \n",
       "\n",
       "  perception height  n_secs epoch_idx bad_epoch  \n",
       "0       0.26     66  1021.0        40     False  \n",
       "1       0.31     80  1021.0        48     False  \n",
       "2       0.15     68  1021.0        78     False  \n",
       "3        0.4     59  1021.0        89     False  \n",
       "4       0.11     83  1021.0       133     False  "
      ]
     },
     "metadata": {},
     "output_type": "display_data"
    },
    {
     "name": "stdout",
     "output_type": "stream",
     "text": [
      "jeff210\n",
      "/Users/adam2392/Johns Hopkins/Jefferson_Scalp - Documents/root/derivatives/ICA/1-30Hz-30/win-20/sub-jeff210/ses-1/eeg/sub-jeff210_ses-1_run-1_eeg.edf\n",
      "479000\n",
      "<RawEDF | sub-jeff210_ses-1_run-1_eeg.edf, 14 x 510500 (1021.0 s), ~20 kB, data not loaded>\n",
      "61\n",
      "0\n"
     ]
    }
   ],
   "source": [
    "display(data.head())\n",
    "print(subject)\n",
    "print(dataset[\"bids_path\"][idx])\n",
    "print(sample)\n",
    "print(raw)\n",
    "print(len(data))\n",
    "print(len(data[data[\"bad_epoch\"] == True]))\n",
    "# print(events)"
   ]
  },
  {
   "cell_type": "markdown",
   "id": "027035fb-f4ba-4913-a51c-4e38adb4bd55",
   "metadata": {},
   "source": [
    "# Create Feature Matrix from Spikes"
   ]
  },
  {
   "cell_type": "code",
   "execution_count": 188,
   "id": "72b3dc5f-cc94-4404-8c14-fc2502792113",
   "metadata": {},
   "outputs": [],
   "source": [
    "# now compute spike features depending on if they're in bad\n",
    "# epochs or not\n",
    "dataset = deepcopy(jh_spike_dataset)\n",
    "for key, item in jeff_spike_dataset.items():\n",
    "    dataset[key].extend(deepcopy(item))"
   ]
  },
  {
   "cell_type": "code",
   "execution_count": 190,
   "id": "b3df4baa-7042-4f4b-a742-063c6617e0c7",
   "metadata": {},
   "outputs": [],
   "source": [
    "# Now, let's remove all spikes with bad epochs\n",
    "for idx in range(len(dataset[\"subject\"])):\n",
    "    ch_spike_df = dataset[\"data\"][idx]\n",
    "\n",
    "    if ch_spike_df.empty:\n",
    "        continue\n",
    "\n",
    "    # only keep rows with bad epochs\n",
    "    ch_spike_df = ch_spike_df[ch_spike_df[\"bad_epoch\"] == False]\n",
    "    dataset[\"data\"][idx] = ch_spike_df"
   ]
  },
  {
   "cell_type": "code",
   "execution_count": 198,
   "id": "b544f733-5607-461e-a1f3-5ea08e8d8d04",
   "metadata": {},
   "outputs": [
    {
     "name": "stdout",
     "output_type": "stream",
     "text": [
      "(125, 6)\n"
     ]
    }
   ],
   "source": [
    "spike_features = []\n",
    "for idx in range(len(dataset[\"subject\"])):\n",
    "    ch_spike_df = dataset[\"data\"][idx]\n",
    "    ch_names = dataset[\"ch_names\"][idx]\n",
    "    spike_feature_vec = spike_feature_vector(ch_spike_df, ch_names)\n",
    "    spike_features.append(spike_feature_vec)\n",
    "\n",
    "spike_features = np.array(spike_features)\n",
    "\n",
    "print(spike_features.shape)"
   ]
  },
  {
   "cell_type": "code",
   "execution_count": null,
   "id": "03b5cdf4-425a-4511-a05a-caa86e1730eb",
   "metadata": {},
   "outputs": [],
   "source": []
  }
 ],
 "metadata": {
  "kernelspec": {
   "display_name": "episcalp",
   "language": "python",
   "name": "episcalp"
  },
  "language_info": {
   "codemirror_mode": {
    "name": "ipython",
    "version": 3
   },
   "file_extension": ".py",
   "mimetype": "text/x-python",
   "name": "python",
   "nbconvert_exporter": "python",
   "pygments_lexer": "ipython3",
   "version": "3.8.12"
  }
 },
 "nbformat": 4,
 "nbformat_minor": 5
}
