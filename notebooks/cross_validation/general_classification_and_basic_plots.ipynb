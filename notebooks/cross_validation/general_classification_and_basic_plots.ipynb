{
 "cells": [
  {
   "cell_type": "markdown",
   "id": "30a31de7-de95-47c6-8580-6124c692790b",
   "metadata": {
    "tags": []
   },
   "source": [
    "# Run a Binary/Multiclass Classification Experiment with Cross-Validation\n",
    "\n",
    "We are interested in extracting which features are necessarily important in the problem of separating out epilepsy from non-epilepsy scalp EEGs. We approach this problem from the lens of a statistical data science problem. \n",
    "\n",
    "We are given some relatively high-dimensional data over space and time for EEG, and are tasked with determining what properties of the data help a statistical algorithm consistently and robustly predict epilepsy and non-epilepsy.\n",
    "\n",
    "We can guide the problem's statistics in several ways:\n",
    "\n",
    "    - engineering of the features, X matrix\n",
    "    - engineering of the y labels, y vector\n",
    "    \n",
    "Engineering the X matrix features can involve encoding certain priors of the data. For example, one might assume spatial information is important.\n",
    "\n",
    "Engineering the y labels can involve different experimental design. Whether that is assuming that epilepsy normal EEGs are similar with epilepsy abnormal EEGs in feature space.\n",
    "\n",
    "## To Add New Features\n",
    "\n",
    "I implemented the `load_derived_datasets` and `get_X_features` functions inside episcalp, which handle loading datasets that are stored in BIDS derivative layout and then transforming those datasets into a feature matrix, X, for input into a classification task.\n",
    "\n",
    "`Load_derived_datasets` just requires one to define a new reading function similar to how I've done for fragility and tfrs. Spikes are loaded in directly from the raw dataset using `_compute_spike_rates`. \n",
    "\n",
    "To try different features, one just needs to modify `get_X_features`."
   ]
  },
  {
   "cell_type": "code",
   "execution_count": 52,
   "id": "a45060c1-474f-478d-bb6a-e5aa82143535",
   "metadata": {
    "tags": []
   },
   "outputs": [
    {
     "name": "stdout",
     "output_type": "stream",
     "text": [
      "The autoreload extension is already loaded. To reload it, use:\n",
      "  %reload_ext autoreload\n"
     ]
    }
   ],
   "source": [
    "import numpy as np\n",
    "import scipy\n",
    "import scipy.io\n",
    "import pandas as pd\n",
    "from pathlib import Path\n",
    "import os\n",
    "import collections\n",
    "from natsort import natsorted\n",
    "import json\n",
    "import pickle\n",
    "import warnings\n",
    "import sys\n",
    "\n",
    "from numpy.testing import assert_array_equal\n",
    "\n",
    "warnings.filterwarnings(\"ignore\")\n",
    "\n",
    "from sklearn.preprocessing import OrdinalEncoder, LabelBinarizer, LabelEncoder\n",
    "from sklearn.multiclass import OneVsRestClassifier\n",
    "from sklearn.dummy import DummyClassifier\n",
    "from sklearn.ensemble import RandomForestClassifier\n",
    "from sklearn.linear_model import LogisticRegression\n",
    "from sklearn.calibration import calibration_curve\n",
    "from sklearn.metrics import (\n",
    "    brier_score_loss,\n",
    "    roc_curve,\n",
    "    average_precision_score,\n",
    "    roc_auc_score,\n",
    "    f1_score,\n",
    "    recall_score, jaccard_score,\n",
    "    balanced_accuracy_score,\n",
    "    accuracy_score,\n",
    "    auc,precision_score,\n",
    "    plot_precision_recall_curve,\n",
    "    average_precision_score,\n",
    "    precision_recall_curve,\n",
    "    confusion_matrix,\n",
    "    cohen_kappa_score, make_scorer\n",
    ")\n",
    "from sklearn.inspection import permutation_importance\n",
    "from sklearn.model_selection import (\n",
    "    StratifiedGroupKFold,\n",
    "    cross_validate,\n",
    "    StratifiedShuffleSplit,\n",
    ")\n",
    "from sklearn.utils import resample\n",
    "import sklearn\n",
    "from sklearn import preprocessing\n",
    "from sklearn.pipeline import make_pipeline\n",
    "\n",
    "import mne\n",
    "from mne.time_frequency import read_tfrs\n",
    "\n",
    "mne.set_log_level(\"ERROR\")\n",
    "from mne_bids import BIDSPath, get_entities_from_fname, get_entity_vals, read_raw_bids\n",
    "\n",
    "from eztrack.io import read_derivative_npy\n",
    "\n",
    "sys.path.append(\"../../\")\n",
    "from episcalp.scripts.spikes.summary import _get_spike_annots\n",
    "from episcalp.cross_validate import get_X_features, load_derived_datasets, _compute_spike_rates\n",
    "from episcalp.preprocess.montage import _standard_lobes\n",
    "from episcalp.utils.utils import NumpyEncoder\n",
    "\n",
    "# if you installed sporf via README\n",
    "from oblique_forests.sporf import ObliqueForestClassifier\n",
    "\n",
    "import matplotlib as mpl\n",
    "import matplotlib.pyplot as plt\n",
    "import seaborn as sns\n",
    "import re\n",
    "\n",
    "%load_ext autoreload\n",
    "%autoreload 2\n",
    "%matplotlib inline"
   ]
  },
  {
   "cell_type": "code",
   "execution_count": 11,
   "id": "9d4669f3-6248-472b-9486-0518151ab3d9",
   "metadata": {},
   "outputs": [
    {
     "name": "stdout",
     "output_type": "stream",
     "text": [
      "1.1.dev0\n"
     ]
    }
   ],
   "source": [
    "# this should be at least 1.0\n",
    "print(sklearn.__version__)"
   ]
  },
  {
   "cell_type": "code",
   "execution_count": 12,
   "id": "2a3d5e66-0798-4534-ad8d-e1b5e91fd98b",
   "metadata": {},
   "outputs": [],
   "source": [
    "y_enc = LabelEncoder()\n",
    "y_enc = LabelBinarizer()"
   ]
  },
  {
   "cell_type": "code",
   "execution_count": 13,
   "id": "c6a36705-99b3-4434-a14a-aa4f50b821cf",
   "metadata": {},
   "outputs": [],
   "source": [
    "def _get_exp_condition(subject, root):\n",
    "    part_fname = os.path.join(root, \"participants.tsv\")\n",
    "    df = pd.read_csv(part_fname, sep=\"\\t\")\n",
    "\n",
    "    if not subject.startswith(\"sub-\"):\n",
    "        subject = f\"sub-{subject}\"\n",
    "\n",
    "    return df[df[\"participant_id\"] == subject]"
   ]
  },
  {
   "cell_type": "code",
   "execution_count": 14,
   "id": "9e742ad0-af6a-4be7-92b0-5a6606fa1d20",
   "metadata": {},
   "outputs": [],
   "source": [
    "def convert_experimental_cond_to_y(experimental_condition_list):\n",
    "    \"\"\"Encoder for y labels.\"\"\"\n",
    "    # Group name keys, assigned y-label values\n",
    "    experimental_condition_map = {\n",
    "        \"non-epilepsy-normal-eeg\": 0,\n",
    "        \"epilepsy-normal-eeg\": 1,\n",
    "        \"epilepsy-abnormal-eeg\": 2,\n",
    "    }\n",
    "    return [experimental_condition_map[cond] for cond in experimental_condition_list]"
   ]
  },
  {
   "cell_type": "markdown",
   "id": "8e24f023-009c-49f8-b5ac-29edaa6a96ab",
   "metadata": {
    "tags": []
   },
   "source": [
    "# Define possible helper functions"
   ]
  },
  {
   "cell_type": "code",
   "execution_count": 170,
   "id": "c3273cf7-5b9d-40dd-9179-2198104baf46",
   "metadata": {},
   "outputs": [],
   "source": [
    "def _preprocess_epochs_tfr(data):\n",
    "    \"\"\"Turn TFR data into a 2D array.\"\"\"\n",
    "    assert data.ndim == 4\n",
    "\n",
    "    # take the average over frequencies\n",
    "    data = np.mean(data, axis=2)\n",
    "\n",
    "    # move the epoch (\"window\") axis to last\n",
    "    data = np.moveaxis(data, 0, -2)\n",
    "\n",
    "    # compress the time axis\n",
    "    data = np.mean(data, axis=-1)\n",
    "\n",
    "    # convert to dB\n",
    "    data = 20 * np.log10(data)\n",
    "\n",
    "    data = np.reshape(data, (data.shape[0], -1))\n",
    "    return data"
   ]
  },
  {
   "cell_type": "code",
   "execution_count": 16,
   "id": "9c739968-7d9c-4642-ac27-f722f31ed072",
   "metadata": {},
   "outputs": [],
   "source": [
    "def _load_subject_derivs(deriv_path, read_func, subjects=None, search_str=\"*.npy\"):\n",
    "    if subjects is None:\n",
    "        subjects = get_entity_vals(deriv_path, \"subject\")\n",
    "\n",
    "    print(f\"Loading data for subjects: {subjects}\")\n",
    "    print(deriv_path)\n",
    "    \n",
    "    this_path = deriv_path\n",
    "    while this_path.parent.name != 'derivatives' and this_path.parent.name != '/':\n",
    "        this_path = this_path.parent\n",
    "    root = this_path.parent.parent\n",
    "\n",
    "    dataset = collections.defaultdict(list)\n",
    "    for subject in subjects:\n",
    "        subj_path = deriv_path / f\"sub-{subject}\"\n",
    "\n",
    "        # get all files of certain search_str\n",
    "        fpaths = subj_path.glob(search_str)\n",
    "\n",
    "        # now load in all file paths\n",
    "        for fpath in fpaths:\n",
    "            deriv = read_func(fpath, source_check=False)\n",
    "\n",
    "            # extract data\n",
    "            ch_names = deriv.ch_names\n",
    "            deriv_data = deriv.get_data()\n",
    "\n",
    "            dataset[\"subject\"].append(subject)\n",
    "            dataset[\"data\"].append(deriv_data)\n",
    "            dataset[\"ch_names\"].append(ch_names)\n",
    "            dataset['roots'].append(root)\n",
    "\n",
    "    return dataset"
   ]
  },
  {
   "cell_type": "code",
   "execution_count": 17,
   "id": "c164d5c6-a1db-40b7-9044-0db4aacd77d8",
   "metadata": {},
   "outputs": [],
   "source": [
    "def _load_subject_tfrs(deriv_path, read_func, subjects=None, search_str=\"*.h5\"):\n",
    "    if subjects is None:\n",
    "        subjects = get_entity_vals(deriv_path, \"subject\")\n",
    "\n",
    "    print(f\"Loading data for subjects: {subjects}\")\n",
    "    print(deriv_path)\n",
    "    \n",
    "    this_path = deriv_path\n",
    "    while this_path.parent.name != 'derivatives' and this_path.parent.name != '/':\n",
    "        this_path = this_path.parent\n",
    "    root = this_path.parent.parent\n",
    "\n",
    "    dataset = collections.defaultdict(list)\n",
    "    for subject in subjects:\n",
    "        subj_path = deriv_path / f\"sub-{subject}\"\n",
    "\n",
    "        # get all files of certain search_str\n",
    "        fpaths = subj_path.glob(search_str)\n",
    "\n",
    "        # now load in all file paths\n",
    "        for fpath in fpaths:\n",
    "            deriv = read_func(fpath)[0]\n",
    "            \n",
    "            # extract data\n",
    "            ch_names = deriv.ch_names\n",
    "            deriv_data = deriv.data\n",
    "            \n",
    "            # apply mean across axis 2\n",
    "            deriv_data = _preprocess_epochs_tfr(deriv_data)\n",
    "#             deriv_data = np.mean(deriv_data, axis=2)\n",
    "\n",
    "            dataset[\"subject\"].append(subject)\n",
    "            dataset[\"data\"].append(deriv_data)\n",
    "            dataset[\"ch_names\"].append(ch_names)\n",
    "            dataset['roots'].append(root)\n",
    "\n",
    "    return dataset"
   ]
  },
  {
   "cell_type": "code",
   "execution_count": 18,
   "id": "784ce07b-cc61-458c-b955-bb27e73d9c84",
   "metadata": {},
   "outputs": [],
   "source": [
    "def _load_subject_spikes(root, subjects=None, search_str = \"*.edf\"):\n",
    "    if subjects is None:\n",
    "        subjects = get_entity_vals(root, \"subject\")\n",
    "\n",
    "    print(f\"Loading data for subjects: {subjects}\")\n",
    "\n",
    "    dataset = collections.defaultdict(list)\n",
    "    for subject in subjects:\n",
    "        subj_path = root / f\"sub-{subject}\"\n",
    "\n",
    "        # get all files of certain search_str\n",
    "        fpaths = subj_path.rglob(search_str)\n",
    "\n",
    "        # now load in all file paths\n",
    "        for fpath in fpaths:\n",
    "            entities = get_entities_from_fname(fpath.name)\n",
    "            bids_path = BIDSPath(root=root, datatype=\"eeg\",\n",
    "                                extension='.edf', **entities)\n",
    "            raw = read_raw_bids(bids_path)\n",
    "\n",
    "            # extract data\n",
    "            ch_spike_rates = _compute_spike_rates(raw)\n",
    "\n",
    "            # normalize spike counts\n",
    "            for ch_name, val in ch_spike_rates.items():\n",
    "                ch_spike_rates[ch_name] = val / (raw.n_times / raw.info[\"sfreq\"])\n",
    "\n",
    "            # total spike rate = total # of spikes regardless of channel / times / n_chs\n",
    "            total_spike_rate = (\n",
    "                np.sum(list(ch_spike_rates.values()))\n",
    "                / len(raw.ch_names)\n",
    "                / (raw.n_times / raw.info[\"sfreq\"])\n",
    "            )\n",
    "\n",
    "            # max spike per lobe\n",
    "            ch_spikes = np.array(list(ch_spike_rates.values()))\n",
    "            lobe_dict = _standard_lobes(separate_hemispheres=False)\n",
    "\n",
    "            # value of the max spike rate\n",
    "            features = np.hstack(\n",
    "                (\n",
    "                    ch_spikes.mean(),\n",
    "                    ch_spikes.std(),\n",
    "                    np.quantile(ch_spikes, q=0.1),\n",
    "                    np.quantile(ch_spikes, q=0.5),\n",
    "                    np.quantile(ch_spikes, q=0.9),\n",
    "                    total_spike_rate,\n",
    "                )\n",
    "            )\n",
    "            ch_names = raw.ch_names\n",
    "\n",
    "            assert len(ch_names) == len(ch_spike_rates.keys())\n",
    "            assert_array_equal(ch_names, list(ch_spike_rates.keys()))\n",
    "\n",
    "            dataset[\"data\"].append(features)\n",
    "            dataset[\"subject\"].append(subject)\n",
    "            dataset[\"ch_names\"].append(ch_names)\n",
    "            dataset['roots'].append(root)\n",
    "    return dataset"
   ]
  },
  {
   "cell_type": "markdown",
   "id": "a3a208a9-f5ed-47e8-98d7-652a39fc9ee8",
   "metadata": {
    "tags": []
   },
   "source": [
    "# Define data directories"
   ]
  },
  {
   "cell_type": "code",
   "execution_count": 38,
   "id": "cf4796d6-8014-498f-8423-f559f61b271c",
   "metadata": {},
   "outputs": [],
   "source": [
    "jhroot = Path(\"/Users/adam2392/Johns Hopkins/Scalp EEG JHH - Documents/bids/\")\n",
    "jeffroot = Path(\"/Users/adam2392/Johns Hopkins/Jefferson_Scalp - Documents/root/\")\n",
    "\n",
    "# not ready yet\n",
    "upmcroot = Path(\"/Users/adam2392/Johns Hopkins/UPMC_Scalp - Documents/\")"
   ]
  },
  {
   "cell_type": "code",
   "execution_count": 20,
   "id": "748fecbf-58d4-49ca-844f-c5d60146324c",
   "metadata": {},
   "outputs": [],
   "source": [
    "reference = \"monopolar\"\n",
    "radius = \"1.25\"\n",
    "\n",
    "# define derivative chains\n",
    "ss_deriv_chain = Path(\"sourcesink\") / reference\n",
    "frag_deriv_chain = Path(\"fragility\") / f\"radius{radius}\" / reference\n",
    "\n",
    "delta_tfr_deriv_chain = Path(\"tfr\") / 'delta'\n",
    "theta_tfr_deriv_chain = Path(\"tfr\") / 'theta'\n",
    "alpha_tfr_deriv_chain = Path(\"tfr\") / 'alpha'\n",
    "beta_tfr_deriv_chain = Path(\"tfr\") / 'beta'"
   ]
  },
  {
   "cell_type": "code",
   "execution_count": 21,
   "id": "15d07d43-8dc8-4188-86e6-bdf83af5f696",
   "metadata": {},
   "outputs": [],
   "source": [
    "root = Path(\"/Users/adam2392/Johns Hopkins/Scalp EEG JHH - Documents/\")\n",
    "deriv_root = root / \"derivatives\"\n",
    "source_root = root / \"sourcedata\""
   ]
  },
  {
   "cell_type": "markdown",
   "id": "6903fa08-2f73-4198-a5fa-441dc5efd47e",
   "metadata": {},
   "source": [
    "# Verify the number of derivatives per subject per feature"
   ]
  },
  {
   "cell_type": "code",
   "execution_count": 43,
   "id": "8f150894-7beb-4d26-8650-a80d052e0bad",
   "metadata": {},
   "outputs": [
    {
     "name": "stdout",
     "output_type": "stream",
     "text": [
      "34\n",
      "{'jeff001': 2, 'jeff002': 1, 'jeff101': 2, 'jeff102': 5, 'jeff201': 6, 'jeff202': 5, 'jeff203': 2, 'jeff204': 1, 'jeff205': 1, 'jeff206': 1, 'jeff207': 1, 'jeff208': 5, 'jeff209': 1, 'jeff210': 1}\n",
      "33\n",
      "{'jeff001': 2, 'jeff002': 1, 'jeff101': 2, 'jeff102': 5, 'jeff201': 6, 'jeff202': 5, 'jeff203': 2, 'jeff204': 1, 'jeff205': 1, 'jeff206': 1, 'jeff207': 1, 'jeff208': 4, 'jeff209': 1, 'jeff210': 1}\n"
     ]
    }
   ],
   "source": [
    "\n",
    "for deriv_chain, search_str in zip([frag_deriv_chain, delta_tfr_deriv_chain],\n",
    "['*desc-perturbmatrix*.npy', '*.h5']):\n",
    "    num_datasets = dict()\n",
    "    deriv_path = jeffroot / 'derivatives' / deriv_chain\n",
    "    \n",
    "    subjects = get_entity_vals(deriv_path, 'subject')\n",
    "    for subject in subjects:\n",
    "        subj_path = deriv_path / f'sub-{subject}'\n",
    "        \n",
    "        fpaths = list(subj_path.glob(search_str))\n",
    "        num_datasets[subject] = len(fpaths)\n",
    "    \n",
    "    print(sum(num_datasets.values()))\n",
    "    print(num_datasets)"
   ]
  },
  {
   "cell_type": "markdown",
   "id": "48619c63-8dec-4347-aa0b-c617690b583e",
   "metadata": {
    "tags": []
   },
   "source": [
    "# Load Feature Spatiotemporal Heatmap Datasets"
   ]
  },
  {
   "cell_type": "code",
   "execution_count": 22,
   "id": "e20b9b17-065b-4e96-8dc5-989c65c068d9",
   "metadata": {},
   "outputs": [],
   "source": [
    "exp_name = 'fragilitylobes_jhhjeff'"
   ]
  },
  {
   "cell_type": "code",
   "execution_count": 44,
   "id": "d65effc9-f48a-463a-a3c4-7bdbe98ed1b9",
   "metadata": {
    "tags": []
   },
   "outputs": [
    {
     "name": "stdout",
     "output_type": "stream",
     "text": [
      "Loading data for subjects: ['jhh001', 'jhh002', 'jhh003', 'jhh004', 'jhh005', 'jhh006', 'jhh007', 'jhh008', 'jhh009', 'jhh010', 'jhh011', 'jhh012', 'jhh013', 'jhh014', 'jhh015', 'jhh016', 'jhh017', 'jhh018', 'jhh019', 'jhh020', 'jhh021', 'jhh022', 'jhh023', 'jhh024', 'jhh025', 'jhh026', 'jhh027', 'jhh028', 'jhh029', 'jhh030', 'jhh101', 'jhh102', 'jhh103', 'jhh104', 'jhh105', 'jhh106', 'jhh107', 'jhh108', 'jhh109', 'jhh110', 'jhh111', 'jhh112', 'jhh113', 'jhh114', 'jhh115', 'jhh116', 'jhh117', 'jhh118', 'jhh119', 'jhh120', 'jhh121', 'jhh122', 'jhh124', 'jhh125', 'jhh126', 'jhh127', 'jhh128', 'jhh201', 'jhh202', 'jhh203', 'jhh204', 'jhh205', 'jhh206', 'jhh207', 'jhh208', 'jhh209', 'jhh210', 'jhh211', 'jhh212', 'jhh213', 'jhh214', 'jhh215', 'jhh216', 'jhh217', 'jhh218', 'jhh219', 'jhh220', 'jhh221', 'jhh222', 'jhh223', 'jhh224', 'jhh225', 'jhh226', 'jhh227', 'jhh228', 'jhh229']\n",
      "/Users/adam2392/Johns Hopkins/Scalp EEG JHH - Documents/bids/derivatives/fragility/radius1.25/monopolar\n",
      "Loading data for subjects: ['jeff001', 'jeff002', 'jeff101', 'jeff102', 'jeff201', 'jeff202', 'jeff203', 'jeff204', 'jeff205', 'jeff206', 'jeff207', 'jeff208', 'jeff209', 'jeff210']\n",
      "/Users/adam2392/Johns Hopkins/Jefferson_Scalp - Documents/root/derivatives/fragility/radius1.25/monopolar\n"
     ]
    }
   ],
   "source": [
    "roots = [jhroot, jeffroot]\n",
    "deriv_chains = [frag_deriv_chain, frag_deriv_chain]\n",
    "\n",
    "load_func = _load_subject_derivs\n",
    "read_func = read_derivative_npy\n",
    "search_str = '*desc-perturbmatrix*.npy'\n",
    "\n",
    "# load fragility dataset\n",
    "fragility_dataset = load_derived_datasets(roots, deriv_chains=deriv_chains, \n",
    "                               load_func=load_func, \n",
    "                               read_func=read_func, search_str=search_str)"
   ]
  },
  {
   "cell_type": "code",
   "execution_count": 45,
   "id": "11a246f8-3de9-4a44-99ab-09b3bc4d7a58",
   "metadata": {},
   "outputs": [
    {
     "name": "stdout",
     "output_type": "stream",
     "text": [
      "(125, 5)\n"
     ]
    },
    {
     "data": {
      "text/plain": [
       "<AxesSubplot:>"
      ]
     },
     "execution_count": 45,
     "metadata": {},
     "output_type": "execute_result"
    },
    {
     "data": {
      "image/png": "[encoded data removed]",
      "text/plain": [
       "<Figure size 432x288 with 2 Axes>"
      ]
     },
     "metadata": {
      "needs_background": "light"
     },
     "output_type": "display_data"
    }
   ],
   "source": [
    "X_fragility = get_X_features(fragility_dataset, feature_name='data')\n",
    "\n",
    "print(X_fragility.shape)\n",
    "\n",
    "sns.heatmap(X_fragility)"
   ]
  },
  {
   "cell_type": "markdown",
   "id": "98e9283d-6db9-4a75-9418-2b97b39d182d",
   "metadata": {},
   "source": [
    "## Load SS Heatmaps"
   ]
  },
  {
   "cell_type": "code",
   "execution_count": 144,
   "id": "01434290-a2dd-4aaf-b032-425342593544",
   "metadata": {},
   "outputs": [
    {
     "name": "stdout",
     "output_type": "stream",
     "text": [
      "Loading data for subjects: ['jhh001', 'jhh002', 'jhh003', 'jhh004', 'jhh005', 'jhh006', 'jhh007', 'jhh008', 'jhh009', 'jhh010', 'jhh011', 'jhh012', 'jhh013', 'jhh014', 'jhh015', 'jhh016', 'jhh017', 'jhh018', 'jhh019', 'jhh020', 'jhh021', 'jhh022', 'jhh023', 'jhh024', 'jhh025', 'jhh026', 'jhh027', 'jhh028', 'jhh029', 'jhh030', 'jhh101', 'jhh102', 'jhh103', 'jhh104', 'jhh105', 'jhh106', 'jhh107', 'jhh108', 'jhh109', 'jhh110', 'jhh111', 'jhh112', 'jhh113', 'jhh114', 'jhh115', 'jhh116', 'jhh117', 'jhh118', 'jhh119', 'jhh120', 'jhh121', 'jhh122', 'jhh124', 'jhh125', 'jhh126', 'jhh127', 'jhh128', 'jhh201', 'jhh202', 'jhh203', 'jhh204', 'jhh205', 'jhh206', 'jhh207', 'jhh208', 'jhh209', 'jhh210', 'jhh211', 'jhh212', 'jhh213', 'jhh214', 'jhh215', 'jhh216', 'jhh217', 'jhh218', 'jhh219', 'jhh220', 'jhh221', 'jhh222', 'jhh223', 'jhh224', 'jhh225', 'jhh226', 'jhh227', 'jhh228', 'jhh229']\n",
      "/Users/adam2392/Johns Hopkins/Scalp EEG JHH - Documents/bids/derivatives/sourcesink/monopolar\n",
      "Loading data for subjects: ['jeff001', 'jeff002', 'jeff101', 'jeff102', 'jeff201', 'jeff202', 'jeff203', 'jeff204', 'jeff205', 'jeff206', 'jeff207', 'jeff208', 'jeff209', 'jeff210']\n",
      "/Users/adam2392/Johns Hopkins/Jefferson_Scalp - Documents/root/derivatives/sourcesink/monopolar\n"
     ]
    }
   ],
   "source": [
    "roots = [jhroot, jeffroot]\n",
    "deriv_chains = [ss_deriv_chain, ss_deriv_chain]\n",
    "\n",
    "load_func = _load_subject_derivs\n",
    "read_func = read_derivative_npy\n",
    "search_str = '*desc-ssindmatrix*.npy'\n",
    "\n",
    "# load fragility dataset\n",
    "ss_dataset = load_derived_datasets(roots, deriv_chains=deriv_chains, \n",
    "                               load_func=load_func, \n",
    "                               read_func=read_func, search_str=search_str)"
   ]
  },
  {
   "cell_type": "code",
   "execution_count": 145,
   "id": "bdf6efc6-4d9e-47cc-a036-bfa8a30a6a88",
   "metadata": {},
   "outputs": [
    {
     "name": "stdout",
     "output_type": "stream",
     "text": [
      "(125, 5)\n"
     ]
    },
    {
     "data": {
      "text/plain": [
       "<AxesSubplot:>"
      ]
     },
     "execution_count": 145,
     "metadata": {},
     "output_type": "execute_result"
    },
    {
     "data": {
      "image/png": "[encoded data removed]",
      "text/plain": [
       "<Figure size 432x288 with 2 Axes>"
      ]
     },
     "metadata": {
      "needs_background": "light"
     },
     "output_type": "display_data"
    }
   ],
   "source": [
    "X_ss = get_X_features(ss_dataset, feature_name='data')\n",
    "print(X_ss.shape)\n",
    "sns.heatmap(X_ss)"
   ]
  },
  {
   "cell_type": "markdown",
   "id": "f4244683-800c-45f7-9976-e7bb7ea4c906",
   "metadata": {},
   "source": [
    "## Load TFR Heatmaps"
   ]
  },
  {
   "cell_type": "code",
   "execution_count": 171,
   "id": "372a7081-f6b8-48f8-93c1-73b22bd911ca",
   "metadata": {},
   "outputs": [
    {
     "name": "stdout",
     "output_type": "stream",
     "text": [
      "Loading data for subjects: ['jhh001', 'jhh002', 'jhh003', 'jhh004', 'jhh005', 'jhh006', 'jhh007', 'jhh008', 'jhh009', 'jhh010', 'jhh011', 'jhh012', 'jhh013', 'jhh014', 'jhh015', 'jhh016', 'jhh017', 'jhh018', 'jhh019', 'jhh020', 'jhh021', 'jhh022', 'jhh023', 'jhh024', 'jhh025', 'jhh026', 'jhh027', 'jhh028', 'jhh029', 'jhh030', 'jhh101', 'jhh102', 'jhh103', 'jhh104', 'jhh105', 'jhh106', 'jhh107', 'jhh108', 'jhh109', 'jhh110', 'jhh111', 'jhh112', 'jhh113', 'jhh114', 'jhh115', 'jhh116', 'jhh117', 'jhh118', 'jhh119', 'jhh120', 'jhh121', 'jhh122', 'jhh124', 'jhh125', 'jhh126', 'jhh127', 'jhh128', 'jhh201', 'jhh202', 'jhh203', 'jhh204', 'jhh205', 'jhh206', 'jhh207', 'jhh208', 'jhh209', 'jhh210', 'jhh211', 'jhh212', 'jhh213', 'jhh214', 'jhh215', 'jhh216', 'jhh217', 'jhh218', 'jhh219', 'jhh220', 'jhh221', 'jhh222', 'jhh223', 'jhh224', 'jhh225', 'jhh226', 'jhh227', 'jhh228', 'jhh229']\n",
      "/Users/adam2392/Johns Hopkins/Scalp EEG JHH - Documents/bids/derivatives/tfr/delta\n",
      "Loading data for subjects: ['jeff001', 'jeff002', 'jeff101', 'jeff102', 'jeff201', 'jeff202', 'jeff203', 'jeff204', 'jeff205', 'jeff206', 'jeff207', 'jeff208', 'jeff209', 'jeff210']\n",
      "/Users/adam2392/Johns Hopkins/Jefferson_Scalp - Documents/root/derivatives/tfr/delta\n",
      "(125, 5)\n"
     ]
    },
    {
     "data": {
      "text/plain": [
       "<AxesSubplot:>"
      ]
     },
     "execution_count": 171,
     "metadata": {},
     "output_type": "execute_result"
    },
    {
     "data": {
      "image/png": "[encoded data removed]",
      "text/plain": [
       "<Figure size 432x288 with 2 Axes>"
      ]
     },
     "metadata": {
      "needs_background": "light"
     },
     "output_type": "display_data"
    }
   ],
   "source": [
    "roots = [jhroot, jeffroot]\n",
    "deriv_chains = [delta_tfr_deriv_chain, delta_tfr_deriv_chain]\n",
    "\n",
    "load_func = _load_subject_tfrs\n",
    "read_func = read_tfrs\n",
    "search_str = '*.h5'\n",
    "\n",
    "# load fragility dataset\n",
    "delta_dataset = load_derived_datasets(roots, deriv_chains=deriv_chains, \n",
    "                               load_func=load_func, \n",
    "                               read_func=read_func, search_str=search_str)\n",
    "\n",
    "X_delta = get_X_features(delta_dataset, feature_name='data')\n",
    "print(X_delta.shape)\n",
    "sns.heatmap(X_delta)"
   ]
  },
  {
   "cell_type": "code",
   "execution_count": 29,
   "id": "7a23beb4-ff34-446e-bc1a-54a9365e7a98",
   "metadata": {},
   "outputs": [
    {
     "name": "stdout",
     "output_type": "stream",
     "text": [
      "Loading data for subjects: ['jhh001', 'jhh002', 'jhh003', 'jhh004', 'jhh005', 'jhh006', 'jhh007', 'jhh008', 'jhh009', 'jhh010', 'jhh011', 'jhh012', 'jhh013', 'jhh014', 'jhh015', 'jhh016', 'jhh017', 'jhh018', 'jhh019', 'jhh020', 'jhh021', 'jhh022', 'jhh023', 'jhh024', 'jhh025', 'jhh026', 'jhh027', 'jhh028', 'jhh029', 'jhh030', 'jhh101', 'jhh102', 'jhh103', 'jhh104', 'jhh105', 'jhh106', 'jhh107', 'jhh108', 'jhh109', 'jhh110', 'jhh111', 'jhh112', 'jhh113', 'jhh114', 'jhh115', 'jhh116', 'jhh117', 'jhh118', 'jhh119', 'jhh120', 'jhh121', 'jhh122', 'jhh124', 'jhh125', 'jhh126', 'jhh127', 'jhh128', 'jhh201', 'jhh202', 'jhh203', 'jhh204', 'jhh205', 'jhh206', 'jhh207', 'jhh208', 'jhh209', 'jhh210', 'jhh211', 'jhh212', 'jhh213', 'jhh214', 'jhh215', 'jhh216', 'jhh217', 'jhh218', 'jhh219', 'jhh220', 'jhh221', 'jhh222', 'jhh223', 'jhh224', 'jhh225', 'jhh226', 'jhh227', 'jhh228', 'jhh229']\n",
      "/Users/adam2392/Johns Hopkins/Scalp EEG JHH - Documents/bids/derivatives/tfr/theta\n",
      "Loading data for subjects: ['jeff001', 'jeff002', 'jeff101', 'jeff102', 'jeff201', 'jeff202', 'jeff203', 'jeff204', 'jeff205', 'jeff206', 'jeff207', 'jeff208', 'jeff209', 'jeff210']\n",
      "/Users/adam2392/Johns Hopkins/Jefferson_Scalp - Documents/root/derivatives/tfr/theta\n",
      "(125, 5)\n"
     ]
    },
    {
     "data": {
      "text/plain": [
       "<AxesSubplot:>"
      ]
     },
     "execution_count": 29,
     "metadata": {},
     "output_type": "execute_result"
    },
    {
     "data": {
      "image/png": "[encoded data removed]",
      "text/plain": [
       "<Figure size 432x288 with 2 Axes>"
      ]
     },
     "metadata": {
      "needs_background": "light"
     },
     "output_type": "display_data"
    }
   ],
   "source": [
    "roots = [jhroot, jeffroot]\n",
    "deriv_chains = [theta_tfr_deriv_chain, theta_tfr_deriv_chain]\n",
    "\n",
    "load_func = _load_subject_tfrs\n",
    "read_func = read_tfrs\n",
    "search_str = '*.h5'\n",
    "\n",
    "# load fragility dataset\n",
    "theta_dataset = load_derived_datasets(roots, deriv_chains=deriv_chains, \n",
    "                               load_func=load_func, \n",
    "                               read_func=read_func, search_str=search_str)\n",
    "\n",
    "X_theta = get_X_features(theta_dataset, feature_name='data')\n",
    "print(X_theta.shape)\n",
    "sns.heatmap(X_theta)"
   ]
  },
  {
   "cell_type": "code",
   "execution_count": 30,
   "id": "fa77a5c4-e525-43bb-b8dd-48b5fb534c58",
   "metadata": {},
   "outputs": [
    {
     "name": "stdout",
     "output_type": "stream",
     "text": [
      "Loading data for subjects: ['jhh001', 'jhh002', 'jhh003', 'jhh004', 'jhh005', 'jhh006', 'jhh007', 'jhh008', 'jhh009', 'jhh010', 'jhh011', 'jhh012', 'jhh013', 'jhh014', 'jhh015', 'jhh016', 'jhh017', 'jhh018', 'jhh019', 'jhh020', 'jhh021', 'jhh022', 'jhh023', 'jhh024', 'jhh025', 'jhh026', 'jhh027', 'jhh028', 'jhh029', 'jhh030', 'jhh101', 'jhh102', 'jhh103', 'jhh104', 'jhh105', 'jhh106', 'jhh107', 'jhh108', 'jhh109', 'jhh110', 'jhh111', 'jhh112', 'jhh113', 'jhh114', 'jhh115', 'jhh116', 'jhh117', 'jhh118', 'jhh119', 'jhh120', 'jhh121', 'jhh122', 'jhh124', 'jhh125', 'jhh126', 'jhh127', 'jhh128', 'jhh201', 'jhh202', 'jhh203', 'jhh204', 'jhh205', 'jhh206', 'jhh207', 'jhh208', 'jhh209', 'jhh210', 'jhh211', 'jhh212', 'jhh213', 'jhh214', 'jhh215', 'jhh216', 'jhh217', 'jhh218', 'jhh219', 'jhh220', 'jhh221', 'jhh222', 'jhh223', 'jhh224', 'jhh225', 'jhh226', 'jhh227', 'jhh228', 'jhh229']\n",
      "/Users/adam2392/Johns Hopkins/Scalp EEG JHH - Documents/bids/derivatives/tfr/alpha\n",
      "Loading data for subjects: ['jeff001', 'jeff002', 'jeff101', 'jeff102', 'jeff201', 'jeff202', 'jeff203', 'jeff204', 'jeff205', 'jeff206', 'jeff207', 'jeff208', 'jeff209', 'jeff210']\n",
      "/Users/adam2392/Johns Hopkins/Jefferson_Scalp - Documents/root/derivatives/tfr/alpha\n"
     ]
    }
   ],
   "source": [
    "roots = [jhroot, jeffroot]\n",
    "deriv_chains = [alpha_tfr_deriv_chain, alpha_tfr_deriv_chain]\n",
    "\n",
    "load_func = _load_subject_tfrs\n",
    "read_func = read_tfrs\n",
    "search_str = '*.h5'\n",
    "\n",
    "# load fragility dataset\n",
    "alpha_dataset = load_derived_datasets(roots, deriv_chains=deriv_chains, \n",
    "                               load_func=load_func, \n",
    "                               read_func=read_func, search_str=search_str)\n",
    "\n",
    "X_alpha = get_X_features(alpha_dataset, feature_name='data')"
   ]
  },
  {
   "cell_type": "code",
   "execution_count": 31,
   "id": "66251448-408d-496d-b0c8-7cc305da9399",
   "metadata": {
    "tags": []
   },
   "outputs": [
    {
     "name": "stdout",
     "output_type": "stream",
     "text": [
      "Loading data for subjects: ['jhh001', 'jhh002', 'jhh003', 'jhh004', 'jhh005', 'jhh006', 'jhh007', 'jhh008', 'jhh009', 'jhh010', 'jhh011', 'jhh012', 'jhh013', 'jhh014', 'jhh015', 'jhh016', 'jhh017', 'jhh018', 'jhh019', 'jhh020', 'jhh021', 'jhh022', 'jhh023', 'jhh024', 'jhh025', 'jhh026', 'jhh027', 'jhh028', 'jhh029', 'jhh030', 'jhh101', 'jhh102', 'jhh103', 'jhh104', 'jhh105', 'jhh106', 'jhh107', 'jhh108', 'jhh109', 'jhh110', 'jhh111', 'jhh112', 'jhh113', 'jhh114', 'jhh115', 'jhh116', 'jhh117', 'jhh118', 'jhh119', 'jhh120', 'jhh121', 'jhh122', 'jhh124', 'jhh125', 'jhh126', 'jhh127', 'jhh128', 'jhh201', 'jhh202', 'jhh203', 'jhh204', 'jhh205', 'jhh206', 'jhh207', 'jhh208', 'jhh209', 'jhh210', 'jhh211', 'jhh212', 'jhh213', 'jhh214', 'jhh215', 'jhh216', 'jhh217', 'jhh218', 'jhh219', 'jhh220', 'jhh221', 'jhh222', 'jhh223', 'jhh224', 'jhh225', 'jhh226', 'jhh227', 'jhh228', 'jhh229']\n",
      "/Users/adam2392/Johns Hopkins/Scalp EEG JHH - Documents/bids/derivatives/tfr/beta\n",
      "Loading data for subjects: ['jeff001', 'jeff002', 'jeff101', 'jeff102', 'jeff201', 'jeff202', 'jeff203', 'jeff204', 'jeff205', 'jeff206', 'jeff207', 'jeff208', 'jeff209', 'jeff210']\n",
      "/Users/adam2392/Johns Hopkins/Jefferson_Scalp - Documents/root/derivatives/tfr/beta\n"
     ]
    }
   ],
   "source": [
    "roots = [jhroot, jeffroot]\n",
    "deriv_chains = [beta_tfr_deriv_chain, beta_tfr_deriv_chain]\n",
    "\n",
    "load_func = _load_subject_tfrs\n",
    "read_func = read_tfrs\n",
    "search_str = '*.h5'\n",
    "\n",
    "# load fragility dataset\n",
    "beta_dataset = load_derived_datasets(roots, deriv_chains=deriv_chains, \n",
    "                               load_func=load_func, \n",
    "                               read_func=read_func, search_str=search_str)\n",
    "X_beta = get_X_features(beta_dataset, feature_name='data')"
   ]
  },
  {
   "cell_type": "markdown",
   "id": "56538d29-23ff-494c-aae6-5b435e268f1d",
   "metadata": {},
   "source": [
    "## Load Spikes"
   ]
  },
  {
   "cell_type": "code",
   "execution_count": 32,
   "id": "88c1ac68-ec55-4c19-980a-e5d694eaed41",
   "metadata": {},
   "outputs": [
    {
     "name": "stdout",
     "output_type": "stream",
     "text": [
      "Getting spikes for /Users/adam2392/Johns Hopkins/Scalp EEG JHH - Documents/bids\n",
      "Loading data for subjects: ['jhh001', 'jhh002', 'jhh003', 'jhh004', 'jhh005', 'jhh006', 'jhh007', 'jhh008', 'jhh009', 'jhh010', 'jhh011', 'jhh012', 'jhh013', 'jhh014', 'jhh015', 'jhh016', 'jhh017', 'jhh018', 'jhh019', 'jhh020', 'jhh021', 'jhh022', 'jhh023', 'jhh024', 'jhh025', 'jhh026', 'jhh027', 'jhh028', 'jhh029', 'jhh030', 'jhh101', 'jhh102', 'jhh103', 'jhh104', 'jhh105', 'jhh106', 'jhh107', 'jhh108', 'jhh109', 'jhh110', 'jhh111', 'jhh112', 'jhh113', 'jhh114', 'jhh115', 'jhh116', 'jhh117', 'jhh118', 'jhh119', 'jhh120', 'jhh121', 'jhh122', 'jhh124', 'jhh125', 'jhh126', 'jhh127', 'jhh128', 'jhh201', 'jhh202', 'jhh203', 'jhh204', 'jhh205', 'jhh206', 'jhh207', 'jhh208', 'jhh209', 'jhh210', 'jhh211', 'jhh212', 'jhh213', 'jhh214', 'jhh215', 'jhh216', 'jhh217', 'jhh218', 'jhh219', 'jhh220', 'jhh221', 'jhh222', 'jhh223', 'jhh224', 'jhh225', 'jhh226', 'jhh227', 'jhh228', 'jhh229']\n",
      "Getting spikes for /Users/adam2392/Johns Hopkins/Jefferson_Scalp - Documents/root\n",
      "Loading data for subjects: ['jeff001', 'jeff002', 'jeff101', 'jeff102', 'jeff201', 'jeff202', 'jeff203', 'jeff204', 'jeff205', 'jeff206', 'jeff207', 'jeff208', 'jeff209', 'jeff210']\n",
      "Done...\n"
     ]
    }
   ],
   "source": [
    "def _convert_list_to_collection(deriv_dataset):\n",
    "    # convert to a dictionary of lists\n",
    "    derived_dataset = {key: [] for key in deriv_dataset[0].keys()}\n",
    "    for deriv in deriv_dataset:\n",
    "        for key in derived_dataset.keys():\n",
    "            derived_dataset[key].extend(deriv[key])\n",
    "\n",
    "    return derived_dataset\n",
    "\n",
    "dataset_list = []\n",
    "for root in roots:\n",
    "    print('Getting spikes for', root)\n",
    "    spike_dataset = _load_subject_spikes(root)\n",
    "    dataset_list.append(spike_dataset)\n",
    "\n",
    "print('Done...')\n",
    "spikes_dataset = _convert_list_to_collection(dataset_list)"
   ]
  },
  {
   "cell_type": "code",
   "execution_count": 33,
   "id": "403daa85-5c80-4440-9c68-c73aae3d1fce",
   "metadata": {},
   "outputs": [
    {
     "name": "stdout",
     "output_type": "stream",
     "text": [
      "(125, 6)\n"
     ]
    }
   ],
   "source": [
    "X_spikes = np.array(spikes_dataset['data'])\n",
    "print(X_spikes.shape)"
   ]
  },
  {
   "cell_type": "markdown",
   "id": "81743525-1c0e-458e-b10c-78e5a4eab14f",
   "metadata": {},
   "source": [
    "# Creating Final Feature Matrix"
   ]
  },
  {
   "cell_type": "markdown",
   "id": "55778a20-6953-4ace-bbd5-017b482895a8",
   "metadata": {},
   "source": [
    "## Optionally Join all/subset of Features"
   ]
  },
  {
   "cell_type": "code",
   "execution_count": 50,
   "id": "a92f2f52-6ae6-4d6d-ac3a-f4ac898b596c",
   "metadata": {},
   "outputs": [],
   "source": [
    "from sklearn.preprocessing import StandardScaler\n",
    "\n",
    "scaler = StandardScaler()"
   ]
  },
  {
   "cell_type": "code",
   "execution_count": 46,
   "id": "353116ba-35e5-42b6-b835-37fb28e45633",
   "metadata": {},
   "outputs": [
    {
     "name": "stdout",
     "output_type": "stream",
     "text": [
      "(125, 5) (125, 5)\n"
     ]
    }
   ],
   "source": [
    "print(X_fragility.shape, X_delta.shape)"
   ]
  },
  {
   "cell_type": "code",
   "execution_count": 146,
   "id": "dd6e5a8e-ceeb-49d1-a9c0-7f9732ba992c",
   "metadata": {},
   "outputs": [
    {
     "name": "stdout",
     "output_type": "stream",
     "text": [
      "(125, 36)\n"
     ]
    },
    {
     "data": {
      "text/plain": [
       "<AxesSubplot:>"
      ]
     },
     "execution_count": 146,
     "metadata": {},
     "output_type": "execute_result"
    },
    {
     "data": {
      "image/png": "[encoded data removed]",
      "text/plain": [
       "<Figure size 432x288 with 2 Axes>"
      ]
     },
     "metadata": {
      "needs_background": "light"
     },
     "output_type": "display_data"
    }
   ],
   "source": [
    "X = np.hstack((X_fragility, X_ss, X_delta, X_theta, X_alpha, X_beta, X_spikes))\n",
    "print(X.shape)\n",
    "\n",
    "sns.heatmap(scaler.fit_transform(X))"
   ]
  },
  {
   "cell_type": "markdown",
   "id": "b49d97a6-cacb-4246-86a5-624c07b49deb",
   "metadata": {},
   "source": [
    "## Optionally Convert A Single Spatiotemporal Datasets Into Feature Matrix"
   ]
  },
  {
   "cell_type": "code",
   "execution_count": 168,
   "id": "086bb4aa-3bba-4b53-9c9f-31ed7b4510c9",
   "metadata": {},
   "outputs": [
    {
     "name": "stdout",
     "output_type": "stream",
     "text": [
      "dict_keys(['subject', 'data', 'ch_names', 'roots'])\n"
     ]
    }
   ],
   "source": [
    "print(fragility_dataset.keys())"
   ]
  },
  {
   "cell_type": "code",
   "execution_count": 169,
   "id": "2de7d2e9-d6e7-4910-85b6-7f5a424e8c7c",
   "metadata": {},
   "outputs": [
    {
     "name": "stdout",
     "output_type": "stream",
     "text": [
      "(125, 5)\n"
     ]
    },
    {
     "data": {
      "text/plain": [
       "<AxesSubplot:>"
      ]
     },
     "execution_count": 169,
     "metadata": {},
     "output_type": "execute_result"
    },
    {
     "data": {
      "image/png": "[encoded data removed]",
      "text/plain": [
       "<Figure size 432x288 with 2 Axes>"
      ]
     },
     "metadata": {
      "needs_background": "light"
     },
     "output_type": "display_data"
    }
   ],
   "source": [
    "X = get_X_features(fragility_dataset, feature_name='data')\n",
    "\n",
    "print(X.shape)\n",
    "\n",
    "sns.heatmap(X)"
   ]
  },
  {
   "cell_type": "markdown",
   "id": "21d1e885-c426-4aa7-a9fa-db499e97fac5",
   "metadata": {},
   "source": [
    "# Creating the final set of labels"
   ]
  },
  {
   "cell_type": "code",
   "execution_count": 54,
   "id": "c24b0b02-9e15-445c-9147-0605a2a498c3",
   "metadata": {},
   "outputs": [
    {
     "name": "stdout",
     "output_type": "stream",
     "text": [
      "dict_keys(['subject', 'data', 'ch_names', 'roots'])\n",
      "['epilepsy-abnormal-eeg' 'epilepsy-normal-eeg' 'non-epilepsy-normal-eeg']\n"
     ]
    }
   ],
   "source": [
    "dataset = fragility_dataset\n",
    "\n",
    "print(dataset.keys())\n",
    "# get the y-labels \n",
    "subjects = np.array(dataset['subject'])\n",
    "roots = dataset['roots']\n",
    "\n",
    "exp_conditions = []\n",
    "for subject, root in zip(subjects, roots):\n",
    "    subj_df = _get_exp_condition(subject, root)\n",
    "    exp_condition = subj_df[\"exp_condition\"].values[0]\n",
    "    exp_conditions.append(exp_condition)\n",
    "print(np.unique(exp_conditions))"
   ]
  },
  {
   "cell_type": "code",
   "execution_count": 55,
   "id": "c3b6f687-98bd-4c80-9a40-e102a9b3c4d2",
   "metadata": {},
   "outputs": [
    {
     "name": "stdout",
     "output_type": "stream",
     "text": [
      "['epilepsy-abnormal-eeg' 'epilepsy-normal-eeg' 'non-epilepsy-normal-eeg']\n",
      "(125, 3)\n"
     ]
    }
   ],
   "source": [
    "y = y_enc.fit_transform(exp_conditions)\n",
    "y_classes = y_enc.classes_\n",
    "print(y_enc.classes_)\n",
    "print(y.shape)"
   ]
  },
  {
   "cell_type": "code",
   "execution_count": 56,
   "id": "eee13370-78cd-4978-9311-bc720d02e834",
   "metadata": {},
   "outputs": [
    {
     "name": "stdout",
     "output_type": "stream",
     "text": [
      "['Fp1', 'Fp2', 'F3', 'F4', 'P3', 'P4', 'O1', 'O2', 'F7', 'F8', 'T3', 'T4', 'T5', 'T6']\n"
     ]
    }
   ],
   "source": [
    "from numpy.testing import assert_array_equal\n",
    "\n",
    "dataset = fragility_dataset\n",
    "ch_names = dataset['ch_names'][0]\n",
    "for idx, ch_names_ in enumerate(dataset['ch_names']):\n",
    "    try:\n",
    "        assert_array_equal(ch_names, ch_names_)\n",
    "    except Exception as e:\n",
    "        print(dataset['subject'][idx])\n",
    "#         raise Exception(e)\n",
    "#         print(e)\n",
    "\n",
    "print(ch_names)"
   ]
  },
  {
   "cell_type": "markdown",
   "id": "373efd66-300b-4df5-b346-b856ec63cf00",
   "metadata": {
    "tags": []
   },
   "source": [
    "# Define Cross Validation Experiment"
   ]
  },
  {
   "cell_type": "code",
   "execution_count": 118,
   "id": "910506d1-01be-43d1-b702-1d2dab614ed5",
   "metadata": {},
   "outputs": [],
   "source": [
    "n_splits = 20\n",
    "train_size = 0.7\n",
    "random_state = 12345"
   ]
  },
  {
   "cell_type": "code",
   "execution_count": 119,
   "id": "cd32998e-9325-4453-8bdc-c964f0b55972",
   "metadata": {},
   "outputs": [],
   "source": [
    "cv = StratifiedGroupKFold(\n",
    "    n_splits=n_splits,\n",
    "    random_state=random_state,\n",
    "    shuffle=True,\n",
    ")\n",
    "cv = StratifiedShuffleSplit(\n",
    "    n_splits=n_splits,\n",
    "    train_size=train_size,\n",
    "    random_state=random_state,\n",
    ")"
   ]
  },
  {
   "cell_type": "markdown",
   "id": "29bd80ef-f6a3-47a4-92dd-95942e5aaa56",
   "metadata": {
    "tags": []
   },
   "source": [
    "## Define Classification Models"
   ]
  },
  {
   "cell_type": "code",
   "execution_count": 120,
   "id": "cbeeb2e6-e4c6-4b6c-8f4e-facd9346b1f3",
   "metadata": {},
   "outputs": [],
   "source": [
    "random_state = 12345\n",
    "clf_name = \"sporf\"\n",
    "# clf_name = 'rf'\n",
    "clf_name = 'lr'\n",
    "max_features = X.shape[1]\n",
    "\n",
    "rf_model_params = {\n",
    "    \"n_estimators\": 1000,\n",
    "    \"max_features\": max_features,\n",
    "    \"n_jobs\": -1,\n",
    "    \"random_state\": random_state,\n",
    "}\n",
    "lr_model_params = {\"n_jobs\": -1, \"random_state\": random_state, 'penalty': 'l2'}"
   ]
  },
  {
   "cell_type": "code",
   "execution_count": 165,
   "id": "9ba22d0d-75d1-4829-8205-f928f80ccb4c",
   "metadata": {},
   "outputs": [
    {
     "name": "stdout",
     "output_type": "stream",
     "text": [
      "Pipeline(steps=[('standardscaler', StandardScaler()),\n",
      "                ('onevsrestclassifier',\n",
      "                 OneVsRestClassifier(estimator=LogisticRegression(n_jobs=-1,\n",
      "                                                                  random_state=12345)))])\n",
      "[('standardscaler', StandardScaler()), ('onevsrestclassifier', OneVsRestClassifier(estimator=LogisticRegression(n_jobs=-1, random_state=12345)))]\n"
     ]
    }
   ],
   "source": [
    "if clf_name == \"rf\":\n",
    "    clf = RandomForestClassifier(**rf_model_params)\n",
    "elif clf_name == \"sporf\":\n",
    "    # only used if you installed cysporf\n",
    "    clf = ObliqueForestClassifier(**rf_model_params)\n",
    "elif clf_name == \"lr\":\n",
    "    clf = LogisticRegression(**lr_model_params)\n",
    "    \n",
    "# for multiclass\n",
    "clf = OneVsRestClassifier(clf)\n",
    "\n",
    "clf = make_pipeline(\n",
    "    StandardScaler(), \n",
    "    clf\n",
    ")\n",
    "print(clf)\n",
    "print(clf.steps)"
   ]
  },
  {
   "cell_type": "markdown",
   "id": "5112eab9-caea-47ea-89ff-bcc5e194a781",
   "metadata": {
    "tags": []
   },
   "source": [
    "# Run Recursive Feature Selection"
   ]
  },
  {
   "cell_type": "code",
   "execution_count": 153,
   "id": "c07584ef-06c1-4e55-ac17-01e0b0d57334",
   "metadata": {},
   "outputs": [],
   "source": [
    "from sklearn.feature_selection import RFECV, RFE\n",
    "from mlxtend.feature_selection import ExhaustiveFeatureSelector as EFS"
   ]
  },
  {
   "cell_type": "code",
   "execution_count": 147,
   "id": "01578440-1a71-4cc3-89e3-3dfa84fa1a93",
   "metadata": {},
   "outputs": [
    {
     "name": "stdout",
     "output_type": "stream",
     "text": [
      "36\n",
      "(125, 36)\n",
      "['fragility_q0.1', 'fragility_q0.5', 'fragility_q0.9', 'fragility_mean', 'fragility_std', 'ss_q0.1', 'ss_q0.5', 'ss_q0.9', 'ss_mean', 'ss_std', 'delta_q0.1', 'delta_q0.5', 'delta_q0.9', 'delta_mean', 'delta_std', 'theta_q0.1', 'theta_q0.5', 'theta_q0.9', 'theta_mean', 'theta_std', 'alpha_q0.1', 'alpha_q0.5', 'alpha_q0.9', 'alpha_mean', 'alpha_std', 'beta_q0.1', 'beta_q0.5', 'beta_q0.9', 'beta_mean', 'beta_std', 'spike_mean', 'spike_std', 'spike_q0.1', 'spike_q0.5', 'spike_q0.9', 'spike_total']\n"
     ]
    }
   ],
   "source": [
    "feature_vec_names = np.hstack([f'{feat_name}_q0.1', f'{feat_name}_q0.5', f'{feat_name}_q0.9', f'{feat_name}_mean', f'{feat_name}_std'] for feat_name in \\\n",
    "                     ['fragility', 'ss', 'delta', 'theta', 'alpha', 'beta'])\n",
    "\n",
    "feature_vec_names = feature_vec_names.tolist() + ['spike_mean', 'spike_std', 'spike_q0.1', 'spike_q0.5', 'spike_q0.9', 'spike_total']\n",
    "print(len(feature_vec_names))\n",
    "print(X.shape)\n",
    "\n",
    "print(feature_vec_names)"
   ]
  },
  {
   "cell_type": "code",
   "execution_count": 148,
   "id": "0d45f231-17d4-41e1-bbf8-d2cc41efd965",
   "metadata": {},
   "outputs": [
    {
     "name": "stdout",
     "output_type": "stream",
     "text": [
      "(72, 2) (72, 36)\n"
     ]
    }
   ],
   "source": [
    "y_classes\n",
    "\n",
    "# remove abnormal EEG class\n",
    "abnorm_idx = 0\n",
    "y_keep_idx = np.argwhere(y.argmax(axis=1) != abnorm_idx).squeeze()\n",
    "y_rfe = y[y_keep_idx, :]\n",
    "y_rfe = y_rfe[:, 1:]\n",
    "X_rfe = X[y_keep_idx, :]\n",
    "\n",
    "print(y_rfe.shape, X_rfe.shape)"
   ]
  },
  {
   "cell_type": "code",
   "execution_count": 149,
   "id": "446cf4cf-0bb0-4350-b6ef-44e663c8e26c",
   "metadata": {},
   "outputs": [
    {
     "data": {
      "text/plain": [
       "<AxesSubplot:>"
      ]
     },
     "execution_count": 149,
     "metadata": {},
     "output_type": "execute_result"
    },
    {
     "data": {
      "image/png": "[encoded data removed]",
      "text/plain": [
       "<Figure size 432x288 with 2 Axes>"
      ]
     },
     "metadata": {
      "needs_background": "light"
     },
     "output_type": "display_data"
    }
   ],
   "source": [
    "sns.heatmap(X_rfe)"
   ]
  },
  {
   "cell_type": "code",
   "execution_count": 167,
   "id": "bf13f36f-0efc-4b25-898d-7f94eef469c7",
   "metadata": {},
   "outputs": [
    {
     "ename": "KeyboardInterrupt",
     "evalue": "",
     "output_type": "error",
     "traceback": [
      "\u001b[0;31m---------------------------------------------------------------------------\u001b[0m",
      "\u001b[0;31mKeyboardInterrupt\u001b[0m                         Traceback (most recent call last)",
      "\u001b[0;32m~/miniforge3/envs/episcalp/lib/python3.8/site-packages/joblib/parallel.py\u001b[0m in \u001b[0;36mretrieve\u001b[0;34m(self)\u001b[0m\n\u001b[1;32m    932\u001b[0m                 \u001b[0;32mif\u001b[0m \u001b[0mgetattr\u001b[0m\u001b[0;34m(\u001b[0m\u001b[0mself\u001b[0m\u001b[0;34m.\u001b[0m\u001b[0m_backend\u001b[0m\u001b[0;34m,\u001b[0m \u001b[0;34m'supports_timeout'\u001b[0m\u001b[0;34m,\u001b[0m \u001b[0;32mFalse\u001b[0m\u001b[0;34m)\u001b[0m\u001b[0;34m:\u001b[0m\u001b[0;34m\u001b[0m\u001b[0;34m\u001b[0m\u001b[0m\n\u001b[0;32m--> 933\u001b[0;31m                     \u001b[0mself\u001b[0m\u001b[0;34m.\u001b[0m\u001b[0m_output\u001b[0m\u001b[0;34m.\u001b[0m\u001b[0mextend\u001b[0m\u001b[0;34m(\u001b[0m\u001b[0mjob\u001b[0m\u001b[0;34m.\u001b[0m\u001b[0mget\u001b[0m\u001b[0;34m(\u001b[0m\u001b[0mtimeout\u001b[0m\u001b[0;34m=\u001b[0m\u001b[0mself\u001b[0m\u001b[0;34m.\u001b[0m\u001b[0mtimeout\u001b[0m\u001b[0;34m)\u001b[0m\u001b[0;34m)\u001b[0m\u001b[0;34m\u001b[0m\u001b[0;34m\u001b[0m\u001b[0m\n\u001b[0m\u001b[1;32m    934\u001b[0m                 \u001b[0;32melse\u001b[0m\u001b[0;34m:\u001b[0m\u001b[0;34m\u001b[0m\u001b[0;34m\u001b[0m\u001b[0m\n",
      "\u001b[0;32m~/miniforge3/envs/episcalp/lib/python3.8/site-packages/joblib/_parallel_backends.py\u001b[0m in \u001b[0;36mwrap_future_result\u001b[0;34m(future, timeout)\u001b[0m\n\u001b[1;32m    541\u001b[0m         \u001b[0;32mtry\u001b[0m\u001b[0;34m:\u001b[0m\u001b[0;34m\u001b[0m\u001b[0;34m\u001b[0m\u001b[0m\n\u001b[0;32m--> 542\u001b[0;31m             \u001b[0;32mreturn\u001b[0m \u001b[0mfuture\u001b[0m\u001b[0;34m.\u001b[0m\u001b[0mresult\u001b[0m\u001b[0;34m(\u001b[0m\u001b[0mtimeout\u001b[0m\u001b[0;34m=\u001b[0m\u001b[0mtimeout\u001b[0m\u001b[0;34m)\u001b[0m\u001b[0;34m\u001b[0m\u001b[0;34m\u001b[0m\u001b[0m\n\u001b[0m\u001b[1;32m    543\u001b[0m         \u001b[0;32mexcept\u001b[0m \u001b[0mCfTimeoutError\u001b[0m \u001b[0;32mas\u001b[0m \u001b[0me\u001b[0m\u001b[0;34m:\u001b[0m\u001b[0;34m\u001b[0m\u001b[0;34m\u001b[0m\u001b[0m\n",
      "\u001b[0;32m~/miniforge3/envs/episcalp/lib/python3.8/concurrent/futures/_base.py\u001b[0m in \u001b[0;36mresult\u001b[0;34m(self, timeout)\u001b[0m\n\u001b[1;32m    438\u001b[0m \u001b[0;34m\u001b[0m\u001b[0m\n\u001b[0;32m--> 439\u001b[0;31m                 \u001b[0mself\u001b[0m\u001b[0;34m.\u001b[0m\u001b[0m_condition\u001b[0m\u001b[0;34m.\u001b[0m\u001b[0mwait\u001b[0m\u001b[0;34m(\u001b[0m\u001b[0mtimeout\u001b[0m\u001b[0;34m)\u001b[0m\u001b[0;34m\u001b[0m\u001b[0;34m\u001b[0m\u001b[0m\n\u001b[0m\u001b[1;32m    440\u001b[0m \u001b[0;34m\u001b[0m\u001b[0m\n",
      "\u001b[0;32m~/miniforge3/envs/episcalp/lib/python3.8/threading.py\u001b[0m in \u001b[0;36mwait\u001b[0;34m(self, timeout)\u001b[0m\n\u001b[1;32m    301\u001b[0m             \u001b[0;32mif\u001b[0m \u001b[0mtimeout\u001b[0m \u001b[0;32mis\u001b[0m \u001b[0;32mNone\u001b[0m\u001b[0;34m:\u001b[0m\u001b[0;34m\u001b[0m\u001b[0;34m\u001b[0m\u001b[0m\n\u001b[0;32m--> 302\u001b[0;31m                 \u001b[0mwaiter\u001b[0m\u001b[0;34m.\u001b[0m\u001b[0macquire\u001b[0m\u001b[0;34m(\u001b[0m\u001b[0;34m)\u001b[0m\u001b[0;34m\u001b[0m\u001b[0;34m\u001b[0m\u001b[0m\n\u001b[0m\u001b[1;32m    303\u001b[0m                 \u001b[0mgotit\u001b[0m \u001b[0;34m=\u001b[0m \u001b[0;32mTrue\u001b[0m\u001b[0;34m\u001b[0m\u001b[0;34m\u001b[0m\u001b[0m\n",
      "\u001b[0;31mKeyboardInterrupt\u001b[0m: ",
      "\nDuring handling of the above exception, another exception occurred:\n",
      "\u001b[0;31mFileNotFoundError\u001b[0m                         Traceback (most recent call last)",
      "\u001b[0;32m~/miniforge3/envs/episcalp/lib/python3.8/genericpath.py\u001b[0m in \u001b[0;36mexists\u001b[0;34m(path)\u001b[0m\n\u001b[1;32m     18\u001b[0m     \u001b[0;32mtry\u001b[0m\u001b[0;34m:\u001b[0m\u001b[0;34m\u001b[0m\u001b[0;34m\u001b[0m\u001b[0m\n\u001b[0;32m---> 19\u001b[0;31m         \u001b[0mos\u001b[0m\u001b[0;34m.\u001b[0m\u001b[0mstat\u001b[0m\u001b[0;34m(\u001b[0m\u001b[0mpath\u001b[0m\u001b[0;34m)\u001b[0m\u001b[0;34m\u001b[0m\u001b[0;34m\u001b[0m\u001b[0m\n\u001b[0m\u001b[1;32m     20\u001b[0m     \u001b[0;32mexcept\u001b[0m \u001b[0;34m(\u001b[0m\u001b[0mOSError\u001b[0m\u001b[0;34m,\u001b[0m \u001b[0mValueError\u001b[0m\u001b[0;34m)\u001b[0m\u001b[0;34m:\u001b[0m\u001b[0;34m\u001b[0m\u001b[0;34m\u001b[0m\u001b[0m\n",
      "\u001b[0;31mFileNotFoundError\u001b[0m: [Errno 2] No such file or directory: '/var/folders/6_/sl83qtkd68x3_mvfys07_6qm0000gn/T/joblib_memmapping_folder_23977_4071dc11ccc54a44a3f82e1a7df5c9d9_ad8531fec44a475c9edc774bbf33dd36'",
      "\nDuring handling of the above exception, another exception occurred:\n",
      "\u001b[0;31mKeyboardInterrupt\u001b[0m                         Traceback (most recent call last)",
      "\u001b[0;32m/var/folders/6_/sl83qtkd68x3_mvfys07_6qm0000gn/T/ipykernel_23977/3393989783.py\u001b[0m in \u001b[0;36m<module>\u001b[0;34m\u001b[0m\n\u001b[1;32m      8\u001b[0m            cv=2)\n\u001b[1;32m      9\u001b[0m \u001b[0;34m\u001b[0m\u001b[0m\n\u001b[0;32m---> 10\u001b[0;31m \u001b[0mselector\u001b[0m \u001b[0;34m=\u001b[0m \u001b[0mselector\u001b[0m\u001b[0;34m.\u001b[0m\u001b[0mfit\u001b[0m\u001b[0;34m(\u001b[0m\u001b[0mX_rfe\u001b[0m\u001b[0;34m,\u001b[0m \u001b[0my_rfe\u001b[0m\u001b[0;34m)\u001b[0m\u001b[0;34m\u001b[0m\u001b[0;34m\u001b[0m\u001b[0m\n\u001b[0m",
      "\u001b[0;32m~/miniforge3/envs/episcalp/lib/python3.8/site-packages/mlxtend/feature_selection/exhaustive_feature_selector.py\u001b[0m in \u001b[0;36mfit\u001b[0;34m(self, X, y, custom_feature_names, groups, **fit_params)\u001b[0m\n\u001b[1;32m    273\u001b[0m         \u001b[0mn_jobs\u001b[0m \u001b[0;34m=\u001b[0m \u001b[0mmin\u001b[0m\u001b[0;34m(\u001b[0m\u001b[0mself\u001b[0m\u001b[0;34m.\u001b[0m\u001b[0mn_jobs\u001b[0m\u001b[0;34m,\u001b[0m \u001b[0mall_comb\u001b[0m\u001b[0;34m)\u001b[0m\u001b[0;34m\u001b[0m\u001b[0;34m\u001b[0m\u001b[0m\n\u001b[1;32m    274\u001b[0m         \u001b[0mparallel\u001b[0m \u001b[0;34m=\u001b[0m \u001b[0mParallel\u001b[0m\u001b[0;34m(\u001b[0m\u001b[0mn_jobs\u001b[0m\u001b[0;34m=\u001b[0m\u001b[0mn_jobs\u001b[0m\u001b[0;34m,\u001b[0m \u001b[0mpre_dispatch\u001b[0m\u001b[0;34m=\u001b[0m\u001b[0mself\u001b[0m\u001b[0;34m.\u001b[0m\u001b[0mpre_dispatch\u001b[0m\u001b[0;34m)\u001b[0m\u001b[0;34m\u001b[0m\u001b[0;34m\u001b[0m\u001b[0m\n\u001b[0;32m--> 275\u001b[0;31m         work = enumerate(parallel(delayed(_calc_score)\n\u001b[0m\u001b[1;32m    276\u001b[0m                                   \u001b[0;34m(\u001b[0m\u001b[0mself\u001b[0m\u001b[0;34m,\u001b[0m \u001b[0mX_\u001b[0m\u001b[0;34m,\u001b[0m \u001b[0my\u001b[0m\u001b[0;34m,\u001b[0m \u001b[0mc\u001b[0m\u001b[0;34m,\u001b[0m \u001b[0mgroups\u001b[0m\u001b[0;34m=\u001b[0m\u001b[0mgroups\u001b[0m\u001b[0;34m,\u001b[0m \u001b[0;34m**\u001b[0m\u001b[0mfit_params\u001b[0m\u001b[0;34m)\u001b[0m\u001b[0;34m\u001b[0m\u001b[0;34m\u001b[0m\u001b[0m\n\u001b[1;32m    277\u001b[0m                                   for c in candidates))\n",
      "\u001b[0;32m~/miniforge3/envs/episcalp/lib/python3.8/site-packages/joblib/parallel.py\u001b[0m in \u001b[0;36m__call__\u001b[0;34m(self, iterable)\u001b[0m\n\u001b[1;32m   1042\u001b[0m                 \u001b[0mself\u001b[0m\u001b[0;34m.\u001b[0m\u001b[0m_iterating\u001b[0m \u001b[0;34m=\u001b[0m \u001b[0mself\u001b[0m\u001b[0;34m.\u001b[0m\u001b[0m_original_iterator\u001b[0m \u001b[0;32mis\u001b[0m \u001b[0;32mnot\u001b[0m \u001b[0;32mNone\u001b[0m\u001b[0;34m\u001b[0m\u001b[0;34m\u001b[0m\u001b[0m\n\u001b[1;32m   1043\u001b[0m \u001b[0;34m\u001b[0m\u001b[0m\n\u001b[0;32m-> 1044\u001b[0;31m             \u001b[0;32mwhile\u001b[0m \u001b[0mself\u001b[0m\u001b[0;34m.\u001b[0m\u001b[0mdispatch_one_batch\u001b[0m\u001b[0;34m(\u001b[0m\u001b[0miterator\u001b[0m\u001b[0;34m)\u001b[0m\u001b[0;34m:\u001b[0m\u001b[0;34m\u001b[0m\u001b[0;34m\u001b[0m\u001b[0m\n\u001b[0m\u001b[1;32m   1045\u001b[0m                 \u001b[0;32mpass\u001b[0m\u001b[0;34m\u001b[0m\u001b[0;34m\u001b[0m\u001b[0m\n\u001b[1;32m   1046\u001b[0m \u001b[0;34m\u001b[0m\u001b[0m\n",
      "\u001b[0;32m~/miniforge3/envs/episcalp/lib/python3.8/site-packages/joblib/parallel.py\u001b[0m in \u001b[0;36mdispatch_one_batch\u001b[0;34m(self, iterator)\u001b[0m\n\u001b[1;32m    857\u001b[0m                 \u001b[0;32mreturn\u001b[0m \u001b[0;32mFalse\u001b[0m\u001b[0;34m\u001b[0m\u001b[0;34m\u001b[0m\u001b[0m\n\u001b[1;32m    858\u001b[0m             \u001b[0;32melse\u001b[0m\u001b[0;34m:\u001b[0m\u001b[0;34m\u001b[0m\u001b[0;34m\u001b[0m\u001b[0m\n\u001b[0;32m--> 859\u001b[0;31m                 \u001b[0mself\u001b[0m\u001b[0;34m.\u001b[0m\u001b[0m_dispatch\u001b[0m\u001b[0;34m(\u001b[0m\u001b[0mtasks\u001b[0m\u001b[0;34m)\u001b[0m\u001b[0;34m\u001b[0m\u001b[0;34m\u001b[0m\u001b[0m\n\u001b[0m\u001b[1;32m    860\u001b[0m                 \u001b[0;32mreturn\u001b[0m \u001b[0;32mTrue\u001b[0m\u001b[0;34m\u001b[0m\u001b[0;34m\u001b[0m\u001b[0m\n\u001b[1;32m    861\u001b[0m \u001b[0;34m\u001b[0m\u001b[0m\n",
      "\u001b[0;32m~/miniforge3/envs/episcalp/lib/python3.8/site-packages/joblib/parallel.py\u001b[0m in \u001b[0;36m_dispatch\u001b[0;34m(self, batch)\u001b[0m\n\u001b[1;32m    775\u001b[0m         \u001b[0;32mwith\u001b[0m \u001b[0mself\u001b[0m\u001b[0;34m.\u001b[0m\u001b[0m_lock\u001b[0m\u001b[0;34m:\u001b[0m\u001b[0;34m\u001b[0m\u001b[0;34m\u001b[0m\u001b[0m\n\u001b[1;32m    776\u001b[0m             \u001b[0mjob_idx\u001b[0m \u001b[0;34m=\u001b[0m \u001b[0mlen\u001b[0m\u001b[0;34m(\u001b[0m\u001b[0mself\u001b[0m\u001b[0;34m.\u001b[0m\u001b[0m_jobs\u001b[0m\u001b[0;34m)\u001b[0m\u001b[0;34m\u001b[0m\u001b[0;34m\u001b[0m\u001b[0m\n\u001b[0;32m--> 777\u001b[0;31m             \u001b[0mjob\u001b[0m \u001b[0;34m=\u001b[0m \u001b[0mself\u001b[0m\u001b[0;34m.\u001b[0m\u001b[0m_backend\u001b[0m\u001b[0;34m.\u001b[0m\u001b[0mapply_async\u001b[0m\u001b[0;34m(\u001b[0m\u001b[0mbatch\u001b[0m\u001b[0;34m,\u001b[0m \u001b[0mcallback\u001b[0m\u001b[0;34m=\u001b[0m\u001b[0mcb\u001b[0m\u001b[0;34m)\u001b[0m\u001b[0;34m\u001b[0m\u001b[0;34m\u001b[0m\u001b[0m\n\u001b[0m\u001b[1;32m    778\u001b[0m             \u001b[0;31m# A job can complete so quickly than its callback is\u001b[0m\u001b[0;34m\u001b[0m\u001b[0;34m\u001b[0m\u001b[0;34m\u001b[0m\u001b[0m\n\u001b[1;32m    779\u001b[0m             \u001b[0;31m# called before we get here, causing self._jobs to\u001b[0m\u001b[0;34m\u001b[0m\u001b[0;34m\u001b[0m\u001b[0;34m\u001b[0m\u001b[0m\n",
      "\u001b[0;32m~/miniforge3/envs/episcalp/lib/python3.8/site-packages/joblib/_parallel_backends.py\u001b[0m in \u001b[0;36mapply_async\u001b[0;34m(self, func, callback)\u001b[0m\n\u001b[1;32m    206\u001b[0m     \u001b[0;32mdef\u001b[0m \u001b[0mapply_async\u001b[0m\u001b[0;34m(\u001b[0m\u001b[0mself\u001b[0m\u001b[0;34m,\u001b[0m \u001b[0mfunc\u001b[0m\u001b[0;34m,\u001b[0m \u001b[0mcallback\u001b[0m\u001b[0;34m=\u001b[0m\u001b[0;32mNone\u001b[0m\u001b[0;34m)\u001b[0m\u001b[0;34m:\u001b[0m\u001b[0;34m\u001b[0m\u001b[0;34m\u001b[0m\u001b[0m\n\u001b[1;32m    207\u001b[0m         \u001b[0;34m\"\"\"Schedule a func to be run\"\"\"\u001b[0m\u001b[0;34m\u001b[0m\u001b[0;34m\u001b[0m\u001b[0m\n\u001b[0;32m--> 208\u001b[0;31m         \u001b[0mresult\u001b[0m \u001b[0;34m=\u001b[0m \u001b[0mImmediateResult\u001b[0m\u001b[0;34m(\u001b[0m\u001b[0mfunc\u001b[0m\u001b[0;34m)\u001b[0m\u001b[0;34m\u001b[0m\u001b[0;34m\u001b[0m\u001b[0m\n\u001b[0m\u001b[1;32m    209\u001b[0m         \u001b[0;32mif\u001b[0m \u001b[0mcallback\u001b[0m\u001b[0;34m:\u001b[0m\u001b[0;34m\u001b[0m\u001b[0;34m\u001b[0m\u001b[0m\n\u001b[1;32m    210\u001b[0m             \u001b[0mcallback\u001b[0m\u001b[0;34m(\u001b[0m\u001b[0mresult\u001b[0m\u001b[0;34m)\u001b[0m\u001b[0;34m\u001b[0m\u001b[0;34m\u001b[0m\u001b[0m\n",
      "\u001b[0;32m~/miniforge3/envs/episcalp/lib/python3.8/site-packages/joblib/_parallel_backends.py\u001b[0m in \u001b[0;36m__init__\u001b[0;34m(self, batch)\u001b[0m\n\u001b[1;32m    570\u001b[0m         \u001b[0;31m# Don't delay the application, to avoid keeping the input\u001b[0m\u001b[0;34m\u001b[0m\u001b[0;34m\u001b[0m\u001b[0;34m\u001b[0m\u001b[0m\n\u001b[1;32m    571\u001b[0m         \u001b[0;31m# arguments in memory\u001b[0m\u001b[0;34m\u001b[0m\u001b[0;34m\u001b[0m\u001b[0;34m\u001b[0m\u001b[0m\n\u001b[0;32m--> 572\u001b[0;31m         \u001b[0mself\u001b[0m\u001b[0;34m.\u001b[0m\u001b[0mresults\u001b[0m \u001b[0;34m=\u001b[0m \u001b[0mbatch\u001b[0m\u001b[0;34m(\u001b[0m\u001b[0;34m)\u001b[0m\u001b[0;34m\u001b[0m\u001b[0;34m\u001b[0m\u001b[0m\n\u001b[0m\u001b[1;32m    573\u001b[0m \u001b[0;34m\u001b[0m\u001b[0m\n\u001b[1;32m    574\u001b[0m     \u001b[0;32mdef\u001b[0m \u001b[0mget\u001b[0m\u001b[0;34m(\u001b[0m\u001b[0mself\u001b[0m\u001b[0;34m)\u001b[0m\u001b[0;34m:\u001b[0m\u001b[0;34m\u001b[0m\u001b[0;34m\u001b[0m\u001b[0m\n",
      "\u001b[0;32m~/miniforge3/envs/episcalp/lib/python3.8/site-packages/joblib/parallel.py\u001b[0m in \u001b[0;36m__call__\u001b[0;34m(self)\u001b[0m\n\u001b[1;32m    260\u001b[0m         \u001b[0;31m# change the default number of processes to -1\u001b[0m\u001b[0;34m\u001b[0m\u001b[0;34m\u001b[0m\u001b[0;34m\u001b[0m\u001b[0m\n\u001b[1;32m    261\u001b[0m         \u001b[0;32mwith\u001b[0m \u001b[0mparallel_backend\u001b[0m\u001b[0;34m(\u001b[0m\u001b[0mself\u001b[0m\u001b[0;34m.\u001b[0m\u001b[0m_backend\u001b[0m\u001b[0;34m,\u001b[0m \u001b[0mn_jobs\u001b[0m\u001b[0;34m=\u001b[0m\u001b[0mself\u001b[0m\u001b[0;34m.\u001b[0m\u001b[0m_n_jobs\u001b[0m\u001b[0;34m)\u001b[0m\u001b[0;34m:\u001b[0m\u001b[0;34m\u001b[0m\u001b[0;34m\u001b[0m\u001b[0m\n\u001b[0;32m--> 262\u001b[0;31m             return [func(*args, **kwargs)\n\u001b[0m\u001b[1;32m    263\u001b[0m                     for func, args, kwargs in self.items]\n\u001b[1;32m    264\u001b[0m \u001b[0;34m\u001b[0m\u001b[0m\n",
      "\u001b[0;32m~/miniforge3/envs/episcalp/lib/python3.8/site-packages/joblib/parallel.py\u001b[0m in \u001b[0;36m<listcomp>\u001b[0;34m(.0)\u001b[0m\n\u001b[1;32m    260\u001b[0m         \u001b[0;31m# change the default number of processes to -1\u001b[0m\u001b[0;34m\u001b[0m\u001b[0;34m\u001b[0m\u001b[0;34m\u001b[0m\u001b[0m\n\u001b[1;32m    261\u001b[0m         \u001b[0;32mwith\u001b[0m \u001b[0mparallel_backend\u001b[0m\u001b[0;34m(\u001b[0m\u001b[0mself\u001b[0m\u001b[0;34m.\u001b[0m\u001b[0m_backend\u001b[0m\u001b[0;34m,\u001b[0m \u001b[0mn_jobs\u001b[0m\u001b[0;34m=\u001b[0m\u001b[0mself\u001b[0m\u001b[0;34m.\u001b[0m\u001b[0m_n_jobs\u001b[0m\u001b[0;34m)\u001b[0m\u001b[0;34m:\u001b[0m\u001b[0;34m\u001b[0m\u001b[0;34m\u001b[0m\u001b[0m\n\u001b[0;32m--> 262\u001b[0;31m             return [func(*args, **kwargs)\n\u001b[0m\u001b[1;32m    263\u001b[0m                     for func, args, kwargs in self.items]\n\u001b[1;32m    264\u001b[0m \u001b[0;34m\u001b[0m\u001b[0m\n",
      "\u001b[0;32m~/miniforge3/envs/episcalp/lib/python3.8/site-packages/mlxtend/feature_selection/exhaustive_feature_selector.py\u001b[0m in \u001b[0;36m_calc_score\u001b[0;34m(selector, X, y, indices, groups, **fit_params)\u001b[0m\n\u001b[1;32m     28\u001b[0m \u001b[0;32mdef\u001b[0m \u001b[0m_calc_score\u001b[0m\u001b[0;34m(\u001b[0m\u001b[0mselector\u001b[0m\u001b[0;34m,\u001b[0m \u001b[0mX\u001b[0m\u001b[0;34m,\u001b[0m \u001b[0my\u001b[0m\u001b[0;34m,\u001b[0m \u001b[0mindices\u001b[0m\u001b[0;34m,\u001b[0m \u001b[0mgroups\u001b[0m\u001b[0;34m=\u001b[0m\u001b[0;32mNone\u001b[0m\u001b[0;34m,\u001b[0m \u001b[0;34m**\u001b[0m\u001b[0mfit_params\u001b[0m\u001b[0;34m)\u001b[0m\u001b[0;34m:\u001b[0m\u001b[0;34m\u001b[0m\u001b[0;34m\u001b[0m\u001b[0m\n\u001b[1;32m     29\u001b[0m     \u001b[0;32mif\u001b[0m \u001b[0mselector\u001b[0m\u001b[0;34m.\u001b[0m\u001b[0mcv\u001b[0m\u001b[0;34m:\u001b[0m\u001b[0;34m\u001b[0m\u001b[0;34m\u001b[0m\u001b[0m\n\u001b[0;32m---> 30\u001b[0;31m         scores = cross_val_score(selector.est_,\n\u001b[0m\u001b[1;32m     31\u001b[0m                                  \u001b[0mX\u001b[0m\u001b[0;34m[\u001b[0m\u001b[0;34m:\u001b[0m\u001b[0;34m,\u001b[0m \u001b[0mindices\u001b[0m\u001b[0;34m]\u001b[0m\u001b[0;34m,\u001b[0m \u001b[0my\u001b[0m\u001b[0;34m,\u001b[0m\u001b[0;34m\u001b[0m\u001b[0;34m\u001b[0m\u001b[0m\n\u001b[1;32m     32\u001b[0m                                  \u001b[0mgroups\u001b[0m\u001b[0;34m=\u001b[0m\u001b[0mgroups\u001b[0m\u001b[0;34m,\u001b[0m\u001b[0;34m\u001b[0m\u001b[0;34m\u001b[0m\u001b[0m\n",
      "\u001b[0;32m~/miniforge3/envs/episcalp/lib/python3.8/site-packages/sklearn/model_selection/_validation.py\u001b[0m in \u001b[0;36mcross_val_score\u001b[0;34m(estimator, X, y, groups, scoring, cv, n_jobs, verbose, fit_params, pre_dispatch, error_score)\u001b[0m\n\u001b[1;32m    508\u001b[0m     \u001b[0mscorer\u001b[0m \u001b[0;34m=\u001b[0m \u001b[0mcheck_scoring\u001b[0m\u001b[0;34m(\u001b[0m\u001b[0mestimator\u001b[0m\u001b[0;34m,\u001b[0m \u001b[0mscoring\u001b[0m\u001b[0;34m=\u001b[0m\u001b[0mscoring\u001b[0m\u001b[0;34m)\u001b[0m\u001b[0;34m\u001b[0m\u001b[0;34m\u001b[0m\u001b[0m\n\u001b[1;32m    509\u001b[0m \u001b[0;34m\u001b[0m\u001b[0m\n\u001b[0;32m--> 510\u001b[0;31m     cv_results = cross_validate(\n\u001b[0m\u001b[1;32m    511\u001b[0m         \u001b[0mestimator\u001b[0m\u001b[0;34m=\u001b[0m\u001b[0mestimator\u001b[0m\u001b[0;34m,\u001b[0m\u001b[0;34m\u001b[0m\u001b[0;34m\u001b[0m\u001b[0m\n\u001b[1;32m    512\u001b[0m         \u001b[0mX\u001b[0m\u001b[0;34m=\u001b[0m\u001b[0mX\u001b[0m\u001b[0;34m,\u001b[0m\u001b[0;34m\u001b[0m\u001b[0;34m\u001b[0m\u001b[0m\n",
      "\u001b[0;32m~/miniforge3/envs/episcalp/lib/python3.8/site-packages/sklearn/model_selection/_validation.py\u001b[0m in \u001b[0;36mcross_validate\u001b[0;34m(estimator, X, y, groups, scoring, cv, n_jobs, verbose, fit_params, pre_dispatch, return_train_score, return_estimator, error_score)\u001b[0m\n\u001b[1;32m    265\u001b[0m     \u001b[0;31m# independent, and that it is pickle-able.\u001b[0m\u001b[0;34m\u001b[0m\u001b[0;34m\u001b[0m\u001b[0;34m\u001b[0m\u001b[0m\n\u001b[1;32m    266\u001b[0m     \u001b[0mparallel\u001b[0m \u001b[0;34m=\u001b[0m \u001b[0mParallel\u001b[0m\u001b[0;34m(\u001b[0m\u001b[0mn_jobs\u001b[0m\u001b[0;34m=\u001b[0m\u001b[0mn_jobs\u001b[0m\u001b[0;34m,\u001b[0m \u001b[0mverbose\u001b[0m\u001b[0;34m=\u001b[0m\u001b[0mverbose\u001b[0m\u001b[0;34m,\u001b[0m \u001b[0mpre_dispatch\u001b[0m\u001b[0;34m=\u001b[0m\u001b[0mpre_dispatch\u001b[0m\u001b[0;34m)\u001b[0m\u001b[0;34m\u001b[0m\u001b[0;34m\u001b[0m\u001b[0m\n\u001b[0;32m--> 267\u001b[0;31m     results = parallel(\n\u001b[0m\u001b[1;32m    268\u001b[0m         delayed(_fit_and_score)(\n\u001b[1;32m    269\u001b[0m             \u001b[0mclone\u001b[0m\u001b[0;34m(\u001b[0m\u001b[0mestimator\u001b[0m\u001b[0;34m)\u001b[0m\u001b[0;34m,\u001b[0m\u001b[0;34m\u001b[0m\u001b[0;34m\u001b[0m\u001b[0m\n",
      "\u001b[0;32m~/miniforge3/envs/episcalp/lib/python3.8/site-packages/joblib/parallel.py\u001b[0m in \u001b[0;36m__call__\u001b[0;34m(self, iterable)\u001b[0m\n\u001b[1;32m   1042\u001b[0m                 \u001b[0mself\u001b[0m\u001b[0;34m.\u001b[0m\u001b[0m_iterating\u001b[0m \u001b[0;34m=\u001b[0m \u001b[0mself\u001b[0m\u001b[0;34m.\u001b[0m\u001b[0m_original_iterator\u001b[0m \u001b[0;32mis\u001b[0m \u001b[0;32mnot\u001b[0m \u001b[0;32mNone\u001b[0m\u001b[0;34m\u001b[0m\u001b[0;34m\u001b[0m\u001b[0m\n\u001b[1;32m   1043\u001b[0m \u001b[0;34m\u001b[0m\u001b[0m\n\u001b[0;32m-> 1044\u001b[0;31m             \u001b[0;32mwhile\u001b[0m \u001b[0mself\u001b[0m\u001b[0;34m.\u001b[0m\u001b[0mdispatch_one_batch\u001b[0m\u001b[0;34m(\u001b[0m\u001b[0miterator\u001b[0m\u001b[0;34m)\u001b[0m\u001b[0;34m:\u001b[0m\u001b[0;34m\u001b[0m\u001b[0;34m\u001b[0m\u001b[0m\n\u001b[0m\u001b[1;32m   1045\u001b[0m                 \u001b[0;32mpass\u001b[0m\u001b[0;34m\u001b[0m\u001b[0;34m\u001b[0m\u001b[0m\n\u001b[1;32m   1046\u001b[0m \u001b[0;34m\u001b[0m\u001b[0m\n",
      "\u001b[0;32m~/miniforge3/envs/episcalp/lib/python3.8/site-packages/joblib/parallel.py\u001b[0m in \u001b[0;36mdispatch_one_batch\u001b[0;34m(self, iterator)\u001b[0m\n\u001b[1;32m    857\u001b[0m                 \u001b[0;32mreturn\u001b[0m \u001b[0;32mFalse\u001b[0m\u001b[0;34m\u001b[0m\u001b[0;34m\u001b[0m\u001b[0m\n\u001b[1;32m    858\u001b[0m             \u001b[0;32melse\u001b[0m\u001b[0;34m:\u001b[0m\u001b[0;34m\u001b[0m\u001b[0;34m\u001b[0m\u001b[0m\n\u001b[0;32m--> 859\u001b[0;31m                 \u001b[0mself\u001b[0m\u001b[0;34m.\u001b[0m\u001b[0m_dispatch\u001b[0m\u001b[0;34m(\u001b[0m\u001b[0mtasks\u001b[0m\u001b[0;34m)\u001b[0m\u001b[0;34m\u001b[0m\u001b[0;34m\u001b[0m\u001b[0m\n\u001b[0m\u001b[1;32m    860\u001b[0m                 \u001b[0;32mreturn\u001b[0m \u001b[0;32mTrue\u001b[0m\u001b[0;34m\u001b[0m\u001b[0;34m\u001b[0m\u001b[0m\n\u001b[1;32m    861\u001b[0m \u001b[0;34m\u001b[0m\u001b[0m\n",
      "\u001b[0;32m~/miniforge3/envs/episcalp/lib/python3.8/site-packages/joblib/parallel.py\u001b[0m in \u001b[0;36m_dispatch\u001b[0;34m(self, batch)\u001b[0m\n\u001b[1;32m    775\u001b[0m         \u001b[0;32mwith\u001b[0m \u001b[0mself\u001b[0m\u001b[0;34m.\u001b[0m\u001b[0m_lock\u001b[0m\u001b[0;34m:\u001b[0m\u001b[0;34m\u001b[0m\u001b[0;34m\u001b[0m\u001b[0m\n\u001b[1;32m    776\u001b[0m             \u001b[0mjob_idx\u001b[0m \u001b[0;34m=\u001b[0m \u001b[0mlen\u001b[0m\u001b[0;34m(\u001b[0m\u001b[0mself\u001b[0m\u001b[0;34m.\u001b[0m\u001b[0m_jobs\u001b[0m\u001b[0;34m)\u001b[0m\u001b[0;34m\u001b[0m\u001b[0;34m\u001b[0m\u001b[0m\n\u001b[0;32m--> 777\u001b[0;31m             \u001b[0mjob\u001b[0m \u001b[0;34m=\u001b[0m \u001b[0mself\u001b[0m\u001b[0;34m.\u001b[0m\u001b[0m_backend\u001b[0m\u001b[0;34m.\u001b[0m\u001b[0mapply_async\u001b[0m\u001b[0;34m(\u001b[0m\u001b[0mbatch\u001b[0m\u001b[0;34m,\u001b[0m \u001b[0mcallback\u001b[0m\u001b[0;34m=\u001b[0m\u001b[0mcb\u001b[0m\u001b[0;34m)\u001b[0m\u001b[0;34m\u001b[0m\u001b[0;34m\u001b[0m\u001b[0m\n\u001b[0m\u001b[1;32m    778\u001b[0m             \u001b[0;31m# A job can complete so quickly than its callback is\u001b[0m\u001b[0;34m\u001b[0m\u001b[0;34m\u001b[0m\u001b[0;34m\u001b[0m\u001b[0m\n\u001b[1;32m    779\u001b[0m             \u001b[0;31m# called before we get here, causing self._jobs to\u001b[0m\u001b[0;34m\u001b[0m\u001b[0;34m\u001b[0m\u001b[0;34m\u001b[0m\u001b[0m\n",
      "\u001b[0;32m~/miniforge3/envs/episcalp/lib/python3.8/site-packages/joblib/_parallel_backends.py\u001b[0m in \u001b[0;36mapply_async\u001b[0;34m(self, func, callback)\u001b[0m\n\u001b[1;32m    206\u001b[0m     \u001b[0;32mdef\u001b[0m \u001b[0mapply_async\u001b[0m\u001b[0;34m(\u001b[0m\u001b[0mself\u001b[0m\u001b[0;34m,\u001b[0m \u001b[0mfunc\u001b[0m\u001b[0;34m,\u001b[0m \u001b[0mcallback\u001b[0m\u001b[0;34m=\u001b[0m\u001b[0;32mNone\u001b[0m\u001b[0;34m)\u001b[0m\u001b[0;34m:\u001b[0m\u001b[0;34m\u001b[0m\u001b[0;34m\u001b[0m\u001b[0m\n\u001b[1;32m    207\u001b[0m         \u001b[0;34m\"\"\"Schedule a func to be run\"\"\"\u001b[0m\u001b[0;34m\u001b[0m\u001b[0;34m\u001b[0m\u001b[0m\n\u001b[0;32m--> 208\u001b[0;31m         \u001b[0mresult\u001b[0m \u001b[0;34m=\u001b[0m \u001b[0mImmediateResult\u001b[0m\u001b[0;34m(\u001b[0m\u001b[0mfunc\u001b[0m\u001b[0;34m)\u001b[0m\u001b[0;34m\u001b[0m\u001b[0;34m\u001b[0m\u001b[0m\n\u001b[0m\u001b[1;32m    209\u001b[0m         \u001b[0;32mif\u001b[0m \u001b[0mcallback\u001b[0m\u001b[0;34m:\u001b[0m\u001b[0;34m\u001b[0m\u001b[0;34m\u001b[0m\u001b[0m\n\u001b[1;32m    210\u001b[0m             \u001b[0mcallback\u001b[0m\u001b[0;34m(\u001b[0m\u001b[0mresult\u001b[0m\u001b[0;34m)\u001b[0m\u001b[0;34m\u001b[0m\u001b[0;34m\u001b[0m\u001b[0m\n",
      "\u001b[0;32m~/miniforge3/envs/episcalp/lib/python3.8/site-packages/joblib/_parallel_backends.py\u001b[0m in \u001b[0;36m__init__\u001b[0;34m(self, batch)\u001b[0m\n\u001b[1;32m    570\u001b[0m         \u001b[0;31m# Don't delay the application, to avoid keeping the input\u001b[0m\u001b[0;34m\u001b[0m\u001b[0;34m\u001b[0m\u001b[0;34m\u001b[0m\u001b[0m\n\u001b[1;32m    571\u001b[0m         \u001b[0;31m# arguments in memory\u001b[0m\u001b[0;34m\u001b[0m\u001b[0;34m\u001b[0m\u001b[0;34m\u001b[0m\u001b[0m\n\u001b[0;32m--> 572\u001b[0;31m         \u001b[0mself\u001b[0m\u001b[0;34m.\u001b[0m\u001b[0mresults\u001b[0m \u001b[0;34m=\u001b[0m \u001b[0mbatch\u001b[0m\u001b[0;34m(\u001b[0m\u001b[0;34m)\u001b[0m\u001b[0;34m\u001b[0m\u001b[0;34m\u001b[0m\u001b[0m\n\u001b[0m\u001b[1;32m    573\u001b[0m \u001b[0;34m\u001b[0m\u001b[0m\n\u001b[1;32m    574\u001b[0m     \u001b[0;32mdef\u001b[0m \u001b[0mget\u001b[0m\u001b[0;34m(\u001b[0m\u001b[0mself\u001b[0m\u001b[0;34m)\u001b[0m\u001b[0;34m:\u001b[0m\u001b[0;34m\u001b[0m\u001b[0;34m\u001b[0m\u001b[0m\n",
      "\u001b[0;32m~/miniforge3/envs/episcalp/lib/python3.8/site-packages/joblib/parallel.py\u001b[0m in \u001b[0;36m__call__\u001b[0;34m(self)\u001b[0m\n\u001b[1;32m    260\u001b[0m         \u001b[0;31m# change the default number of processes to -1\u001b[0m\u001b[0;34m\u001b[0m\u001b[0;34m\u001b[0m\u001b[0;34m\u001b[0m\u001b[0m\n\u001b[1;32m    261\u001b[0m         \u001b[0;32mwith\u001b[0m \u001b[0mparallel_backend\u001b[0m\u001b[0;34m(\u001b[0m\u001b[0mself\u001b[0m\u001b[0;34m.\u001b[0m\u001b[0m_backend\u001b[0m\u001b[0;34m,\u001b[0m \u001b[0mn_jobs\u001b[0m\u001b[0;34m=\u001b[0m\u001b[0mself\u001b[0m\u001b[0;34m.\u001b[0m\u001b[0m_n_jobs\u001b[0m\u001b[0;34m)\u001b[0m\u001b[0;34m:\u001b[0m\u001b[0;34m\u001b[0m\u001b[0;34m\u001b[0m\u001b[0m\n\u001b[0;32m--> 262\u001b[0;31m             return [func(*args, **kwargs)\n\u001b[0m\u001b[1;32m    263\u001b[0m                     for func, args, kwargs in self.items]\n\u001b[1;32m    264\u001b[0m \u001b[0;34m\u001b[0m\u001b[0m\n",
      "\u001b[0;32m~/miniforge3/envs/episcalp/lib/python3.8/site-packages/joblib/parallel.py\u001b[0m in \u001b[0;36m<listcomp>\u001b[0;34m(.0)\u001b[0m\n\u001b[1;32m    260\u001b[0m         \u001b[0;31m# change the default number of processes to -1\u001b[0m\u001b[0;34m\u001b[0m\u001b[0;34m\u001b[0m\u001b[0;34m\u001b[0m\u001b[0m\n\u001b[1;32m    261\u001b[0m         \u001b[0;32mwith\u001b[0m \u001b[0mparallel_backend\u001b[0m\u001b[0;34m(\u001b[0m\u001b[0mself\u001b[0m\u001b[0;34m.\u001b[0m\u001b[0m_backend\u001b[0m\u001b[0;34m,\u001b[0m \u001b[0mn_jobs\u001b[0m\u001b[0;34m=\u001b[0m\u001b[0mself\u001b[0m\u001b[0;34m.\u001b[0m\u001b[0m_n_jobs\u001b[0m\u001b[0;34m)\u001b[0m\u001b[0;34m:\u001b[0m\u001b[0;34m\u001b[0m\u001b[0;34m\u001b[0m\u001b[0m\n\u001b[0;32m--> 262\u001b[0;31m             return [func(*args, **kwargs)\n\u001b[0m\u001b[1;32m    263\u001b[0m                     for func, args, kwargs in self.items]\n\u001b[1;32m    264\u001b[0m \u001b[0;34m\u001b[0m\u001b[0m\n",
      "\u001b[0;32m~/miniforge3/envs/episcalp/lib/python3.8/site-packages/sklearn/utils/fixes.py\u001b[0m in \u001b[0;36m__call__\u001b[0;34m(self, *args, **kwargs)\u001b[0m\n\u001b[1;32m    207\u001b[0m     \u001b[0;32mdef\u001b[0m \u001b[0m__call__\u001b[0m\u001b[0;34m(\u001b[0m\u001b[0mself\u001b[0m\u001b[0;34m,\u001b[0m \u001b[0;34m*\u001b[0m\u001b[0margs\u001b[0m\u001b[0;34m,\u001b[0m \u001b[0;34m**\u001b[0m\u001b[0mkwargs\u001b[0m\u001b[0;34m)\u001b[0m\u001b[0;34m:\u001b[0m\u001b[0;34m\u001b[0m\u001b[0;34m\u001b[0m\u001b[0m\n\u001b[1;32m    208\u001b[0m         \u001b[0;32mwith\u001b[0m \u001b[0mconfig_context\u001b[0m\u001b[0;34m(\u001b[0m\u001b[0;34m**\u001b[0m\u001b[0mself\u001b[0m\u001b[0;34m.\u001b[0m\u001b[0mconfig\u001b[0m\u001b[0;34m)\u001b[0m\u001b[0;34m:\u001b[0m\u001b[0;34m\u001b[0m\u001b[0;34m\u001b[0m\u001b[0m\n\u001b[0;32m--> 209\u001b[0;31m             \u001b[0;32mreturn\u001b[0m \u001b[0mself\u001b[0m\u001b[0;34m.\u001b[0m\u001b[0mfunction\u001b[0m\u001b[0;34m(\u001b[0m\u001b[0;34m*\u001b[0m\u001b[0margs\u001b[0m\u001b[0;34m,\u001b[0m \u001b[0;34m**\u001b[0m\u001b[0mkwargs\u001b[0m\u001b[0;34m)\u001b[0m\u001b[0;34m\u001b[0m\u001b[0;34m\u001b[0m\u001b[0m\n\u001b[0m\u001b[1;32m    210\u001b[0m \u001b[0;34m\u001b[0m\u001b[0m\n\u001b[1;32m    211\u001b[0m \u001b[0;34m\u001b[0m\u001b[0m\n",
      "\u001b[0;32m~/miniforge3/envs/episcalp/lib/python3.8/site-packages/sklearn/model_selection/_validation.py\u001b[0m in \u001b[0;36m_fit_and_score\u001b[0;34m(estimator, X, y, scorer, train, test, verbose, parameters, fit_params, return_train_score, return_parameters, return_n_test_samples, return_times, return_estimator, split_progress, candidate_progress, error_score)\u001b[0m\n\u001b[1;32m    679\u001b[0m             \u001b[0mestimator\u001b[0m\u001b[0;34m.\u001b[0m\u001b[0mfit\u001b[0m\u001b[0;34m(\u001b[0m\u001b[0mX_train\u001b[0m\u001b[0;34m,\u001b[0m \u001b[0;34m**\u001b[0m\u001b[0mfit_params\u001b[0m\u001b[0;34m)\u001b[0m\u001b[0;34m\u001b[0m\u001b[0;34m\u001b[0m\u001b[0m\n\u001b[1;32m    680\u001b[0m         \u001b[0;32melse\u001b[0m\u001b[0;34m:\u001b[0m\u001b[0;34m\u001b[0m\u001b[0;34m\u001b[0m\u001b[0m\n\u001b[0;32m--> 681\u001b[0;31m             \u001b[0mestimator\u001b[0m\u001b[0;34m.\u001b[0m\u001b[0mfit\u001b[0m\u001b[0;34m(\u001b[0m\u001b[0mX_train\u001b[0m\u001b[0;34m,\u001b[0m \u001b[0my_train\u001b[0m\u001b[0;34m,\u001b[0m \u001b[0;34m**\u001b[0m\u001b[0mfit_params\u001b[0m\u001b[0;34m)\u001b[0m\u001b[0;34m\u001b[0m\u001b[0;34m\u001b[0m\u001b[0m\n\u001b[0m\u001b[1;32m    682\u001b[0m \u001b[0;34m\u001b[0m\u001b[0m\n\u001b[1;32m    683\u001b[0m     \u001b[0;32mexcept\u001b[0m \u001b[0mException\u001b[0m\u001b[0;34m:\u001b[0m\u001b[0;34m\u001b[0m\u001b[0;34m\u001b[0m\u001b[0m\n",
      "\u001b[0;32m~/miniforge3/envs/episcalp/lib/python3.8/site-packages/sklearn/pipeline.py\u001b[0m in \u001b[0;36mfit\u001b[0;34m(self, X, y, **fit_params)\u001b[0m\n\u001b[1;32m    393\u001b[0m             \u001b[0;32mif\u001b[0m \u001b[0mself\u001b[0m\u001b[0;34m.\u001b[0m\u001b[0m_final_estimator\u001b[0m \u001b[0;34m!=\u001b[0m \u001b[0;34m\"passthrough\"\u001b[0m\u001b[0;34m:\u001b[0m\u001b[0;34m\u001b[0m\u001b[0;34m\u001b[0m\u001b[0m\n\u001b[1;32m    394\u001b[0m                 \u001b[0mfit_params_last_step\u001b[0m \u001b[0;34m=\u001b[0m \u001b[0mfit_params_steps\u001b[0m\u001b[0;34m[\u001b[0m\u001b[0mself\u001b[0m\u001b[0;34m.\u001b[0m\u001b[0msteps\u001b[0m\u001b[0;34m[\u001b[0m\u001b[0;34m-\u001b[0m\u001b[0;36m1\u001b[0m\u001b[0;34m]\u001b[0m\u001b[0;34m[\u001b[0m\u001b[0;36m0\u001b[0m\u001b[0;34m]\u001b[0m\u001b[0;34m]\u001b[0m\u001b[0;34m\u001b[0m\u001b[0;34m\u001b[0m\u001b[0m\n\u001b[0;32m--> 395\u001b[0;31m                 \u001b[0mself\u001b[0m\u001b[0;34m.\u001b[0m\u001b[0m_final_estimator\u001b[0m\u001b[0;34m.\u001b[0m\u001b[0mfit\u001b[0m\u001b[0;34m(\u001b[0m\u001b[0mXt\u001b[0m\u001b[0;34m,\u001b[0m \u001b[0my\u001b[0m\u001b[0;34m,\u001b[0m \u001b[0;34m**\u001b[0m\u001b[0mfit_params_last_step\u001b[0m\u001b[0;34m)\u001b[0m\u001b[0;34m\u001b[0m\u001b[0;34m\u001b[0m\u001b[0m\n\u001b[0m\u001b[1;32m    396\u001b[0m \u001b[0;34m\u001b[0m\u001b[0m\n\u001b[1;32m    397\u001b[0m         \u001b[0;32mreturn\u001b[0m \u001b[0mself\u001b[0m\u001b[0;34m\u001b[0m\u001b[0;34m\u001b[0m\u001b[0m\n",
      "\u001b[0;32m~/miniforge3/envs/episcalp/lib/python3.8/site-packages/sklearn/multiclass.py\u001b[0m in \u001b[0;36mfit\u001b[0;34m(self, X, y)\u001b[0m\n\u001b[1;32m    335\u001b[0m         \u001b[0;31m# n_jobs > 1 in can results in slower performance due to the overhead\u001b[0m\u001b[0;34m\u001b[0m\u001b[0;34m\u001b[0m\u001b[0;34m\u001b[0m\u001b[0m\n\u001b[1;32m    336\u001b[0m         \u001b[0;31m# of spawning threads.  See joblib issue #112.\u001b[0m\u001b[0;34m\u001b[0m\u001b[0;34m\u001b[0m\u001b[0;34m\u001b[0m\u001b[0m\n\u001b[0;32m--> 337\u001b[0;31m         self.estimators_ = Parallel(n_jobs=self.n_jobs)(\n\u001b[0m\u001b[1;32m    338\u001b[0m             delayed(_fit_binary)(\n\u001b[1;32m    339\u001b[0m                 \u001b[0mself\u001b[0m\u001b[0;34m.\u001b[0m\u001b[0mestimator\u001b[0m\u001b[0;34m,\u001b[0m\u001b[0;34m\u001b[0m\u001b[0;34m\u001b[0m\u001b[0m\n",
      "\u001b[0;32m~/miniforge3/envs/episcalp/lib/python3.8/site-packages/joblib/parallel.py\u001b[0m in \u001b[0;36m__call__\u001b[0;34m(self, iterable)\u001b[0m\n\u001b[1;32m   1042\u001b[0m                 \u001b[0mself\u001b[0m\u001b[0;34m.\u001b[0m\u001b[0m_iterating\u001b[0m \u001b[0;34m=\u001b[0m \u001b[0mself\u001b[0m\u001b[0;34m.\u001b[0m\u001b[0m_original_iterator\u001b[0m \u001b[0;32mis\u001b[0m \u001b[0;32mnot\u001b[0m \u001b[0;32mNone\u001b[0m\u001b[0;34m\u001b[0m\u001b[0;34m\u001b[0m\u001b[0m\n\u001b[1;32m   1043\u001b[0m \u001b[0;34m\u001b[0m\u001b[0m\n\u001b[0;32m-> 1044\u001b[0;31m             \u001b[0;32mwhile\u001b[0m \u001b[0mself\u001b[0m\u001b[0;34m.\u001b[0m\u001b[0mdispatch_one_batch\u001b[0m\u001b[0;34m(\u001b[0m\u001b[0miterator\u001b[0m\u001b[0;34m)\u001b[0m\u001b[0;34m:\u001b[0m\u001b[0;34m\u001b[0m\u001b[0;34m\u001b[0m\u001b[0m\n\u001b[0m\u001b[1;32m   1045\u001b[0m                 \u001b[0;32mpass\u001b[0m\u001b[0;34m\u001b[0m\u001b[0;34m\u001b[0m\u001b[0m\n\u001b[1;32m   1046\u001b[0m \u001b[0;34m\u001b[0m\u001b[0m\n",
      "\u001b[0;32m~/miniforge3/envs/episcalp/lib/python3.8/site-packages/joblib/parallel.py\u001b[0m in \u001b[0;36mdispatch_one_batch\u001b[0;34m(self, iterator)\u001b[0m\n\u001b[1;32m    857\u001b[0m                 \u001b[0;32mreturn\u001b[0m \u001b[0;32mFalse\u001b[0m\u001b[0;34m\u001b[0m\u001b[0;34m\u001b[0m\u001b[0m\n\u001b[1;32m    858\u001b[0m             \u001b[0;32melse\u001b[0m\u001b[0;34m:\u001b[0m\u001b[0;34m\u001b[0m\u001b[0;34m\u001b[0m\u001b[0m\n\u001b[0;32m--> 859\u001b[0;31m                 \u001b[0mself\u001b[0m\u001b[0;34m.\u001b[0m\u001b[0m_dispatch\u001b[0m\u001b[0;34m(\u001b[0m\u001b[0mtasks\u001b[0m\u001b[0;34m)\u001b[0m\u001b[0;34m\u001b[0m\u001b[0;34m\u001b[0m\u001b[0m\n\u001b[0m\u001b[1;32m    860\u001b[0m                 \u001b[0;32mreturn\u001b[0m \u001b[0;32mTrue\u001b[0m\u001b[0;34m\u001b[0m\u001b[0;34m\u001b[0m\u001b[0m\n\u001b[1;32m    861\u001b[0m \u001b[0;34m\u001b[0m\u001b[0m\n",
      "\u001b[0;32m~/miniforge3/envs/episcalp/lib/python3.8/site-packages/joblib/parallel.py\u001b[0m in \u001b[0;36m_dispatch\u001b[0;34m(self, batch)\u001b[0m\n\u001b[1;32m    775\u001b[0m         \u001b[0;32mwith\u001b[0m \u001b[0mself\u001b[0m\u001b[0;34m.\u001b[0m\u001b[0m_lock\u001b[0m\u001b[0;34m:\u001b[0m\u001b[0;34m\u001b[0m\u001b[0;34m\u001b[0m\u001b[0m\n\u001b[1;32m    776\u001b[0m             \u001b[0mjob_idx\u001b[0m \u001b[0;34m=\u001b[0m \u001b[0mlen\u001b[0m\u001b[0;34m(\u001b[0m\u001b[0mself\u001b[0m\u001b[0;34m.\u001b[0m\u001b[0m_jobs\u001b[0m\u001b[0;34m)\u001b[0m\u001b[0;34m\u001b[0m\u001b[0;34m\u001b[0m\u001b[0m\n\u001b[0;32m--> 777\u001b[0;31m             \u001b[0mjob\u001b[0m \u001b[0;34m=\u001b[0m \u001b[0mself\u001b[0m\u001b[0;34m.\u001b[0m\u001b[0m_backend\u001b[0m\u001b[0;34m.\u001b[0m\u001b[0mapply_async\u001b[0m\u001b[0;34m(\u001b[0m\u001b[0mbatch\u001b[0m\u001b[0;34m,\u001b[0m \u001b[0mcallback\u001b[0m\u001b[0;34m=\u001b[0m\u001b[0mcb\u001b[0m\u001b[0;34m)\u001b[0m\u001b[0;34m\u001b[0m\u001b[0;34m\u001b[0m\u001b[0m\n\u001b[0m\u001b[1;32m    778\u001b[0m             \u001b[0;31m# A job can complete so quickly than its callback is\u001b[0m\u001b[0;34m\u001b[0m\u001b[0;34m\u001b[0m\u001b[0;34m\u001b[0m\u001b[0m\n\u001b[1;32m    779\u001b[0m             \u001b[0;31m# called before we get here, causing self._jobs to\u001b[0m\u001b[0;34m\u001b[0m\u001b[0;34m\u001b[0m\u001b[0;34m\u001b[0m\u001b[0m\n",
      "\u001b[0;32m~/miniforge3/envs/episcalp/lib/python3.8/site-packages/joblib/_parallel_backends.py\u001b[0m in \u001b[0;36mapply_async\u001b[0;34m(self, func, callback)\u001b[0m\n\u001b[1;32m    206\u001b[0m     \u001b[0;32mdef\u001b[0m \u001b[0mapply_async\u001b[0m\u001b[0;34m(\u001b[0m\u001b[0mself\u001b[0m\u001b[0;34m,\u001b[0m \u001b[0mfunc\u001b[0m\u001b[0;34m,\u001b[0m \u001b[0mcallback\u001b[0m\u001b[0;34m=\u001b[0m\u001b[0;32mNone\u001b[0m\u001b[0;34m)\u001b[0m\u001b[0;34m:\u001b[0m\u001b[0;34m\u001b[0m\u001b[0;34m\u001b[0m\u001b[0m\n\u001b[1;32m    207\u001b[0m         \u001b[0;34m\"\"\"Schedule a func to be run\"\"\"\u001b[0m\u001b[0;34m\u001b[0m\u001b[0;34m\u001b[0m\u001b[0m\n\u001b[0;32m--> 208\u001b[0;31m         \u001b[0mresult\u001b[0m \u001b[0;34m=\u001b[0m \u001b[0mImmediateResult\u001b[0m\u001b[0;34m(\u001b[0m\u001b[0mfunc\u001b[0m\u001b[0;34m)\u001b[0m\u001b[0;34m\u001b[0m\u001b[0;34m\u001b[0m\u001b[0m\n\u001b[0m\u001b[1;32m    209\u001b[0m         \u001b[0;32mif\u001b[0m \u001b[0mcallback\u001b[0m\u001b[0;34m:\u001b[0m\u001b[0;34m\u001b[0m\u001b[0;34m\u001b[0m\u001b[0m\n\u001b[1;32m    210\u001b[0m             \u001b[0mcallback\u001b[0m\u001b[0;34m(\u001b[0m\u001b[0mresult\u001b[0m\u001b[0;34m)\u001b[0m\u001b[0;34m\u001b[0m\u001b[0;34m\u001b[0m\u001b[0m\n",
      "\u001b[0;32m~/miniforge3/envs/episcalp/lib/python3.8/site-packages/joblib/_parallel_backends.py\u001b[0m in \u001b[0;36m__init__\u001b[0;34m(self, batch)\u001b[0m\n\u001b[1;32m    570\u001b[0m         \u001b[0;31m# Don't delay the application, to avoid keeping the input\u001b[0m\u001b[0;34m\u001b[0m\u001b[0;34m\u001b[0m\u001b[0;34m\u001b[0m\u001b[0m\n\u001b[1;32m    571\u001b[0m         \u001b[0;31m# arguments in memory\u001b[0m\u001b[0;34m\u001b[0m\u001b[0;34m\u001b[0m\u001b[0;34m\u001b[0m\u001b[0m\n\u001b[0;32m--> 572\u001b[0;31m         \u001b[0mself\u001b[0m\u001b[0;34m.\u001b[0m\u001b[0mresults\u001b[0m \u001b[0;34m=\u001b[0m \u001b[0mbatch\u001b[0m\u001b[0;34m(\u001b[0m\u001b[0;34m)\u001b[0m\u001b[0;34m\u001b[0m\u001b[0;34m\u001b[0m\u001b[0m\n\u001b[0m\u001b[1;32m    573\u001b[0m \u001b[0;34m\u001b[0m\u001b[0m\n\u001b[1;32m    574\u001b[0m     \u001b[0;32mdef\u001b[0m \u001b[0mget\u001b[0m\u001b[0;34m(\u001b[0m\u001b[0mself\u001b[0m\u001b[0;34m)\u001b[0m\u001b[0;34m:\u001b[0m\u001b[0;34m\u001b[0m\u001b[0;34m\u001b[0m\u001b[0m\n",
      "\u001b[0;32m~/miniforge3/envs/episcalp/lib/python3.8/site-packages/joblib/parallel.py\u001b[0m in \u001b[0;36m__call__\u001b[0;34m(self)\u001b[0m\n\u001b[1;32m    260\u001b[0m         \u001b[0;31m# change the default number of processes to -1\u001b[0m\u001b[0;34m\u001b[0m\u001b[0;34m\u001b[0m\u001b[0;34m\u001b[0m\u001b[0m\n\u001b[1;32m    261\u001b[0m         \u001b[0;32mwith\u001b[0m \u001b[0mparallel_backend\u001b[0m\u001b[0;34m(\u001b[0m\u001b[0mself\u001b[0m\u001b[0;34m.\u001b[0m\u001b[0m_backend\u001b[0m\u001b[0;34m,\u001b[0m \u001b[0mn_jobs\u001b[0m\u001b[0;34m=\u001b[0m\u001b[0mself\u001b[0m\u001b[0;34m.\u001b[0m\u001b[0m_n_jobs\u001b[0m\u001b[0;34m)\u001b[0m\u001b[0;34m:\u001b[0m\u001b[0;34m\u001b[0m\u001b[0;34m\u001b[0m\u001b[0m\n\u001b[0;32m--> 262\u001b[0;31m             return [func(*args, **kwargs)\n\u001b[0m\u001b[1;32m    263\u001b[0m                     for func, args, kwargs in self.items]\n\u001b[1;32m    264\u001b[0m \u001b[0;34m\u001b[0m\u001b[0m\n",
      "\u001b[0;32m~/miniforge3/envs/episcalp/lib/python3.8/site-packages/joblib/parallel.py\u001b[0m in \u001b[0;36m<listcomp>\u001b[0;34m(.0)\u001b[0m\n\u001b[1;32m    260\u001b[0m         \u001b[0;31m# change the default number of processes to -1\u001b[0m\u001b[0;34m\u001b[0m\u001b[0;34m\u001b[0m\u001b[0;34m\u001b[0m\u001b[0m\n\u001b[1;32m    261\u001b[0m         \u001b[0;32mwith\u001b[0m \u001b[0mparallel_backend\u001b[0m\u001b[0;34m(\u001b[0m\u001b[0mself\u001b[0m\u001b[0;34m.\u001b[0m\u001b[0m_backend\u001b[0m\u001b[0;34m,\u001b[0m \u001b[0mn_jobs\u001b[0m\u001b[0;34m=\u001b[0m\u001b[0mself\u001b[0m\u001b[0;34m.\u001b[0m\u001b[0m_n_jobs\u001b[0m\u001b[0;34m)\u001b[0m\u001b[0;34m:\u001b[0m\u001b[0;34m\u001b[0m\u001b[0;34m\u001b[0m\u001b[0m\n\u001b[0;32m--> 262\u001b[0;31m             return [func(*args, **kwargs)\n\u001b[0m\u001b[1;32m    263\u001b[0m                     for func, args, kwargs in self.items]\n\u001b[1;32m    264\u001b[0m \u001b[0;34m\u001b[0m\u001b[0m\n",
      "\u001b[0;32m~/miniforge3/envs/episcalp/lib/python3.8/site-packages/sklearn/utils/fixes.py\u001b[0m in \u001b[0;36m__call__\u001b[0;34m(self, *args, **kwargs)\u001b[0m\n\u001b[1;32m    207\u001b[0m     \u001b[0;32mdef\u001b[0m \u001b[0m__call__\u001b[0m\u001b[0;34m(\u001b[0m\u001b[0mself\u001b[0m\u001b[0;34m,\u001b[0m \u001b[0;34m*\u001b[0m\u001b[0margs\u001b[0m\u001b[0;34m,\u001b[0m \u001b[0;34m**\u001b[0m\u001b[0mkwargs\u001b[0m\u001b[0;34m)\u001b[0m\u001b[0;34m:\u001b[0m\u001b[0;34m\u001b[0m\u001b[0;34m\u001b[0m\u001b[0m\n\u001b[1;32m    208\u001b[0m         \u001b[0;32mwith\u001b[0m \u001b[0mconfig_context\u001b[0m\u001b[0;34m(\u001b[0m\u001b[0;34m**\u001b[0m\u001b[0mself\u001b[0m\u001b[0;34m.\u001b[0m\u001b[0mconfig\u001b[0m\u001b[0;34m)\u001b[0m\u001b[0;34m:\u001b[0m\u001b[0;34m\u001b[0m\u001b[0;34m\u001b[0m\u001b[0m\n\u001b[0;32m--> 209\u001b[0;31m             \u001b[0;32mreturn\u001b[0m \u001b[0mself\u001b[0m\u001b[0;34m.\u001b[0m\u001b[0mfunction\u001b[0m\u001b[0;34m(\u001b[0m\u001b[0;34m*\u001b[0m\u001b[0margs\u001b[0m\u001b[0;34m,\u001b[0m \u001b[0;34m**\u001b[0m\u001b[0mkwargs\u001b[0m\u001b[0;34m)\u001b[0m\u001b[0;34m\u001b[0m\u001b[0;34m\u001b[0m\u001b[0m\n\u001b[0m\u001b[1;32m    210\u001b[0m \u001b[0;34m\u001b[0m\u001b[0m\n\u001b[1;32m    211\u001b[0m \u001b[0;34m\u001b[0m\u001b[0m\n",
      "\u001b[0;32m~/miniforge3/envs/episcalp/lib/python3.8/site-packages/sklearn/multiclass.py\u001b[0m in \u001b[0;36m_fit_binary\u001b[0;34m(estimator, X, y, classes)\u001b[0m\n\u001b[1;32m     83\u001b[0m     \u001b[0;32melse\u001b[0m\u001b[0;34m:\u001b[0m\u001b[0;34m\u001b[0m\u001b[0;34m\u001b[0m\u001b[0m\n\u001b[1;32m     84\u001b[0m         \u001b[0mestimator\u001b[0m \u001b[0;34m=\u001b[0m \u001b[0mclone\u001b[0m\u001b[0;34m(\u001b[0m\u001b[0mestimator\u001b[0m\u001b[0;34m)\u001b[0m\u001b[0;34m\u001b[0m\u001b[0;34m\u001b[0m\u001b[0m\n\u001b[0;32m---> 85\u001b[0;31m         \u001b[0mestimator\u001b[0m\u001b[0;34m.\u001b[0m\u001b[0mfit\u001b[0m\u001b[0;34m(\u001b[0m\u001b[0mX\u001b[0m\u001b[0;34m,\u001b[0m \u001b[0my\u001b[0m\u001b[0;34m)\u001b[0m\u001b[0;34m\u001b[0m\u001b[0;34m\u001b[0m\u001b[0m\n\u001b[0m\u001b[1;32m     86\u001b[0m     \u001b[0;32mreturn\u001b[0m \u001b[0mestimator\u001b[0m\u001b[0;34m\u001b[0m\u001b[0;34m\u001b[0m\u001b[0m\n\u001b[1;32m     87\u001b[0m \u001b[0;34m\u001b[0m\u001b[0m\n",
      "\u001b[0;32m~/miniforge3/envs/episcalp/lib/python3.8/site-packages/sklearn/linear_model/_logistic.py\u001b[0m in \u001b[0;36mfit\u001b[0;34m(self, X, y, sample_weight)\u001b[0m\n\u001b[1;32m   1587\u001b[0m         \u001b[0;32melse\u001b[0m\u001b[0;34m:\u001b[0m\u001b[0;34m\u001b[0m\u001b[0;34m\u001b[0m\u001b[0m\n\u001b[1;32m   1588\u001b[0m             \u001b[0mprefer\u001b[0m \u001b[0;34m=\u001b[0m \u001b[0;34m\"processes\"\u001b[0m\u001b[0;34m\u001b[0m\u001b[0;34m\u001b[0m\u001b[0m\n\u001b[0;32m-> 1589\u001b[0;31m         fold_coefs_ = Parallel(\n\u001b[0m\u001b[1;32m   1590\u001b[0m             \u001b[0mn_jobs\u001b[0m\u001b[0;34m=\u001b[0m\u001b[0mself\u001b[0m\u001b[0;34m.\u001b[0m\u001b[0mn_jobs\u001b[0m\u001b[0;34m,\u001b[0m\u001b[0;34m\u001b[0m\u001b[0;34m\u001b[0m\u001b[0m\n\u001b[1;32m   1591\u001b[0m             \u001b[0mverbose\u001b[0m\u001b[0;34m=\u001b[0m\u001b[0mself\u001b[0m\u001b[0;34m.\u001b[0m\u001b[0mverbose\u001b[0m\u001b[0;34m,\u001b[0m\u001b[0;34m\u001b[0m\u001b[0;34m\u001b[0m\u001b[0m\n",
      "\u001b[0;32m~/miniforge3/envs/episcalp/lib/python3.8/site-packages/joblib/parallel.py\u001b[0m in \u001b[0;36m__call__\u001b[0;34m(self, iterable)\u001b[0m\n\u001b[1;32m   1052\u001b[0m \u001b[0;34m\u001b[0m\u001b[0m\n\u001b[1;32m   1053\u001b[0m             \u001b[0;32mwith\u001b[0m \u001b[0mself\u001b[0m\u001b[0;34m.\u001b[0m\u001b[0m_backend\u001b[0m\u001b[0;34m.\u001b[0m\u001b[0mretrieval_context\u001b[0m\u001b[0;34m(\u001b[0m\u001b[0;34m)\u001b[0m\u001b[0;34m:\u001b[0m\u001b[0;34m\u001b[0m\u001b[0;34m\u001b[0m\u001b[0m\n\u001b[0;32m-> 1054\u001b[0;31m                 \u001b[0mself\u001b[0m\u001b[0;34m.\u001b[0m\u001b[0mretrieve\u001b[0m\u001b[0;34m(\u001b[0m\u001b[0;34m)\u001b[0m\u001b[0;34m\u001b[0m\u001b[0;34m\u001b[0m\u001b[0m\n\u001b[0m\u001b[1;32m   1055\u001b[0m             \u001b[0;31m# Make sure that we get a last message telling us we are done\u001b[0m\u001b[0;34m\u001b[0m\u001b[0;34m\u001b[0m\u001b[0;34m\u001b[0m\u001b[0m\n\u001b[1;32m   1056\u001b[0m             \u001b[0melapsed_time\u001b[0m \u001b[0;34m=\u001b[0m \u001b[0mtime\u001b[0m\u001b[0;34m.\u001b[0m\u001b[0mtime\u001b[0m\u001b[0;34m(\u001b[0m\u001b[0;34m)\u001b[0m \u001b[0;34m-\u001b[0m \u001b[0mself\u001b[0m\u001b[0;34m.\u001b[0m\u001b[0m_start_time\u001b[0m\u001b[0;34m\u001b[0m\u001b[0;34m\u001b[0m\u001b[0m\n",
      "\u001b[0;32m~/miniforge3/envs/episcalp/lib/python3.8/site-packages/joblib/parallel.py\u001b[0m in \u001b[0;36mretrieve\u001b[0;34m(self)\u001b[0m\n\u001b[1;32m    953\u001b[0m                     \u001b[0;31m# scheduling.\u001b[0m\u001b[0;34m\u001b[0m\u001b[0;34m\u001b[0m\u001b[0;34m\u001b[0m\u001b[0m\n\u001b[1;32m    954\u001b[0m                     \u001b[0mensure_ready\u001b[0m \u001b[0;34m=\u001b[0m \u001b[0mself\u001b[0m\u001b[0;34m.\u001b[0m\u001b[0m_managed_backend\u001b[0m\u001b[0;34m\u001b[0m\u001b[0;34m\u001b[0m\u001b[0m\n\u001b[0;32m--> 955\u001b[0;31m                     \u001b[0mbackend\u001b[0m\u001b[0;34m.\u001b[0m\u001b[0mabort_everything\u001b[0m\u001b[0;34m(\u001b[0m\u001b[0mensure_ready\u001b[0m\u001b[0;34m=\u001b[0m\u001b[0mensure_ready\u001b[0m\u001b[0;34m)\u001b[0m\u001b[0;34m\u001b[0m\u001b[0;34m\u001b[0m\u001b[0m\n\u001b[0m\u001b[1;32m    956\u001b[0m                 \u001b[0;32mraise\u001b[0m\u001b[0;34m\u001b[0m\u001b[0;34m\u001b[0m\u001b[0m\n\u001b[1;32m    957\u001b[0m \u001b[0;34m\u001b[0m\u001b[0m\n",
      "\u001b[0;32m~/miniforge3/envs/episcalp/lib/python3.8/site-packages/joblib/_parallel_backends.py\u001b[0m in \u001b[0;36mabort_everything\u001b[0;34m(self, ensure_ready)\u001b[0m\n\u001b[1;32m    559\u001b[0m         \"\"\"Shutdown the workers and restart a new one with the same parameters\n\u001b[1;32m    560\u001b[0m         \"\"\"\n\u001b[0;32m--> 561\u001b[0;31m         \u001b[0mself\u001b[0m\u001b[0;34m.\u001b[0m\u001b[0m_workers\u001b[0m\u001b[0;34m.\u001b[0m\u001b[0mterminate\u001b[0m\u001b[0;34m(\u001b[0m\u001b[0mkill_workers\u001b[0m\u001b[0;34m=\u001b[0m\u001b[0;32mTrue\u001b[0m\u001b[0;34m)\u001b[0m\u001b[0;34m\u001b[0m\u001b[0;34m\u001b[0m\u001b[0m\n\u001b[0m\u001b[1;32m    562\u001b[0m         \u001b[0mself\u001b[0m\u001b[0;34m.\u001b[0m\u001b[0m_workers\u001b[0m \u001b[0;34m=\u001b[0m \u001b[0;32mNone\u001b[0m\u001b[0;34m\u001b[0m\u001b[0;34m\u001b[0m\u001b[0m\n\u001b[1;32m    563\u001b[0m \u001b[0;34m\u001b[0m\u001b[0m\n",
      "\u001b[0;32m~/miniforge3/envs/episcalp/lib/python3.8/site-packages/joblib/executor.py\u001b[0m in \u001b[0;36mterminate\u001b[0;34m(self, kill_workers)\u001b[0m\n\u001b[1;32m     84\u001b[0m             \u001b[0;31m# unregister temporary resources from all contexts\u001b[0m\u001b[0;34m\u001b[0m\u001b[0;34m\u001b[0m\u001b[0;34m\u001b[0m\u001b[0m\n\u001b[1;32m     85\u001b[0m             \u001b[0;32mwith\u001b[0m \u001b[0mself\u001b[0m\u001b[0;34m.\u001b[0m\u001b[0m_submit_resize_lock\u001b[0m\u001b[0;34m:\u001b[0m\u001b[0;34m\u001b[0m\u001b[0;34m\u001b[0m\u001b[0m\n\u001b[0;32m---> 86\u001b[0;31m                 \u001b[0mself\u001b[0m\u001b[0;34m.\u001b[0m\u001b[0m_temp_folder_manager\u001b[0m\u001b[0;34m.\u001b[0m\u001b[0m_unregister_temporary_resources\u001b[0m\u001b[0;34m(\u001b[0m\u001b[0;34m)\u001b[0m\u001b[0;34m\u001b[0m\u001b[0;34m\u001b[0m\u001b[0m\n\u001b[0m\u001b[1;32m     87\u001b[0m                 self._temp_folder_manager._try_delete_folder(\n\u001b[1;32m     88\u001b[0m                     \u001b[0mallow_non_empty\u001b[0m\u001b[0;34m=\u001b[0m\u001b[0;32mTrue\u001b[0m\u001b[0;34m\u001b[0m\u001b[0;34m\u001b[0m\u001b[0m\n",
      "\u001b[0;32m~/miniforge3/envs/episcalp/lib/python3.8/site-packages/joblib/_memmapping_reducer.py\u001b[0m in \u001b[0;36m_unregister_temporary_resources\u001b[0;34m(self, context_id)\u001b[0m\n\u001b[1;32m    633\u001b[0m         \u001b[0;32mif\u001b[0m \u001b[0mcontext_id\u001b[0m \u001b[0;32mis\u001b[0m \u001b[0;32mNone\u001b[0m\u001b[0;34m:\u001b[0m\u001b[0;34m\u001b[0m\u001b[0;34m\u001b[0m\u001b[0m\n\u001b[1;32m    634\u001b[0m             \u001b[0;32mfor\u001b[0m \u001b[0mcontext_id\u001b[0m \u001b[0;32min\u001b[0m \u001b[0mself\u001b[0m\u001b[0;34m.\u001b[0m\u001b[0m_cached_temp_folders\u001b[0m\u001b[0;34m:\u001b[0m\u001b[0;34m\u001b[0m\u001b[0;34m\u001b[0m\u001b[0m\n\u001b[0;32m--> 635\u001b[0;31m                 \u001b[0mself\u001b[0m\u001b[0;34m.\u001b[0m\u001b[0m_unregister_temporary_resources\u001b[0m\u001b[0;34m(\u001b[0m\u001b[0mcontext_id\u001b[0m\u001b[0;34m)\u001b[0m\u001b[0;34m\u001b[0m\u001b[0;34m\u001b[0m\u001b[0m\n\u001b[0m\u001b[1;32m    636\u001b[0m         \u001b[0;32melse\u001b[0m\u001b[0;34m:\u001b[0m\u001b[0;34m\u001b[0m\u001b[0;34m\u001b[0m\u001b[0m\n\u001b[1;32m    637\u001b[0m             \u001b[0mtemp_folder\u001b[0m \u001b[0;34m=\u001b[0m \u001b[0mself\u001b[0m\u001b[0;34m.\u001b[0m\u001b[0m_cached_temp_folders\u001b[0m\u001b[0;34m[\u001b[0m\u001b[0mcontext_id\u001b[0m\u001b[0;34m]\u001b[0m\u001b[0;34m\u001b[0m\u001b[0;34m\u001b[0m\u001b[0m\n",
      "\u001b[0;32m~/miniforge3/envs/episcalp/lib/python3.8/site-packages/joblib/_memmapping_reducer.py\u001b[0m in \u001b[0;36m_unregister_temporary_resources\u001b[0;34m(self, context_id)\u001b[0m\n\u001b[1;32m    636\u001b[0m         \u001b[0;32melse\u001b[0m\u001b[0;34m:\u001b[0m\u001b[0;34m\u001b[0m\u001b[0;34m\u001b[0m\u001b[0m\n\u001b[1;32m    637\u001b[0m             \u001b[0mtemp_folder\u001b[0m \u001b[0;34m=\u001b[0m \u001b[0mself\u001b[0m\u001b[0;34m.\u001b[0m\u001b[0m_cached_temp_folders\u001b[0m\u001b[0;34m[\u001b[0m\u001b[0mcontext_id\u001b[0m\u001b[0;34m]\u001b[0m\u001b[0;34m\u001b[0m\u001b[0;34m\u001b[0m\u001b[0m\n\u001b[0;32m--> 638\u001b[0;31m             \u001b[0;32mif\u001b[0m \u001b[0mos\u001b[0m\u001b[0;34m.\u001b[0m\u001b[0mpath\u001b[0m\u001b[0;34m.\u001b[0m\u001b[0mexists\u001b[0m\u001b[0;34m(\u001b[0m\u001b[0mtemp_folder\u001b[0m\u001b[0;34m)\u001b[0m\u001b[0;34m:\u001b[0m\u001b[0;34m\u001b[0m\u001b[0;34m\u001b[0m\u001b[0m\n\u001b[0m\u001b[1;32m    639\u001b[0m                 \u001b[0;32mfor\u001b[0m \u001b[0mfilename\u001b[0m \u001b[0;32min\u001b[0m \u001b[0mos\u001b[0m\u001b[0;34m.\u001b[0m\u001b[0mlistdir\u001b[0m\u001b[0;34m(\u001b[0m\u001b[0mtemp_folder\u001b[0m\u001b[0;34m)\u001b[0m\u001b[0;34m:\u001b[0m\u001b[0;34m\u001b[0m\u001b[0;34m\u001b[0m\u001b[0m\n\u001b[1;32m    640\u001b[0m                     resource_tracker.unregister(\n",
      "\u001b[0;32m~/miniforge3/envs/episcalp/lib/python3.8/genericpath.py\u001b[0m in \u001b[0;36mexists\u001b[0;34m(path)\u001b[0m\n\u001b[1;32m     17\u001b[0m     \u001b[0;34m\"\"\"Test whether a path exists.  Returns False for broken symbolic links\"\"\"\u001b[0m\u001b[0;34m\u001b[0m\u001b[0;34m\u001b[0m\u001b[0m\n\u001b[1;32m     18\u001b[0m     \u001b[0;32mtry\u001b[0m\u001b[0;34m:\u001b[0m\u001b[0;34m\u001b[0m\u001b[0;34m\u001b[0m\u001b[0m\n\u001b[0;32m---> 19\u001b[0;31m         \u001b[0mos\u001b[0m\u001b[0;34m.\u001b[0m\u001b[0mstat\u001b[0m\u001b[0;34m(\u001b[0m\u001b[0mpath\u001b[0m\u001b[0;34m)\u001b[0m\u001b[0;34m\u001b[0m\u001b[0;34m\u001b[0m\u001b[0m\n\u001b[0m\u001b[1;32m     20\u001b[0m     \u001b[0;32mexcept\u001b[0m \u001b[0;34m(\u001b[0m\u001b[0mOSError\u001b[0m\u001b[0;34m,\u001b[0m \u001b[0mValueError\u001b[0m\u001b[0;34m)\u001b[0m\u001b[0;34m:\u001b[0m\u001b[0;34m\u001b[0m\u001b[0;34m\u001b[0m\u001b[0m\n\u001b[1;32m     21\u001b[0m         \u001b[0;32mreturn\u001b[0m \u001b[0;32mFalse\u001b[0m\u001b[0;34m\u001b[0m\u001b[0;34m\u001b[0m\u001b[0m\n",
      "\u001b[0;31mKeyboardInterrupt\u001b[0m: "
     ]
    }
   ],
   "source": [
    "selector = RFE(clf, \n",
    "#                  cv=cv,\n",
    "                 importance_getter = 'named_steps.onevsrestclassifier.coef_')\n",
    "selector = EFS(clf, min_features=4,\n",
    "           max_features=4,\n",
    "           scoring='roc_auc',\n",
    "           print_progress=False,\n",
    "           cv=2)\n",
    "\n",
    "selector = selector.fit(X_rfe, y_rfe)"
   ]
  },
  {
   "cell_type": "code",
   "execution_count": null,
   "id": "a6296e0e-7ff9-416f-9109-626f5da3e087",
   "metadata": {},
   "outputs": [],
   "source": [
    "# exhausive w ss, cv\n",
    "print(list(selector.best_idx_))\n",
    "print(selector.best_feature_names_)\n",
    "print(np.array(feature_vec_names)[list(selector.best_idx_)])"
   ]
  },
  {
   "cell_type": "code",
   "execution_count": 162,
   "id": "c90bddbb-d3be-4886-8be9-9cf19550cf66",
   "metadata": {},
   "outputs": [
    {
     "name": "stdout",
     "output_type": "stream",
     "text": [
      "[5, 21, 29, 33]\n",
      "('5', '21', '29', '33')\n",
      "['ss_q0.1' 'alpha_q0.5' 'beta_std' 'spike_q0.5']\n"
     ]
    }
   ],
   "source": [
    "# exhausive w ss, no cv\n",
    "print(list(selector.best_idx_))\n",
    "print(selector.best_feature_names_)\n",
    "print(np.array(feature_vec_names)[list(selector.best_idx_)])"
   ]
  },
  {
   "cell_type": "code",
   "execution_count": 151,
   "id": "ccf3ca05-01f0-472c-8859-4caad7f0e652",
   "metadata": {},
   "outputs": [
    {
     "name": "stdout",
     "output_type": "stream",
     "text": [
      "[ 1  7 17 11  6  1  1  8  1  1  2  3 18 16  5  9  1 10  4  1  1  1  1  1\n",
      " 14  1  1 12 13  1 15  1 19  1  1  1]\n",
      "[ True False False False False  True  True False  True  True False False\n",
      " False False False False  True False False  True  True  True  True  True\n",
      " False  True  True False False  True False  True False  True  True  True]\n",
      "['fragility_q0.1' 'ss_q0.1' 'ss_q0.5' 'ss_mean' 'ss_std' 'theta_q0.5'\n",
      " 'theta_std' 'alpha_q0.1' 'alpha_q0.5' 'alpha_q0.9' 'alpha_mean'\n",
      " 'beta_q0.1' 'beta_q0.5' 'beta_std' 'spike_std' 'spike_q0.5' 'spike_q0.9'\n",
      " 'spike_total']\n"
     ]
    }
   ],
   "source": [
    "# w ss\n",
    "print(selector.ranking_)\n",
    "print(selector.support_)\n",
    "print(np.array(feature_vec_names)[selector.support_])"
   ]
  },
  {
   "cell_type": "code",
   "execution_count": 137,
   "id": "c395ee42-1625-405a-b19d-e587c689297b",
   "metadata": {},
   "outputs": [
    {
     "name": "stdout",
     "output_type": "stream",
     "text": [
      "[ 1  1 11 12  1 15  1 16  7  1 10  1 13  1  2  1  1  1  6  8  1  3  5  9\n",
      "  1 14  1 17  1  1  4]\n",
      "[ True  True False False  True False  True False False  True False  True\n",
      " False  True False  True  True  True False False  True False False False\n",
      "  True False  True False  True  True False]\n",
      "['fragility_q0.1' 'fragility_q0.5' 'fragility_std' 'delta_q0.5'\n",
      " 'delta_std' 'theta_q0.5' 'theta_mean' 'alpha_q0.1' 'alpha_q0.5'\n",
      " 'alpha_q0.9' 'beta_q0.1' 'beta_std' 'spike_std' 'spike_q0.5' 'spike_q0.9']\n"
     ]
    }
   ],
   "source": [
    "# w/o ss\n",
    "print(selector.ranking_)\n",
    "print(selector.support_)\n",
    "print(np.array(feature_vec_names)[selector.support_])"
   ]
  },
  {
   "cell_type": "markdown",
   "id": "bc96b1a5-44a7-4ade-81dd-1d977288546d",
   "metadata": {},
   "source": [
    "# Run sklearn.cross_validate"
   ]
  },
  {
   "cell_type": "code",
   "execution_count": 61,
   "id": "3b04d0cf-7185-4db9-8608-21ddcbd5dae9",
   "metadata": {},
   "outputs": [
    {
     "name": "stdout",
     "output_type": "stream",
     "text": [
      "(125, 31) (125, 3)\n",
      "Pipeline(steps=[('standardscaler', StandardScaler()),\n",
      "                ('onevsrestclassifier',\n",
      "                 OneVsRestClassifier(estimator=ObliqueForestClassifier(max_features=31,\n",
      "                                                                       n_estimators=1000,\n",
      "                                                                       n_jobs=-1,\n",
      "                                                                       random_state=12345)))])\n"
     ]
    }
   ],
   "source": [
    "print(X.shape, y.shape)\n",
    "print(clf)"
   ]
  },
  {
   "cell_type": "code",
   "execution_count": 62,
   "id": "d472e26d-9721-4a0b-bdb1-3eaeea43bac4",
   "metadata": {},
   "outputs": [
    {
     "name": "stdout",
     "output_type": "stream",
     "text": [
      "{'balanced_accuracy': <function balanced_accuracy_scorer at 0x15e9a1a60>, 'cohen_kappa_score': <function cohen_scorer at 0x15e9a19d0>, 'roc_auc_ovr': 'roc_auc_ovr', 'f1_micro': 'f1_micro', 'recall_micro': 'recall_micro', 'precision_micro': 'precision_micro', 'jaccard_micro': 'jaccard_micro'}\n"
     ]
    }
   ],
   "source": [
    "scoring_funcs = {\n",
    "    'balanced_accuracy': make_scorer(balanced_accuracy_score),\n",
    "    'cohen_kappa_score': make_scorer(cohen_kappa_score),\n",
    "    'roc_auc': 'roc_auc', #roc_auc_score,\n",
    "    'f1': 'f1', #f1_score,\n",
    "    'recall': recall_score,\n",
    "    'precision': precision_score,\n",
    "    'jaccard': jaccard_score,\n",
    "    'average_precision': average_precision_score,\n",
    "    'neg_brier_score': brier_score_loss,\n",
    "}\n",
    "\n",
    "# define multiclass cross_validation scoring metrics\n",
    "f1_micro = lambda x : make_scorer(f1_score, average='micro')\n",
    "recall_micro = lambda x : make_scorer(recall_score, average='micro')\n",
    "precision_micro = lambda x: make_scorer(precision_score, average='micro')\n",
    "jaccard_micro = lambda x: make_scorer(jaccard_score, average='micro')\n",
    "roc_ovr = lambda x: make_scorer(roc_auc_score, multi_class='ovr')\n",
    "\n",
    "# some scorers need to get defined with this for multiclass\n",
    "def cohen_scorer(clf, X, y):\n",
    "    y_pred = clf.predict(X).argmax(axis=1)\n",
    "    y = y.argmax(axis=1)\n",
    "    return cohen_kappa_score(y, y_pred)\n",
    "\n",
    "def balanced_accuracy_scorer(clf, X, y):\n",
    "    y_pred = clf.predict(X).argmax(axis=1)\n",
    "    y = y.argmax(axis=1)\n",
    "    return balanced_accuracy_score(y, y_pred)\n",
    "\n",
    "multiclass_scoring_funcs = {\n",
    "    'balanced_accuracy': balanced_accuracy_scorer,\n",
    "    'cohen_kappa_score': cohen_scorer,\n",
    "    'roc_auc_ovr': 'roc_auc_ovr',# roc_ovr,\n",
    "    'f1_micro': 'f1_micro', #f1_micro,\n",
    "    'recall_micro': 'recall_micro',\n",
    "    'precision_micro': 'precision_micro',\n",
    "    'jaccard_micro': 'jaccard_micro',\n",
    "}\n",
    "\n",
    "if len(np.unique(y_classes)) == 2:\n",
    "    scoring = scoring_funcs\n",
    "else:\n",
    "    scoring = multiclass_scoring_funcs\n",
    "    \n",
    "print(scoring)"
   ]
  },
  {
   "cell_type": "code",
   "execution_count": 63,
   "id": "fae99beb-1f31-4690-95d0-e5d239bbe700",
   "metadata": {},
   "outputs": [],
   "source": [
    "# run cross-validation\n",
    "scores = cross_validate(\n",
    "    clf,\n",
    "    X,\n",
    "    y,\n",
    "    groups=subjects,\n",
    "    cv=cv,\n",
    "    scoring=scoring,\n",
    "    return_estimator=True,\n",
    "    return_train_score=True,\n",
    "    n_jobs=-1,\n",
    "    error_score='raise'\n",
    ")\n",
    "\n",
    "# get the estimators\n",
    "estimators = scores.pop(\"estimator\")"
   ]
  },
  {
   "cell_type": "code",
   "execution_count": 64,
   "id": "ea3fbd91-1562-4fa0-ae59-b6dd43c9fe9f",
   "metadata": {
    "tags": []
   },
   "outputs": [
    {
     "name": "stdout",
     "output_type": "stream",
     "text": [
      "[0.55384615 0.60869565 0.69565217 0.625      0.50746269 0.64705882\n",
      " 0.64788732 0.61538462 0.55072464 0.61764706 0.57575758 0.61764706\n",
      " 0.63888889 0.51515152 0.63636364 0.46376812 0.67605634 0.5\n",
      " 0.63636364 0.55072464]\n",
      "(125, 31) (125, 3)\n"
     ]
    }
   ],
   "source": [
    "print(scores['test_f1_micro'])\n",
    "print(X.shape, y.shape)"
   ]
  },
  {
   "cell_type": "code",
   "execution_count": 136,
   "id": "5c4654db-515c-4b3c-8cdf-98d1aa34a8c4",
   "metadata": {},
   "outputs": [
    {
     "name": "stdout",
     "output_type": "stream",
     "text": [
      "Using estimator  OneVsRestClassifier(estimator=ObliqueForestClassifier(max_features=7,\n",
      "                                                      n_estimators=1000,\n",
      "                                                      n_jobs=-1,\n",
      "                                                      random_state=12345))\n"
     ]
    }
   ],
   "source": [
    "print(\"Using estimator \", estimators[0])\n",
    "\n",
    "# initialize keys to list\n",
    "for key in [\n",
    "    \"test_fraction_pos\",\n",
    "    \"test_mean_pred_value\",\n",
    "    \"test_fpr\",\n",
    "    \"test_tpr\",\n",
    "    \"test_fnr\",\n",
    "    \"test_tnr\",\n",
    "    \"test_thresholds\",\n",
    "    \"train_fraction_pos\",\n",
    "    \"train_mean_pred_value\",\n",
    "    \"train_y_pred_proba\",\n",
    "    \"train_fpr\",\n",
    "    \"train_tpr\",\n",
    "    \"train_fnr\",\n",
    "    \"train_tnr\",\n",
    "    \"train_thresholds\",\n",
    "    \"train_subjects\",\n",
    "    \"test_subjects\",\n",
    "    \"test_y_pred_proba\",\n",
    "    \"test_importances\",\n",
    "    \"test_specificity\",\n",
    "    \"test_y\",\n",
    "    \"test_y_encodings\",\n",
    "]:\n",
    "    scores[key] = []\n",
    "\n",
    "for idx, (train_inds, test_inds) in enumerate(cv.split(X, y)):\n",
    "    estimator = estimators[idx]\n",
    "\n",
    "    # append subjects\n",
    "    scores[\"train_subjects\"].append(subjects[train_inds])\n",
    "    scores[\"test_subjects\"].append(subjects[test_inds])\n",
    "    scores[\"test_y\"].append(y[test_inds])\n",
    "#     scores[\"test_y_encodings\"].append(y_encode[test_inds])\n",
    "\n",
    "    # evaluate on the test set\n",
    "    y_train = y[train_inds]\n",
    "    X_train = X[train_inds, :]\n",
    "    y_pred_prob = estimator.predict_proba(X_train)[:, 1]\n",
    "\n",
    "    # compute calibration curve\n",
    "    if len(np.unique(y_classes)) == 2:\n",
    "        fraction_of_positives, mean_predicted_value = calibration_curve(\n",
    "            y_train, y_pred_prob, n_bins=10, strategy=\"quantile\"\n",
    "        )\n",
    "        scores[\"train_fraction_pos\"].append(fraction_of_positives)\n",
    "        scores[\"train_mean_pred_value\"].append(mean_predicted_value)\n",
    "\n",
    "    # append training data\n",
    "    scores[\"train_y_pred_proba\"].append(y_pred_prob)\n",
    "\n",
    "    # store ROC curve metrics on the held-out test set\n",
    "    if len(np.unique(y_classes)) == 2:\n",
    "        fpr, tpr, thresholds = roc_curve(y_train, y_pred_prob, pos_label=1)\n",
    "        fnr, tnr, neg_thresholds = roc_curve(y_train, y_pred_prob, pos_label=0)\n",
    "        scores[\"train_fpr\"].append(fpr)\n",
    "        scores[\"train_tpr\"].append(tpr)\n",
    "        scores[\"train_fnr\"].append(fnr)\n",
    "        scores[\"train_tnr\"].append(tnr)\n",
    "        scores[\"train_thresholds\"].append(thresholds)\n",
    "\n",
    "    # evaluate on the test set\n",
    "    y_test = y[test_inds]\n",
    "    X_test = X[test_inds, :]\n",
    "    y_pred_prob = estimator.predict_proba(X_test)\n",
    "    y_pred_label = np.argmax(y_pred_prob, axis=1)\n",
    "\n",
    "    # compute calibration curve\n",
    "    if len(np.unique(y_classes)) == 2:\n",
    "        fraction_of_positives, mean_predicted_value = calibration_curve(\n",
    "            y_test, y_pred_prob, n_bins=10, strategy=\"quantile\"\n",
    "        )\n",
    "        scores[\"test_fraction_pos\"].append(fraction_of_positives)\n",
    "        scores[\"test_mean_pred_value\"].append(mean_predicted_value)\n",
    "    \n",
    "    # append testing data\n",
    "    scores[\"test_y_pred_proba\"].append(y_pred_prob)\n",
    "\n",
    "    # store ROC curve metrics on the held-out test set\n",
    "    if len(np.unique(y_classes)) == 2:\n",
    "        fpr, tpr, thresholds = roc_curve(y_test, y_pred_prob, pos_label=1)\n",
    "        fnr, tnr, neg_thresholds = roc_curve(y_test, y_pred_prob, pos_label=0)\n",
    "        scores[\"test_fpr\"].append(fpr)\n",
    "        scores[\"test_tpr\"].append(tpr)\n",
    "        scores[\"test_fnr\"].append(fnr)\n",
    "        scores[\"test_tnr\"].append(tnr)\n",
    "        scores[\"test_thresholds\"].append(thresholds)\n",
    "\n",
    "    conf_matrix = confusion_matrix(\n",
    "        y_test.astype(int).argmax(axis=1), (y_pred_label).astype(int)\n",
    "    )\n",
    "    if len(np.unique(y_classes)) == 2:\n",
    "        tn, fp, fn, tp = conf_matrix.ravel()\n",
    "        scores[\"test_specificity\"].append(tn / (tn + fp))\n",
    "\n",
    "    # get the permutation importances\n",
    "    r = permutation_importance(\n",
    "        estimator, X_test, y_test, n_repeats=5, random_state=random_state, n_jobs=-1,\n",
    "        scoring='roc_auc_ovr'\n",
    "    )\n",
    "    scores[\"test_importances\"].append(r.importances)"
   ]
  },
  {
   "cell_type": "code",
   "execution_count": 137,
   "id": "f05528d2-a266-4de2-9316-4a30c3acb6ee",
   "metadata": {},
   "outputs": [],
   "source": [
    "# add metadata\n",
    "scores['y_classes'] = y_classes"
   ]
  },
  {
   "cell_type": "markdown",
   "id": "8aef7749-683d-47f9-b7d0-08213b0c98c0",
   "metadata": {},
   "source": [
    "## Save Model Output Scores"
   ]
  },
  {
   "cell_type": "code",
   "execution_count": 138,
   "id": "7b2dafa7-5747-4c23-b176-70426dd8c93b",
   "metadata": {},
   "outputs": [
    {
     "name": "stdout",
     "output_type": "stream",
     "text": [
      "/Users/adam2392/Johns Hopkins/Scalp EEG JHH - Documents/derivatives/cv20_sporf_mtry7_fragilitylobes_jhhjeff_withstd.json\n"
     ]
    }
   ],
   "source": [
    "fname = (\n",
    "    deriv_root.parent\n",
    "    / \"derivatives\"\n",
    "    / f\"cv{n_splits}_{clf_name}_mtry{max_features}_{exp_name}_withstd.json\"\n",
    ")\n",
    "print(fname)"
   ]
  },
  {
   "cell_type": "code",
   "execution_count": 139,
   "id": "21b8a7c7-63d7-4ebc-b75e-de4a3876a47b",
   "metadata": {},
   "outputs": [],
   "source": [
    "with open(fname.with_suffix(\".json\"), \"w\") as fp:\n",
    "    json.dump(scores, fp, cls=NumpyEncoder)"
   ]
  },
  {
   "cell_type": "code",
   "execution_count": null,
   "id": "2a61223f-c56c-45a7-b924-acc427558b6a",
   "metadata": {},
   "outputs": [],
   "source": []
  }
 ],
 "metadata": {
  "kernelspec": {
   "display_name": "episcalp",
   "language": "python",
   "name": "episcalp"
  },
  "language_info": {
   "codemirror_mode": {
    "name": "ipython",
    "version": 3
   },
   "file_extension": ".py",
   "mimetype": "text/x-python",
   "name": "python",
   "nbconvert_exporter": "python",
   "pygments_lexer": "ipython3",
   "version": "3.8.10"
  }
 },
 "nbformat": 4,
 "nbformat_minor": 5
}
