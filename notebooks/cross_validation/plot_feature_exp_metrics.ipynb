{
 "cells": [
  {
   "cell_type": "markdown",
   "id": "f0a53f78-6ab0-47f7-adbb-46ffdeaa790d",
   "metadata": {},
   "source": [
    "# Plotting Source Sink Cross Validation Experiment\n",
    "\n",
    "Acknowledgements: See https://github.com/sipv/MultipanelFigures/blob/main/MultipanelFigures.ipynb for a great explanation on laying out figures in matplotlib"
   ]
  },
  {
   "cell_type": "code",
   "execution_count": 4,
   "id": "68c12f0a-a6d9-4e54-8e6d-76e48ec80754",
   "metadata": {},
   "outputs": [],
   "source": [
    "%load_ext lab_black"
   ]
  },
  {
   "cell_type": "code",
   "execution_count": 5,
   "id": "35fa0579-2ede-4e2e-b158-e4ab3677a93a",
   "metadata": {},
   "outputs": [],
   "source": [
    "import numpy as np\n",
    "import scipy\n",
    "import scipy.io\n",
    "import pandas as pd\n",
    "from pathlib import Path\n",
    "import os\n",
    "import collections\n",
    "from natsort import natsorted\n",
    "import json\n",
    "import pickle\n",
    "\n",
    "from mne_bids import BIDSPath, get_entities_from_fname, get_entity_vals\n",
    "\n",
    "from sklearn.metrics import auc\n",
    "\n",
    "import pingouin as pg\n",
    "from mlxtend.evaluate import mcnemar_table, mcnemar\n",
    "import dabest\n",
    "\n",
    "import matplotlib as mpl\n",
    "import matplotlib.pyplot as plt\n",
    "import seaborn as sns"
   ]
  },
  {
   "cell_type": "markdown",
   "id": "cb7398e0-d6ca-4cc3-88e9-8f9885da3145",
   "metadata": {},
   "source": [
    "# Set Plotting Options"
   ]
  },
  {
   "cell_type": "code",
   "execution_count": 6,
   "id": "a98a2501-f0b1-42ce-828d-9aa2bebf4130",
   "metadata": {},
   "outputs": [],
   "source": [
    "# Set font sizes\n",
    "SMALL_SIZE = 8 * 2\n",
    "MEDIUM_SIZE = 10 * 2\n",
    "BIGGER_SIZE = 12 * 2\n",
    "\n",
    "plt.rc(\"font\", size=SMALL_SIZE)  # controls default text sizes\n",
    "plt.rc(\"axes\", titlesize=SMALL_SIZE)  # fontsize of the axes title\n",
    "plt.rc(\"axes\", labelsize=MEDIUM_SIZE)  # fontsize of the x and y labels\n",
    "plt.rc(\"xtick\", labelsize=SMALL_SIZE)  # fontsize of the tick labels\n",
    "plt.rc(\"ytick\", labelsize=SMALL_SIZE)  # fontsize of the tick labels\n",
    "plt.rc(\"legend\", fontsize=SMALL_SIZE)  # legend fontsize\n",
    "plt.rc(\"figure\", titlesize=BIGGER_SIZE)  # fontsize of the figure title\n",
    "\n",
    "plt.rc(\"font\", **{\"family\": \"sans-serif\", \"sans-serif\": [\"Arial\"]})"
   ]
  },
  {
   "cell_type": "code",
   "execution_count": null,
   "id": "03926fe1-c50a-4018-882f-5beae1c09068",
   "metadata": {},
   "outputs": [],
   "source": [
    "def load_participant_df(root, subject):\n",
    "    \"\"\"Load participants.tsv file as a dataframe for a specific subject.\n",
    "    \n",
    "    Note: subject ID needs to be in format ``sub-<subject>``.\n",
    "    \"\"\"\n",
    "    df = pd.read_csv(os.path.join(root, 'participants.tsv', sep='\\t')\n",
    "    \n",
    "    if not subject.startswith('sub-'):\n",
    "        subject = f'sub-{subject}'\n",
    "    subj_row = df[df['participant_id'] == subject]\n",
    "    return subj_row"
   ]
  },
  {
   "cell_type": "markdown",
   "id": "dd0ff479-b0a7-4f06-a1d4-38844e105e26",
   "metadata": {},
   "source": [
    "# Load Data"
   ]
  },
  {
   "cell_type": "code",
   "execution_count": 4,
   "id": "c6615fbd-7e3f-43f2-b4b2-f677b7f0a31f",
   "metadata": {},
   "outputs": [],
   "source": [
    "jhroot = Path(\"/Users/adam2392/Johns Hopkins/Scalp EEG JHH - Documents/bids/\")\n",
    "jeffroot = Path(\"/Users/adam2392/Johns Hopkins/Jefferson_Scalp - Documents/root/\")\n",
    "\n",
    "# not ready yet\n",
    "upmcroot = Path(\"/Users/adam2392/Johns Hopkins/UPMC_Scalp - Documents/\")"
   ]
  },
  {
   "cell_type": "code",
   "execution_count": 9,
   "id": "0fd08287-1eef-4b89-965e-97f166c3140f",
   "metadata": {},
   "outputs": [],
   "source": [
    "root = Path(\"/Users/adam2392/Scalp EEG JHH - Documents/\")\n",
    "# root = Path(\"/home/adam2392/hdd/Dropbox/epilepsy_interictal\")\n",
    "deriv_root = root / \"derivatives\"\n",
    "\n",
    "reference = \"monopolar\"\n",
    "deriv_chain = Path(\"sourcesink\") / reference / \"remove_artifact_wins\"\n",
    "deriv_path = deriv_root / deriv_chain"
   ]
  },
  {
   "cell_type": "code",
   "execution_count": 8,
   "id": "b57b7010-5d04-4536-9b9b-4ce753f3b8fa",
   "metadata": {},
   "outputs": [],
   "source": [
    "figure_dir = Path(\"/Users/adam2392/Johns Hopkins/Scalp EEG JHH - Documents/figures\")"
   ]
  },
  {
   "cell_type": "markdown",
   "id": "36bfe5a7-6416-4e1c-819f-c31436801384",
   "metadata": {},
   "source": [
    "## Load Experimental Data from JSON - output of sklearn's \"cross_validate\" function"
   ]
  },
  {
   "cell_type": "code",
   "execution_count": 10,
   "id": "48cd5398-663c-4a7f-9133-9d336f778ad4",
   "metadata": {},
   "outputs": [],
   "source": [
    "# here name the experiment something that is uniquely identifiable\n",
    "# THIS STR WILL BE USED TO PREFIX/SUFFIX ALL FIGURES DOWNSTREAM\n",
    "exp_name = \"\""
   ]
  },
  {
   "cell_type": "code",
   "execution_count": 8,
   "id": "d9c22e52-15bb-42dd-8493-73bde84c89fe",
   "metadata": {},
   "outputs": [],
   "source": [
    "n_splits = 10\n",
    "\n",
    "clf_name = \"sporf\"\n",
    "n_features = 15\n",
    "n_estimators = (2000,)\n",
    "max_features = n_features * 2"
   ]
  },
  {
   "cell_type": "code",
   "execution_count": 9,
   "id": "06b2d027-79e5-47dc-803c-c9babe60a8d7",
   "metadata": {},
   "outputs": [
    {
     "name": "stdout",
     "output_type": "stream",
     "text": [
      "/mnt/labbook/input/source-sink-dataset/derivatives/cv10_sporf_mtry30_exp_allfeats_meandiff.json\n"
     ]
    }
   ],
   "source": [
    "# specify the filenmae\n",
    "fname = (\n",
    "    deriv_root\n",
    "    / f\"cv{n_splits}_{clf_name}_mtry{max_features}_exp_allfeats_meandiff.json\"\n",
    ")\n",
    "print(fname)"
   ]
  },
  {
   "cell_type": "code",
   "execution_count": 10,
   "id": "69f314de-f90d-4668-8537-aa2bf5393adc",
   "metadata": {},
   "outputs": [],
   "source": [
    "with open(fname.with_suffix(\".json\"), \"r\") as fp:\n",
    "    scores = json.load(fp)"
   ]
  },
  {
   "cell_type": "code",
   "execution_count": 11,
   "id": "795a9b13-a5e7-498f-b002-985fd6ed58e0",
   "metadata": {},
   "outputs": [],
   "source": [
    "max_features = 10"
   ]
  },
  {
   "cell_type": "code",
   "execution_count": 12,
   "id": "52471694-13c7-486c-aafe-206d896ab90a",
   "metadata": {},
   "outputs": [
    {
     "name": "stdout",
     "output_type": "stream",
     "text": [
      "/mnt/labbook/input/source-sink-dataset/derivatives/cv10_sporf_mtry10_exp_hforates_meandiff.pkl\n"
     ]
    }
   ],
   "source": [
    "fname = (\n",
    "    deriv_root / f\"cv{n_splits}_{clf_name}_mtry{max_features}_exp_hforates_meandiff.pkl\"\n",
    ")\n",
    "print(fname)"
   ]
  },
  {
   "cell_type": "code",
   "execution_count": 13,
   "id": "6fa342e3-7098-4ef3-8ef7-c3f247873537",
   "metadata": {},
   "outputs": [],
   "source": [
    "with open(fname.with_suffix(\".json\"), \"r\") as fp:\n",
    "    hfo_scores = json.load(fp)"
   ]
  },
  {
   "cell_type": "markdown",
   "id": "d645beb7-e2b7-419e-8b03-8853de3a8f7f",
   "metadata": {
    "tags": []
   },
   "source": [
    "# Make Plots of the Source Sink Data"
   ]
  },
  {
   "cell_type": "code",
   "execution_count": 15,
   "id": "966565e5-ad45-48ac-8a20-721c0fb1893c",
   "metadata": {},
   "outputs": [],
   "source": [
    "# either train or test set\n",
    "which_set = \"test\"\n",
    "\n",
    "# construct mean/std ROC curves\n",
    "tprs = []\n",
    "aucs = scores[f\"{which_set}_roc_auc\"]\n",
    "mean_fpr = np.linspace(0, 1, 100)\n",
    "\n",
    "for idx in range(n_splits):\n",
    "    fpr = scores[f\"{which_set}_fpr\"][idx]\n",
    "    tpr = scores[f\"{which_set}_tpr\"][idx]\n",
    "\n",
    "    # interpolate the tpr\n",
    "    interp_tpr = np.interp(mean_fpr, fpr, tpr)\n",
    "    interp_tpr[0] = 0.0\n",
    "    tprs.append(interp_tpr)\n",
    "\n",
    "mean_tpr = np.mean(tprs, axis=0)\n",
    "mean_tpr[-1] = 1.0\n",
    "mean_auc = auc(mean_fpr, mean_tpr)\n",
    "mean_auc = np.mean(aucs)\n",
    "std_auc = np.std(aucs)\n",
    "\n",
    "std_tpr = np.std(tprs, axis=0)\n",
    "tprs_upper = np.minimum(mean_tpr + std_tpr, 1)\n",
    "tprs_lower = np.maximum(mean_tpr - std_tpr, 0)"
   ]
  },
  {
   "cell_type": "markdown",
   "id": "265c1fe5-74cc-4a4f-ba6b-df5c2b037e46",
   "metadata": {},
   "source": [
    "## Print out Summary Statistics"
   ]
  },
  {
   "cell_type": "code",
   "execution_count": 16,
   "id": "40419365-471e-47c6-ae3c-c150f97cbe05",
   "metadata": {},
   "outputs": [
    {
     "name": "stdout",
     "output_type": "stream",
     "text": [
      "0.8575757575757577 0.0678273614715133\n"
     ]
    }
   ],
   "source": [
    "print(np.mean(aucs), np.std(aucs))"
   ]
  },
  {
   "cell_type": "code",
   "execution_count": 17,
   "id": "a1b8374b-a882-4fdb-9df6-a158e7ef82d7",
   "metadata": {},
   "outputs": [
    {
     "name": "stdout",
     "output_type": "stream",
     "text": [
      "0.8575757575757577 0.0678273614715133\n"
     ]
    }
   ],
   "source": [
    "print(np.mean(aucs), np.std(aucs))"
   ]
  },
  {
   "cell_type": "code",
   "execution_count": 18,
   "id": "63b019eb-4b2f-4c0b-816a-554d221879b2",
   "metadata": {},
   "outputs": [
    {
     "name": "stdout",
     "output_type": "stream",
     "text": [
      "test_balanced_accuracy 0.7888888888888889 +/- 0.08089641636434715\n"
     ]
    }
   ],
   "source": [
    "metric = \"test_balanced_accuracy\"\n",
    "print(metric, np.mean(scores[metric]), \"+/-\", np.std(scores[metric]))"
   ]
  },
  {
   "cell_type": "code",
   "execution_count": 19,
   "id": "89e90036-4cda-40fd-8c88-2dc0ca5a0669",
   "metadata": {},
   "outputs": [
    {
     "name": "stdout",
     "output_type": "stream",
     "text": [
      "test_average_precision 0.8771193623580105 +/- 0.06047213835142888\n"
     ]
    }
   ],
   "source": [
    "metric = \"test_average_precision\"\n",
    "print(metric, np.mean(scores[metric]), \"+/-\", np.std(scores[metric]))"
   ]
  },
  {
   "cell_type": "code",
   "execution_count": 20,
   "id": "040ac272-b19a-4950-8017-7f1899d56087",
   "metadata": {},
   "outputs": [
    {
     "name": "stdout",
     "output_type": "stream",
     "text": [
      "test_recall 0.7777777777777777 +/- 0.08606629658238704\n"
     ]
    }
   ],
   "source": [
    "metric = \"test_recall\"\n",
    "print(metric, np.mean(scores[metric]), \"+/-\", np.std(scores[metric]))"
   ]
  },
  {
   "cell_type": "code",
   "execution_count": 21,
   "id": "b7b1a5d2-0eb0-49ca-908d-7107fdc212f1",
   "metadata": {},
   "outputs": [
    {
     "name": "stdout",
     "output_type": "stream",
     "text": [
      "test_specificity 0.8 +/- 0.15102952478032863\n"
     ]
    }
   ],
   "source": [
    "metric = \"test_specificity\"\n",
    "print(metric, np.mean(scores[metric]), \"+/-\", np.std(scores[metric]))"
   ]
  },
  {
   "cell_type": "code",
   "execution_count": 22,
   "id": "c7f8635c-6ab9-4c89-9835-4f1ab218f0a5",
   "metadata": {},
   "outputs": [
    {
     "name": "stdout",
     "output_type": "stream",
     "text": [
      "test_f1 0.7727506319079882 +/- 0.08179035489128354\n"
     ]
    }
   ],
   "source": [
    "metric = \"test_f1\"\n",
    "print(metric, np.mean(scores[metric]), \"+/-\", np.std(scores[metric]))"
   ]
  },
  {
   "cell_type": "code",
   "execution_count": 23,
   "id": "9d7a91d5-a659-4c29-ae2a-b4bce7942480",
   "metadata": {},
   "outputs": [
    {
     "data": {
      "text/html": [
       "<div>\n",
       "<style scoped>\n",
       "    .dataframe tbody tr th:only-of-type {\n",
       "        vertical-align: middle;\n",
       "    }\n",
       "\n",
       "    .dataframe tbody tr th {\n",
       "        vertical-align: top;\n",
       "    }\n",
       "\n",
       "    .dataframe thead th {\n",
       "        text-align: right;\n",
       "    }\n",
       "</style>\n",
       "<table border=\"1\" class=\"dataframe\">\n",
       "  <thead>\n",
       "    <tr style=\"text-align: right;\">\n",
       "      <th></th>\n",
       "      <th>fit_time</th>\n",
       "      <th>score_time</th>\n",
       "      <th>test_roc_auc</th>\n",
       "      <th>test_accuracy</th>\n",
       "      <th>test_balanced_accuracy</th>\n",
       "      <th>test_average_precision</th>\n",
       "      <th>test_precision</th>\n",
       "      <th>test_neg_brier_score</th>\n",
       "      <th>test_recall</th>\n",
       "      <th>test_f1</th>\n",
       "      <th>test_specificity</th>\n",
       "    </tr>\n",
       "  </thead>\n",
       "  <tbody>\n",
       "    <tr>\n",
       "      <th>0</th>\n",
       "      <td>3.183684</td>\n",
       "      <td>1.027003</td>\n",
       "      <td>0.818182</td>\n",
       "      <td>0.75</td>\n",
       "      <td>0.752525</td>\n",
       "      <td>0.836420</td>\n",
       "      <td>0.700000</td>\n",
       "      <td>-0.174114</td>\n",
       "      <td>0.777778</td>\n",
       "      <td>0.736842</td>\n",
       "      <td>0.727273</td>\n",
       "    </tr>\n",
       "    <tr>\n",
       "      <th>1</th>\n",
       "      <td>1.931161</td>\n",
       "      <td>1.220786</td>\n",
       "      <td>0.878788</td>\n",
       "      <td>0.80</td>\n",
       "      <td>0.797980</td>\n",
       "      <td>0.893827</td>\n",
       "      <td>0.777778</td>\n",
       "      <td>-0.157007</td>\n",
       "      <td>0.777778</td>\n",
       "      <td>0.777778</td>\n",
       "      <td>0.818182</td>\n",
       "    </tr>\n",
       "    <tr>\n",
       "      <th>2</th>\n",
       "      <td>1.890555</td>\n",
       "      <td>1.058255</td>\n",
       "      <td>0.838384</td>\n",
       "      <td>0.75</td>\n",
       "      <td>0.742424</td>\n",
       "      <td>0.827876</td>\n",
       "      <td>0.750000</td>\n",
       "      <td>-0.180518</td>\n",
       "      <td>0.666667</td>\n",
       "      <td>0.705882</td>\n",
       "      <td>0.818182</td>\n",
       "    </tr>\n",
       "    <tr>\n",
       "      <th>3</th>\n",
       "      <td>2.327900</td>\n",
       "      <td>0.873741</td>\n",
       "      <td>0.959596</td>\n",
       "      <td>0.95</td>\n",
       "      <td>0.944444</td>\n",
       "      <td>0.965812</td>\n",
       "      <td>1.000000</td>\n",
       "      <td>-0.114240</td>\n",
       "      <td>0.888889</td>\n",
       "      <td>0.941176</td>\n",
       "      <td>1.000000</td>\n",
       "    </tr>\n",
       "    <tr>\n",
       "      <th>4</th>\n",
       "      <td>2.050133</td>\n",
       "      <td>0.968666</td>\n",
       "      <td>0.737374</td>\n",
       "      <td>0.70</td>\n",
       "      <td>0.696970</td>\n",
       "      <td>0.765859</td>\n",
       "      <td>0.666667</td>\n",
       "      <td>-0.221338</td>\n",
       "      <td>0.666667</td>\n",
       "      <td>0.666667</td>\n",
       "      <td>0.727273</td>\n",
       "    </tr>\n",
       "  </tbody>\n",
       "</table>\n",
       "</div>"
      ],
      "text/plain": [
       "   fit_time  score_time  test_roc_auc  test_accuracy  test_balanced_accuracy  \\\n",
       "0  3.183684    1.027003      0.818182           0.75                0.752525   \n",
       "1  1.931161    1.220786      0.878788           0.80                0.797980   \n",
       "2  1.890555    1.058255      0.838384           0.75                0.742424   \n",
       "3  2.327900    0.873741      0.959596           0.95                0.944444   \n",
       "4  2.050133    0.968666      0.737374           0.70                0.696970   \n",
       "\n",
       "   test_average_precision  test_precision  test_neg_brier_score  test_recall  \\\n",
       "0                0.836420        0.700000             -0.174114     0.777778   \n",
       "1                0.893827        0.777778             -0.157007     0.777778   \n",
       "2                0.827876        0.750000             -0.180518     0.666667   \n",
       "3                0.965812        1.000000             -0.114240     0.888889   \n",
       "4                0.765859        0.666667             -0.221338     0.666667   \n",
       "\n",
       "    test_f1  test_specificity  \n",
       "0  0.736842          0.727273  \n",
       "1  0.777778          0.818182  \n",
       "2  0.705882          0.818182  \n",
       "3  0.941176          1.000000  \n",
       "4  0.666667          0.727273  "
      ]
     },
     "metadata": {},
     "output_type": "display_data"
    }
   ],
   "source": [
    "# create a dataframe from the statistics\n",
    "temp_scores = scores.copy()\n",
    "keys = list(temp_scores.keys())\n",
    "for key in keys:\n",
    "    if any(\n",
    "        [\n",
    "            chars in key\n",
    "            for chars in [\n",
    "                \"fpr\",\n",
    "                \"tpr\",\n",
    "                \"fnr\",\n",
    "                \"tnr\",\n",
    "                \"threshold\",\n",
    "                \"fraction_pos\",\n",
    "                \"mean_pred_value\",\n",
    "                \"subjects\",\n",
    "                \"y_pred_proba\",\n",
    "                \"importances\",\n",
    "                \"train\",\n",
    "            ]\n",
    "        ]\n",
    "    ):\n",
    "        temp_scores.pop(key)\n",
    "score_df = pd.DataFrame(temp_scores)\n",
    "\n",
    "display(score_df.head())"
   ]
  },
  {
   "cell_type": "code",
   "execution_count": 24,
   "id": "46f69c92-a174-494f-83f8-92d7747d092e",
   "metadata": {},
   "outputs": [],
   "source": [
    "score_df.describe().to_csv(figure_dir / f\"{clf_name}_sourcesink_metrics_meansstd.csv\")"
   ]
  },
  {
   "cell_type": "markdown",
   "id": "efc0b203-7069-4737-a3ae-37c8b499a8a4",
   "metadata": {},
   "source": [
    "## Making ROC Curve With Confidence Interval"
   ]
  },
  {
   "cell_type": "code",
   "execution_count": 27,
   "id": "600bf532-1a11-4b19-b0bb-a7507c203b61",
   "metadata": {},
   "outputs": [
    {
     "data": {
      "image/png": "[encoded data removed]",
      "text/plain": [
       "<Figure size 432x288 with 1 Axes>"
      ]
     },
     "metadata": {
      "needs_background": "light"
     },
     "output_type": "display_data"
    }
   ],
   "source": [
    "fig, ax = plt.subplots()\n",
    "\n",
    "for idx in range(n_splits):\n",
    "    fpr = scores[f\"{which_set}_fpr\"][idx]\n",
    "    tpr = scores[f\"{which_set}_tpr\"][idx]\n",
    "\n",
    "    ax.plot(fpr, tpr, color=\"teal\", lw=2, alpha=0.5, ls=\"--\")\n",
    "\n",
    "ax.plot([0, 1], [0, 1], linestyle=\"--\", lw=2, color=\"r\", label=\"Chance\", alpha=0.8)\n",
    "ax.plot(\n",
    "    mean_fpr,\n",
    "    mean_tpr,\n",
    "    color=\"b\",\n",
    "    label=r\"Mean ROC (AUC = %0.2f $\\pm$ %0.2f)\" % (mean_auc, std_auc),\n",
    "    lw=3,\n",
    "    alpha=0.8,\n",
    ")\n",
    "\n",
    "\n",
    "ax.fill_between(\n",
    "    mean_fpr,\n",
    "    tprs_lower,\n",
    "    tprs_upper,\n",
    "    color=\"grey\",\n",
    "    alpha=0.2,\n",
    "    label=r\"$\\pm$ 1 std. dev.\",\n",
    ")\n",
    "ax.set(\n",
    "    xlim=[-0.05, 1.05],\n",
    "    ylim=[-0.05, 1.05],\n",
    "    title=f\"ROC Curve on Held-out Test Set - {exp_name}\",\n",
    ")\n",
    "ax.legend(loc=\"lower right\", fontsize=12)\n",
    "\n",
    "# And save it to PDF\n",
    "fig.savefig(figure_dir / f\"roc_curve_{exp_name}.pdf\", bbox_inches=\"tight\")"
   ]
  },
  {
   "cell_type": "markdown",
   "id": "6b237a4b-6527-4ea2-b3f8-25c7dc28f34a",
   "metadata": {},
   "source": [
    "## Plotting Predicted Probability of Success Scores"
   ]
  },
  {
   "cell_type": "code",
   "execution_count": 28,
   "id": "410d80f6-2b63-4b5b-954f-50a0cf7abe13",
   "metadata": {},
   "outputs": [],
   "source": [
    "# TODO: modify to fit the participants framework\n",
    "y_probas = []\n",
    "subj_list = []\n",
    "outcomes = []\n",
    "centers = []\n",
    "folds = []\n",
    "\n",
    "for idx in range(n_splits):\n",
    "    y_pred_proba = scores[f\"{which_set}_y_pred_proba\"][idx]\n",
    "    cv_subjects = scores[f\"{which_set}_subjects\"][idx]\n",
    "    for subject in cv_subjects:\n",
    "        outcome = meta_df[meta_df[\"patient_id\"] == subject][\"outcome\"].values[0]\n",
    "        outcomes.append(outcome)\n",
    "\n",
    "        center = meta_df[meta_df[\"patient_id\"] == subject][\"clinical_center\"].values[0]\n",
    "        centers.append(center)\n",
    "\n",
    "    y_probas.extend(y_pred_proba)\n",
    "    subj_list.extend(cv_subjects)\n",
    "    folds.extend([idx] * len(cv_subjects))"
   ]
  },
  {
   "cell_type": "code",
   "execution_count": 29,
   "id": "13165d84-5430-4583-a97d-601d7075bfd7",
   "metadata": {},
   "outputs": [
    {
     "data": {
      "text/html": [
       "<div>\n",
       "<style scoped>\n",
       "    .dataframe tbody tr th:only-of-type {\n",
       "        vertical-align: middle;\n",
       "    }\n",
       "\n",
       "    .dataframe tbody tr th {\n",
       "        vertical-align: top;\n",
       "    }\n",
       "\n",
       "    .dataframe thead th {\n",
       "        text-align: right;\n",
       "    }\n",
       "</style>\n",
       "<table border=\"1\" class=\"dataframe\">\n",
       "  <thead>\n",
       "    <tr style=\"text-align: right;\">\n",
       "      <th></th>\n",
       "      <th>y_proba</th>\n",
       "      <th>subject</th>\n",
       "      <th>outcome</th>\n",
       "      <th>engel</th>\n",
       "      <th>ilae</th>\n",
       "      <th>center</th>\n",
       "      <th>fold</th>\n",
       "    </tr>\n",
       "  </thead>\n",
       "  <tbody>\n",
       "    <tr>\n",
       "      <th>0</th>\n",
       "      <td>0.609425</td>\n",
       "      <td>PY19N023</td>\n",
       "      <td>S</td>\n",
       "      <td>1</td>\n",
       "      <td>1.0</td>\n",
       "      <td>JHH</td>\n",
       "      <td>0</td>\n",
       "    </tr>\n",
       "    <tr>\n",
       "      <th>1</th>\n",
       "      <td>0.335533</td>\n",
       "      <td>la16</td>\n",
       "      <td>F</td>\n",
       "      <td>4</td>\n",
       "      <td>5.0</td>\n",
       "      <td>CClinic</td>\n",
       "      <td>0</td>\n",
       "    </tr>\n",
       "    <tr>\n",
       "      <th>2</th>\n",
       "      <td>0.292</td>\n",
       "      <td>rns015</td>\n",
       "      <td>F</td>\n",
       "      <td>2</td>\n",
       "      <td>NaN</td>\n",
       "      <td>Miami</td>\n",
       "      <td>0</td>\n",
       "    </tr>\n",
       "    <tr>\n",
       "      <th>3</th>\n",
       "      <td>0.653967</td>\n",
       "      <td>upmc3</td>\n",
       "      <td>F</td>\n",
       "      <td>2</td>\n",
       "      <td>3.0</td>\n",
       "      <td>UPMC</td>\n",
       "      <td>0</td>\n",
       "    </tr>\n",
       "    <tr>\n",
       "      <th>4</th>\n",
       "      <td>0.551758</td>\n",
       "      <td>la21</td>\n",
       "      <td>S</td>\n",
       "      <td>1</td>\n",
       "      <td>1.0</td>\n",
       "      <td>CClinic</td>\n",
       "      <td>0</td>\n",
       "    </tr>\n",
       "  </tbody>\n",
       "</table>\n",
       "</div>"
      ],
      "text/plain": [
       "    y_proba   subject outcome engel ilae   center fold\n",
       "0  0.609425  PY19N023       S     1  1.0      JHH    0\n",
       "1  0.335533      la16       F     4  5.0  CClinic    0\n",
       "2     0.292    rns015       F     2  NaN    Miami    0\n",
       "3  0.653967     upmc3       F     2  3.0     UPMC    0\n",
       "4  0.551758      la21       S     1  1.0  CClinic    0"
      ]
     },
     "metadata": {},
     "output_type": "display_data"
    }
   ],
   "source": [
    "proba_df = pd.DataFrame(\n",
    "    (y_probas, subj_list, outcomes, engels, ilaes, centers, folds)\n",
    ").T\n",
    "proba_df.columns = [\"y_proba\", \"subject\", \"outcome\", \"engel\", \"ilae\", \"center\", \"fold\"]\n",
    "\n",
    "proba_df[\"center\"] = proba_df[\"center\"].map(\n",
    "    {\n",
    "        \"jhu\": \"JHH\",\n",
    "        \"miami\": \"Miami\",\n",
    "        \"cc\": \"CClinic\",\n",
    "        \"upmc\": \"UPMC\",\n",
    "        \"kumc\": \"KUMC\",\n",
    "        \"nih\": \"NIH\",\n",
    "    }\n",
    ")\n",
    "\n",
    "display(proba_df.head())"
   ]
  },
  {
   "cell_type": "code",
   "execution_count": 31,
   "id": "b15e2fe0-7dbc-4298-99b5-6a1d3a8e1a1f",
   "metadata": {},
   "outputs": [
    {
     "data": {
      "image/png": "[encoded data removed]",
      "text/plain": [
       "<Figure size 720x432 with 1 Axes>"
      ]
     },
     "metadata": {
      "needs_background": "light"
     },
     "output_type": "display_data"
    }
   ],
   "source": [
    "fig, ax = plt.subplots(figsize=(10, 6))\n",
    "sns.boxplot(\n",
    "    x=\"outcome\",\n",
    "    y=\"y_proba\",\n",
    "    color=\"gray\",\n",
    "    data=proba_df,\n",
    "    ax=ax,\n",
    "    boxprops=dict(alpha=0.4),\n",
    ")\n",
    "sns.swarmplot(x=\"outcome\", y=\"y_proba\", color=\"black\", data=proba_df, ax=ax)\n",
    "\n",
    "ax.set(\n",
    "    ylabel=\"Predicted Probability of Success\",\n",
    "    xlabel=\"Surgical Outcome\",\n",
    ")\n",
    "fig.savefig(figure_dir / f\"{exp_name}_y_pred_proba_surgical_outcomes.pdf\", bbox_inches=\"tight\")"
   ]
  },
  {
   "cell_type": "markdown",
   "id": "c5c7d0bd-73e2-4d13-99d9-b4894f38180a",
   "metadata": {},
   "source": [
    "## Boundary Split Figure"
   ]
  },
  {
   "cell_type": "code",
   "execution_count": 35,
   "id": "f9f0852e-7587-491a-8be6-9297098557b6",
   "metadata": {},
   "outputs": [
    {
     "data": {
      "image/png": "[encoded data removed]",
      "text/plain": [
       "<Figure size 720x432 with 1 Axes>"
      ]
     },
     "metadata": {
      "needs_background": "light"
     },
     "output_type": "display_data"
    }
   ],
   "source": [
    "fig, ax = plt.subplots(figsize=(10, 6))\n",
    "ax.axhline([0.5], ls=\"--\", label=\"decision boundary\")\n",
    "sns.boxplot(\n",
    "    x=\"center\",\n",
    "    y=\"y_proba\",\n",
    "    data=proba_df,\n",
    "    color=\"gray\",\n",
    "    ax=ax,\n",
    "    boxprops=dict(alpha=0.4),\n",
    ")\n",
    "sns.swarmplot(x=\"center\", y=\"y_proba\", hue=\"outcome\", data=proba_df, ax=ax)\n",
    "ax.set(\n",
    "    ylabel=\"Predicted Probability of Success\",\n",
    "    xlabel=\"Clinical Center\",\n",
    ")\n",
    "ax.legend(fontsize=12)\n",
    "fig.savefig(figure_dir / f\"{exp_name}_boundary_split_center.pdf\", bbox_inches=\"tight\")"
   ]
  },
  {
   "cell_type": "markdown",
   "id": "7491bcf3-28e0-4d3e-8175-e5b99848e50c",
   "metadata": {},
   "source": [
    "## Plotting Calibration Curve"
   ]
  },
  {
   "cell_type": "code",
   "execution_count": 36,
   "id": "d85386e7-cecd-46c5-8d87-9a325068763f",
   "metadata": {},
   "outputs": [],
   "source": [
    "mean_brier = np.mean(scores[\"test_neg_brier_score\"])\n",
    "std_brier = np.std(scores[\"test_neg_brier_score\"])"
   ]
  },
  {
   "cell_type": "code",
   "execution_count": 37,
   "id": "ba1e2321-9db9-4260-8694-cc8411f507ab",
   "metadata": {},
   "outputs": [
    {
     "data": {
      "image/png": "[encoded data removed]",
      "text/plain": [
       "<Figure size 648x432 with 1 Axes>"
      ]
     },
     "metadata": {
      "needs_background": "light"
     },
     "output_type": "display_data"
    }
   ],
   "source": [
    "frac_pred_vals = []\n",
    "mean_pred_values = np.linspace(0, 1.0, 200)\n",
    "\n",
    "fig, ax = plt.subplots(figsize=(9, 6))\n",
    "color = \"blue\"\n",
    "for idx in range(n_splits):\n",
    "    y_pred_proba = scores[f\"{which_set}_y_pred_proba\"][idx]\n",
    "\n",
    "    mean_predicted_value = scores[f\"{which_set}_mean_pred_value\"][idx]\n",
    "    fraction_of_positives = scores[f\"{which_set}_fraction_pos\"][idx]\n",
    "\n",
    "    # create a linear interpolation of the calibration\n",
    "    interp_frac_positives = np.interp(\n",
    "        mean_pred_values, mean_predicted_value, fraction_of_positives\n",
    "    )\n",
    "\n",
    "    # store curves\n",
    "    frac_pred_vals.append(interp_frac_positives)\n",
    "#     ax.plot(mean_pred_values, interp_frac_positives, \"s-\", alpha=0.5)\n",
    "\n",
    "# get the mean calibration curve\n",
    "mean_frac_pred_values = np.mean(frac_pred_vals, axis=0)\n",
    "ax.plot(\n",
    "    mean_pred_values,\n",
    "    mean_frac_pred_values,\n",
    "    \"s-\",\n",
    "    label=rf\"(Neg. Brier Loss = {np.round(mean_brier,3)} $\\pm$ {np.round(std_brier, 3)})\",\n",
    ")\n",
    "\n",
    "# get upper and lower bound for tpr\n",
    "std_fpv = np.std(frac_pred_vals, axis=0)\n",
    "tprs_upper = np.minimum(mean_frac_pred_values + std_fpv, 1)\n",
    "tprs_lower = np.maximum(mean_frac_pred_values - std_fpv, 0)\n",
    "ax.fill_between(\n",
    "    mean_pred_values,\n",
    "    tprs_lower,\n",
    "    tprs_upper,\n",
    "    color=color,\n",
    "    alpha=0.2,\n",
    "    label=r\"$\\pm$ 1 std. dev.\",\n",
    ")\n",
    "ax.plot([0, 1], [0, 1], \"k:\", label=\"Perfectly calibrated\")\n",
    "\n",
    "\n",
    "ax.set(\n",
    "    ylabel=\"Fraction of Success Outcomes\",\n",
    "    ylim=[-0.05, 1.05],\n",
    "    xlabel=\"Mean Predicted Success Probabilities of Subjects\",\n",
    "    title=\"Calibration (Reliability) Curve\",\n",
    ")\n",
    "\n",
    "ax.legend(loc=\"lower right\", fontsize=12)\n",
    "\n",
    "fig.savefig(figure_dir / f\"{exp_name}_calibration_curve.pdf\", bbox_inches=\"tight\")"
   ]
  },
  {
   "cell_type": "markdown",
   "id": "080adab9-93a0-43ac-b6b5-b8e44412a0c8",
   "metadata": {},
   "source": [
    "# McNemars Test To Compare Two Different Classification Scenarios"
   ]
  },
  {
   "cell_type": "code",
   "execution_count": 55,
   "id": "27d8c959-da25-4479-b0ec-3bbe455a85eb",
   "metadata": {},
   "outputs": [],
   "source": [
    "from numpy.testing import assert_array_equal"
   ]
  },
  {
   "cell_type": "code",
   "execution_count": 56,
   "id": "e41fdac9-9b5a-4665-b10e-4fc30d3d20f1",
   "metadata": {},
   "outputs": [],
   "source": [
    "from sklearn import preprocessing\n",
    "\n",
    "enc = preprocessing.OrdinalEncoder()"
   ]
  },
  {
   "cell_type": "code",
   "execution_count": 57,
   "id": "80a7644d-8203-439e-ad71-b55ac9015364",
   "metadata": {},
   "outputs": [],
   "source": [
    "y_target = []\n",
    "y_modelhfo = []\n",
    "y_modelss = []\n",
    "\n",
    "y_subjs = []\n",
    "for idx in range(n_splits):\n",
    "    y = ss_scores[\"test_subjects\"][idx]\n",
    "    hfo_y = hfo_scores[\"test_subjects\"][idx]\n",
    "\n",
    "    assert_array_equal(y, hfo_y)\n",
    "    y_subjs.extend(y)\n",
    "\n",
    "    y_predhfo = hfo_scores[\"test_y_pred_proba\"][idx]\n",
    "    y_predss = ss_scores[\"test_y_pred_proba\"][idx]\n",
    "    y_modelhfo.extend(y_predhfo)\n",
    "    y_modelss.extend(y_predss)"
   ]
  },
  {
   "cell_type": "code",
   "execution_count": 58,
   "id": "7aca55c7-2100-43c9-a49d-f5769f603899",
   "metadata": {},
   "outputs": [],
   "source": [
    "for subject in y_subjs:\n",
    "    outcome = meta_df[meta_df[\"patient_id\"] == subject][\"outcome\"].values[0]\n",
    "    y_target.append(outcome)\n",
    "\n",
    "y_target = enc.fit_transform(np.array(y_target)[:, np.newaxis]).squeeze()\n",
    "y_modelss = np.array(y_modelss).round()\n",
    "y_modelhfo = np.array(y_modelhfo).round()"
   ]
  },
  {
   "cell_type": "code",
   "execution_count": 59,
   "id": "efb3ce45-e146-40f9-a0ab-da10fc5f379b",
   "metadata": {},
   "outputs": [
    {
     "name": "stdout",
     "output_type": "stream",
     "text": [
      "[[98 60]\n",
      " [33  9]]\n"
     ]
    }
   ],
   "source": [
    "tb = mcnemar_table(y_target=y_target, y_model1=y_modelss, y_model2=y_modelhfo)\n",
    "print(tb)"
   ]
  },
  {
   "cell_type": "code",
   "execution_count": 60,
   "id": "fc50b3a7-3865-4d0b-83f3-482b870ee492",
   "metadata": {},
   "outputs": [
    {
     "name": "stdout",
     "output_type": "stream",
     "text": [
      "chi-squared: 7.268817204301075\n",
      "p-value: 0.0070161992342396284\n"
     ]
    }
   ],
   "source": [
    "chi2, p = mcnemar(ary=tb, corrected=True)\n",
    "print(\"chi-squared:\", chi2)\n",
    "print(\"p-value:\", p)"
   ]
  },
  {
   "cell_type": "markdown",
   "id": "b1fbf7b0-e493-41e9-a591-dc2fa34b1428",
   "metadata": {
    "tags": []
   },
   "source": [
    "# Plots Comparing HFO and Source Sink"
   ]
  },
  {
   "cell_type": "code",
   "execution_count": 59,
   "id": "7e9bb637-a96c-4df3-95e0-44c628e6c81e",
   "metadata": {},
   "outputs": [],
   "source": [
    "which_set = \"test\"\n",
    "\n",
    "aucs = []\n",
    "precisions = []\n",
    "recalls = []\n",
    "specificities = []\n",
    "accuracies = []\n",
    "clfs = []\n",
    "\n",
    "for clf in [\"HFO\", \"Source-Sink\"]:\n",
    "    if clf == \"HFO\":\n",
    "        scores = hfo_scores\n",
    "    elif clf == \"Source-Sink\":\n",
    "        scores = ss_scores\n",
    "\n",
    "    for idx in range(n_splits):\n",
    "        auc_ = scores[f\"{which_set}_roc_auc\"][idx]\n",
    "        precision_ = scores[f\"{which_set}_average_precision\"][idx]\n",
    "        acc = scores[f\"{which_set}_balanced_accuracy\"][idx]\n",
    "        sens = scores[f\"{which_set}_recall\"][idx]\n",
    "        spec = scores[f\"{which_set}_specificity\"][idx]\n",
    "\n",
    "        aucs.append(auc_)\n",
    "        precisions.append(precision_)\n",
    "        accuracies.append(acc)\n",
    "        recalls.append(sens)\n",
    "        specificities.append(spec)\n",
    "        clfs.append(clf)\n",
    "\n",
    "comp_df = pd.DataFrame((aucs, precisions, accuracies, recalls, specificities, clfs)).T\n",
    "comp_df.columns = [\n",
    "    \"AUC\",\n",
    "    \"Average Precision\",\n",
    "    \"Accuracy\",\n",
    "    \"Sensitivity\",\n",
    "    \"Specificity\",\n",
    "    \"Feature\",\n",
    "]"
   ]
  },
  {
   "cell_type": "code",
   "execution_count": 60,
   "id": "f8c042be-e7e9-49ce-ab9e-9ef2487a918d",
   "metadata": {},
   "outputs": [
    {
     "data": {
      "text/html": [
       "<div>\n",
       "<style scoped>\n",
       "    .dataframe tbody tr th:only-of-type {\n",
       "        vertical-align: middle;\n",
       "    }\n",
       "\n",
       "    .dataframe tbody tr th {\n",
       "        vertical-align: top;\n",
       "    }\n",
       "\n",
       "    .dataframe thead th {\n",
       "        text-align: right;\n",
       "    }\n",
       "</style>\n",
       "<table border=\"1\" class=\"dataframe\">\n",
       "  <thead>\n",
       "    <tr style=\"text-align: right;\">\n",
       "      <th></th>\n",
       "      <th>AUC</th>\n",
       "      <th>Average Precision</th>\n",
       "      <th>Accuracy</th>\n",
       "      <th>Sensitivity</th>\n",
       "      <th>Specificity</th>\n",
       "      <th>Feature</th>\n",
       "    </tr>\n",
       "  </thead>\n",
       "  <tbody>\n",
       "    <tr>\n",
       "      <th>0</th>\n",
       "      <td>0.787879</td>\n",
       "      <td>0.821022</td>\n",
       "      <td>0.787879</td>\n",
       "      <td>0.666667</td>\n",
       "      <td>0.909091</td>\n",
       "      <td>HFO</td>\n",
       "    </tr>\n",
       "    <tr>\n",
       "      <th>1</th>\n",
       "      <td>0.656566</td>\n",
       "      <td>0.665096</td>\n",
       "      <td>0.575758</td>\n",
       "      <td>0.333333</td>\n",
       "      <td>0.818182</td>\n",
       "      <td>HFO</td>\n",
       "    </tr>\n",
       "    <tr>\n",
       "      <th>2</th>\n",
       "      <td>0.727273</td>\n",
       "      <td>0.636522</td>\n",
       "      <td>0.676768</td>\n",
       "      <td>0.444444</td>\n",
       "      <td>0.909091</td>\n",
       "      <td>HFO</td>\n",
       "    </tr>\n",
       "    <tr>\n",
       "      <th>3</th>\n",
       "      <td>0.555556</td>\n",
       "      <td>0.615104</td>\n",
       "      <td>0.414141</td>\n",
       "      <td>0.555556</td>\n",
       "      <td>0.272727</td>\n",
       "      <td>HFO</td>\n",
       "    </tr>\n",
       "    <tr>\n",
       "      <th>4</th>\n",
       "      <td>0.707071</td>\n",
       "      <td>0.748319</td>\n",
       "      <td>0.69697</td>\n",
       "      <td>0.666667</td>\n",
       "      <td>0.727273</td>\n",
       "      <td>HFO</td>\n",
       "    </tr>\n",
       "  </tbody>\n",
       "</table>\n",
       "</div>"
      ],
      "text/plain": [
       "        AUC Average Precision  Accuracy Sensitivity Specificity Feature\n",
       "0  0.787879          0.821022  0.787879    0.666667    0.909091     HFO\n",
       "1  0.656566          0.665096  0.575758    0.333333    0.818182     HFO\n",
       "2  0.727273          0.636522  0.676768    0.444444    0.909091     HFO\n",
       "3  0.555556          0.615104  0.414141    0.555556    0.272727     HFO\n",
       "4  0.707071          0.748319   0.69697    0.666667    0.727273     HFO"
      ]
     },
     "metadata": {},
     "output_type": "display_data"
    }
   ],
   "source": [
    "display(comp_df.head())"
   ]
  },
  {
   "cell_type": "code",
   "execution_count": 61,
   "id": "3b2d4b8a-8bcb-42ac-a805-af218b0768bf",
   "metadata": {},
   "outputs": [
    {
     "data": {
      "text/html": [
       "<div>\n",
       "<style scoped>\n",
       "    .dataframe tbody tr th:only-of-type {\n",
       "        vertical-align: middle;\n",
       "    }\n",
       "\n",
       "    .dataframe tbody tr th {\n",
       "        vertical-align: top;\n",
       "    }\n",
       "\n",
       "    .dataframe thead th {\n",
       "        text-align: right;\n",
       "    }\n",
       "</style>\n",
       "<table border=\"1\" class=\"dataframe\">\n",
       "  <thead>\n",
       "    <tr style=\"text-align: right;\">\n",
       "      <th></th>\n",
       "      <th>Feature</th>\n",
       "      <th>Metric</th>\n",
       "      <th>Value</th>\n",
       "    </tr>\n",
       "  </thead>\n",
       "  <tbody>\n",
       "    <tr>\n",
       "      <th>0</th>\n",
       "      <td>HFO</td>\n",
       "      <td>AUC</td>\n",
       "      <td>0.787879</td>\n",
       "    </tr>\n",
       "    <tr>\n",
       "      <th>1</th>\n",
       "      <td>HFO</td>\n",
       "      <td>AUC</td>\n",
       "      <td>0.656566</td>\n",
       "    </tr>\n",
       "    <tr>\n",
       "      <th>2</th>\n",
       "      <td>HFO</td>\n",
       "      <td>AUC</td>\n",
       "      <td>0.727273</td>\n",
       "    </tr>\n",
       "    <tr>\n",
       "      <th>3</th>\n",
       "      <td>HFO</td>\n",
       "      <td>AUC</td>\n",
       "      <td>0.555556</td>\n",
       "    </tr>\n",
       "    <tr>\n",
       "      <th>4</th>\n",
       "      <td>HFO</td>\n",
       "      <td>AUC</td>\n",
       "      <td>0.707071</td>\n",
       "    </tr>\n",
       "  </tbody>\n",
       "</table>\n",
       "</div>"
      ],
      "text/plain": [
       "  Feature Metric     Value\n",
       "0     HFO    AUC  0.787879\n",
       "1     HFO    AUC  0.656566\n",
       "2     HFO    AUC  0.727273\n",
       "3     HFO    AUC  0.555556\n",
       "4     HFO    AUC  0.707071"
      ]
     },
     "metadata": {},
     "output_type": "display_data"
    }
   ],
   "source": [
    "df = pd.melt(\n",
    "    comp_df,\n",
    "    id_vars=[\"Feature\"],\n",
    "    value_name=\"Value\",\n",
    "    var_name=\"Metric\",\n",
    ")\n",
    "\n",
    "display(df.head())"
   ]
  },
  {
   "cell_type": "code",
   "execution_count": 64,
   "id": "8064e5a5-04a9-4873-b713-43353e05efd2",
   "metadata": {},
   "outputs": [
    {
     "name": "stderr",
     "output_type": "stream",
     "text": [
      "/opt/conda/lib/python3.8/site-packages/seaborn/categorical.py:3002: UserWarning: The `split` parameter has been renamed to `dodge`.\n",
      "  warnings.warn(msg, UserWarning)\n"
     ]
    },
    {
     "data": {
      "image/png": "[encoded data removed]",
      "text/plain": [
       "<Figure size 720x432 with 1 Axes>"
      ]
     },
     "metadata": {
      "needs_background": "light"
     },
     "output_type": "display_data"
    }
   ],
   "source": [
    "fig, ax = plt.subplots(figsize=(10, 6))\n",
    "sns.boxplot(\n",
    "    x=\"Metric\", y=\"Value\", hue=\"Feature\", data=df, ax=ax, boxprops=dict(alpha=0.4)\n",
    ")\n",
    "sns.swarmplot(x=\"Metric\", y=\"Value\", hue=\"Feature\", data=df, ax=ax, split=True)\n",
    "\n",
    "handles, labels = ax.get_legend_handles_labels()\n",
    "ax.legend(handles[:2], labels[:2])\n",
    "ax.set(\n",
    "    xlabel=\"Cross-Validated Metric\",\n",
    "    ylabel=\"Test Set Metric Value\",\n",
    ")\n",
    "fig.savefig(figure_dir / \"compare_metrics.pdf\", bbox_inches=\"tight\")"
   ]
  },
  {
   "cell_type": "markdown",
   "id": "381bb524-93ee-49c6-9173-8bba8d94664c",
   "metadata": {},
   "source": [
    "# Look at Feature Importances"
   ]
  },
  {
   "cell_type": "code",
   "execution_count": 88,
   "id": "8b6f36b9-18f3-45b1-94b3-1266eb33bef8",
   "metadata": {},
   "outputs": [],
   "source": [
    "scores = ss_scores"
   ]
  },
  {
   "cell_type": "code",
   "execution_count": 89,
   "id": "e50acfaf-8d8d-473a-b37f-9a3e0d9a5e38",
   "metadata": {},
   "outputs": [
    {
     "name": "stdout",
     "output_type": "stream",
     "text": [
      "dict_keys(['fit_time', 'score_time', 'test_roc_auc', 'train_roc_auc', 'test_accuracy', 'train_accuracy', 'test_balanced_accuracy', 'train_balanced_accuracy', 'test_average_precision', 'train_average_precision', 'test_precision', 'train_precision', 'test_neg_brier_score', 'train_neg_brier_score', 'test_recall', 'train_recall', 'test_f1', 'train_f1', 'test_fraction_pos', 'test_mean_pred_value', 'test_fpr', 'test_tpr', 'test_fnr', 'test_tnr', 'test_thresholds', 'train_fraction_pos', 'train_mean_pred_value', 'train_y_pred_proba', 'train_fpr', 'train_tpr', 'train_fnr', 'train_tnr', 'train_thresholds', 'train_subjects', 'test_subjects', 'test_y_pred_proba', 'test_importances', 'test_specificity'])\n"
     ]
    }
   ],
   "source": [
    "print(scores.keys())"
   ]
  },
  {
   "cell_type": "code",
   "execution_count": 93,
   "id": "ca323ef0-380c-4151-a295-b2cb6abc86d6",
   "metadata": {},
   "outputs": [
    {
     "name": "stdout",
     "output_type": "stream",
     "text": [
      "10\n"
     ]
    }
   ],
   "source": [
    "importances = scores[\"test_importances\"]\n",
    "print(len(importances))"
   ]
  },
  {
   "cell_type": "code",
   "execution_count": null,
   "id": "baa6b7b4-534b-488c-9680-65c3d6ac18fa",
   "metadata": {},
   "outputs": [],
   "source": [
    "mean_imp = scores[\"test_neg_brier_score\"]\n",
    "std_imp = scores[\"test_\"]"
   ]
  },
  {
   "cell_type": "code",
   "execution_count": null,
   "id": "f3aea42d-6125-4565-95ec-5182a5e25e15",
   "metadata": {},
   "outputs": [],
   "source": []
  }
 ],
 "metadata": {
  "kernelspec": {
   "display_name": "episcalp",
   "language": "python",
   "name": "episcalp"
  },
  "language_info": {
   "codemirror_mode": {
    "name": "ipython",
    "version": 3
   },
   "file_extension": ".py",
   "mimetype": "text/x-python",
   "name": "python",
   "nbconvert_exporter": "python",
   "pygments_lexer": "ipython3",
   "version": "3.8.10"
  }
 },
 "nbformat": 4,
 "nbformat_minor": 5
}
