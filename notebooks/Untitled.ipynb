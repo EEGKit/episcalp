{
 "cells": [
  {
   "cell_type": "code",
   "execution_count": 1,
   "id": "9b1b52f4-2b01-4eec-9d4a-c29313953c53",
   "metadata": {},
   "outputs": [
    {
     "name": "stdout",
     "output_type": "stream",
     "text": [
      "/Users/adam2392/Documents/episcalp/notebooks\n"
     ]
    }
   ],
   "source": [
    "import logging\n",
    "from pathlib import Path\n",
    "from mne.time_frequency.tfr import tfr_multitaper\n",
    "from mne_bids.path import get_entities_from_fname\n",
    "import numpy as np\n",
    "import pandas as pd\n",
    "import mne\n",
    "from mne_bids import BIDSPath, get_entity_vals\n",
    "from mne.time_frequency import stft\n",
    "from mne import make_fixed_length_epochs\n",
    "\n",
    "from eztrack.utils import logger\n",
    "\n",
    "import sys\n",
    "import os\n",
    "\n",
    "sys.path.append(\"../\")\n",
    "sys.path.append(\"./episcalp\")\n",
    "print(os.getcwd())\n",
    "from episcalp.io import read_scalp_eeg\n",
    "\n",
    "logger.setLevel(logging.DEBUG)\n"
   ]
  },
  {
   "cell_type": "code",
   "execution_count": 13,
   "id": "87810025-1531-49a9-b9a2-b078f6f820c6",
   "metadata": {},
   "outputs": [
    {
     "name": "stdout",
     "output_type": "stream",
     "text": [
      "Found filepaths for jhh001: [PosixPath('/Users/adam2392/Johns Hopkins/Scalp EEG JHH - Documents/bids/derivatives/ICA/1-30Hz-30/win-20/sub-jhh001/eeg/sub-jhh001_run-01_eeg.edf')].\n",
      "Analyzing /Users/adam2392/Johns Hopkins/Scalp EEG JHH - Documents/bids/derivatives/ICA/1-30Hz-30/win-20/sub-jhh001/eeg/sub-jhh001_run-01_eeg.edf\n",
      "Looked at ['standard_1020', 'EGI_256', 'GSN-HydroCel-128', 'GSN-HydroCel-129', 'GSN-HydroCel-256', 'GSN-HydroCel-257', 'GSN-HydroCel-32', 'GSN-HydroCel-64_1.0', 'GSN-HydroCel-65_1.0', 'biosemi128', 'biosemi16', 'biosemi160', 'biosemi256', 'biosemi32', 'biosemi64', 'easycap-M1', 'easycap-M10', 'mgh60', 'mgh70', 'standard_1005', 'standard_1020', 'standard_alphabetic', 'standard_postfixed', 'standard_prefixed', 'standard_primed', 'artinis-octamon', 'artinis-brite23'] to find good match...\n",
      "Going to use standard_1020 as the montage.\n",
      "Going to drop [] channels...\n",
      "Dropping these channels that are not in standard_1020 montage:  []\n"
     ]
    },
    {
     "name": "stderr",
     "output_type": "stream",
     "text": [
      "[Parallel(n_jobs=8)]: Using backend LokyBackend with 8 concurrent workers.\n",
      "[Parallel(n_jobs=8)]: Done  13 out of  16 | elapsed:    1.1s remaining:    0.3s\n",
      "[Parallel(n_jobs=8)]: Done  16 out of  16 | elapsed:    1.2s finished\n"
     ]
    },
    {
     "name": "stdout",
     "output_type": "stream",
     "text": [
      "Saving to /Users/adam2392/Johns Hopkins/Scalp EEG JHH - Documents/bids/derivatives/tfr/delta/sub-jhh001/sub-jhh001_run-01_desc-delta_eeg-tfr.h5.edf\n"
     ]
    }
   ],
   "source": [
    "root = Path(\"/Users/adam2392/Johns Hopkins/Scalp EEG JHH - Documents/bids/\")\n",
    "deriv_root = root / \"derivatives\"\n",
    "bids_root = deriv_root / 'ICA' / '1-30Hz-30' / 'win-20'\n",
    "\n",
    "figures_path = deriv_root\n",
    "\n",
    "# define BIDS entities\n",
    "IGNORE_SUBJECTS = []\n",
    "FREQ_BANDS = {\n",
    "    'delta': np.arange(1, 4, 0.5),\n",
    "    'theta': np.arange(4, 8, 0.5),\n",
    "    'alpha': np.arange(8, 12, 0.5),\n",
    "    'beta': np.arange(12, 30, 1)\n",
    "}\n",
    "freq_band = 'delta'\n",
    "\n",
    "deriv_chain = Path('tfr') / freq_band\n",
    "\n",
    "datatype = \"eeg\"\n",
    "extension = \".edf\"\n",
    "n_jobs = -1\n",
    "# analysis parameters\n",
    "reference = \"monopolar\"\n",
    "sfreq = None\n",
    "overwrite = False\n",
    "\n",
    "# get the runs for this subject\n",
    "all_subjects = get_entity_vals(bids_root, \"subject\")\n",
    "\n",
    "for subject in all_subjects:\n",
    "    if subject in IGNORE_SUBJECTS:\n",
    "        continue\n",
    "\n",
    "    ignore_subs = [sub for sub in all_subjects if sub != subject]\n",
    "    subj_dir = bids_root / f\"sub-{subject}\"\n",
    "\n",
    "    fpaths = list(subj_dir.rglob('*.edf'))\n",
    "\n",
    "    print(f\"Found filepaths for {subject}: {fpaths}.\")\n",
    "\n",
    "    for idx, fpath in enumerate(fpaths):\n",
    "        entities = get_entities_from_fname(fpath.name)\n",
    "\n",
    "        # create path for the dataset\n",
    "        bids_path = BIDSPath(\n",
    "            **entities,\n",
    "            datatype=datatype,\n",
    "            root=bids_root,\n",
    "            extension=extension,\n",
    "        )\n",
    "        print(f\"Analyzing {bids_path}\")\n",
    "\n",
    "        raw = read_scalp_eeg(bids_path, reference=reference)\n",
    "\n",
    "        # run TFR analysis\n",
    "        epochs = make_fixed_length_epochs(raw, duration=2, overlap=1)\n",
    "\n",
    "        freqs = FREQ_BANDS[freq_band]\n",
    "\n",
    "        epochs_tfr  = tfr_multitaper(epochs, freqs, n_jobs=n_jobs, n_cycles = freqs/2., return_itc=False, average=False)\n",
    "        \n",
    "        deriv_fpath = deriv_root / deriv_chain / f'sub-{subject}' / bids_path.copy().update(\n",
    "            check=False, suffix=f'desc-{freq_band}_eeg-tfr.h5').basename\n",
    "        deriv_fpath.parent.mkdir(exist_ok=True, parents=True)\n",
    "        print(f'Saving to {deriv_fpath}')\n",
    "        epochs_tfr.save(deriv_fpath)\n",
    "        break\n",
    "        \n",
    "    break"
   ]
  },
  {
   "cell_type": "code",
   "execution_count": 7,
   "id": "6cb6e1b7-c5d6-4e1e-b5d5-d03b066aa73a",
   "metadata": {},
   "outputs": [
    {
     "name": "stdout",
     "output_type": "stream",
     "text": [
      "<Epochs |  653 events (all good), 0 - 1.995 sec, baseline off, ~33 kB, data not loaded,\n",
      " '1': 653>\n",
      "[[     0      0      1]\n",
      " [   300      0      1]\n",
      " [   600      0      1]\n",
      " ...\n",
      " [195000      0      1]\n",
      " [195300      0      1]\n",
      " [195600      0      1]]\n"
     ]
    }
   ],
   "source": [
    "print(epochs)\n",
    "print(epochs.events)"
   ]
  },
  {
   "cell_type": "code",
   "execution_count": 19,
   "id": "db5e67de-28a6-48a8-b5e0-fe6b06d327cb",
   "metadata": {},
   "outputs": [
    {
     "name": "stdout",
     "output_type": "stream",
     "text": [
      "<Info | 10 non-empty values\n",
      " bads: []\n",
      " ch_names: Fp1, Fp2, F3, F4, C3, C4, P3, P4, O1, O2, F7, F8, T3, T4, T5, T6\n",
      " chs: 16 EEG\n",
      " custom_ref_applied: False\n",
      " dig: 22 items (3 Cardinal, 19 EEG)\n",
      " highpass: 1.0 Hz\n",
      " line_freq: 60\n",
      " lowpass: 30.0 Hz\n",
      " meas_date: 2021-09-28 10:30:19 UTC\n",
      " nchan: 16\n",
      " projs: []\n",
      " sfreq: 200.0 Hz\n",
      " subject_info: 6 items (dict)\n",
      ">\n",
      "<EpochsTFR | time : [0.000000, 1.995000], freq : [1.000000, 3.500000], epochs : 980, channels : 16, ~287.1 MB>\n",
      "[[     0      0      1]\n",
      " [   200      0      1]\n",
      " [   400      0      1]\n",
      " ...\n",
      " [195400      0      1]\n",
      " [195600      0      1]\n",
      " [195800      0      1]]\n",
      "{'1': 1}\n"
     ]
    }
   ],
   "source": [
    "print(epochs_tfr.info)\n",
    "print(epochs_tfr)\n",
    "print(epochs_tfr.events)\n",
    "print(epochs_tfr.event_id)"
   ]
  },
  {
   "cell_type": "code",
   "execution_count": null,
   "id": "87a90c64-a659-492c-847f-e587c56beb54",
   "metadata": {},
   "outputs": [],
   "source": []
  }
 ],
 "metadata": {
  "kernelspec": {
   "display_name": "episcalp",
   "language": "python",
   "name": "episcalp"
  },
  "language_info": {
   "codemirror_mode": {
    "name": "ipython",
    "version": 3
   },
   "file_extension": ".py",
   "mimetype": "text/x-python",
   "name": "python",
   "nbconvert_exporter": "python",
   "pygments_lexer": "ipython3",
   "version": "3.8.10"
  }
 },
 "nbformat": 4,
 "nbformat_minor": 5
}
